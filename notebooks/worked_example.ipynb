{
 "cells": [
  {
   "cell_type": "markdown",
   "metadata": {},
   "source": [
    "## Load Data"
   ]
  },
  {
   "cell_type": "markdown",
   "metadata": {},
   "source": [
    "### Individual Constraints (PUMS)"
   ]
  },
  {
   "cell_type": "code",
   "execution_count": 1,
   "metadata": {
    "execution": {
     "iopub.execute_input": "2025-02-10T20:50:16.298024Z",
     "iopub.status.busy": "2025-02-10T20:50:16.296374Z",
     "iopub.status.idle": "2025-02-10T20:50:16.515635Z",
     "shell.execute_reply": "2025-02-10T20:50:16.515065Z"
    },
    "vscode": {
     "languageId": "r"
    }
   },
   "outputs": [],
   "source": [
    "cind <- read.csv(\"../data/knox/cind_4701603.csv.gz\")\n",
    "rownames(cind) <- cind$SERIALNO\n",
    "cind <- cind[,-1]"
   ]
  },
  {
   "cell_type": "code",
   "execution_count": 2,
   "metadata": {
    "execution": {
     "iopub.execute_input": "2025-02-10T20:50:16.527029Z",
     "iopub.status.busy": "2025-02-10T20:50:16.516441Z",
     "iopub.status.idle": "2025-02-10T20:50:16.534708Z",
     "shell.execute_reply": "2025-02-10T20:50:16.534261Z"
    },
    "vscode": {
     "languageId": "r"
    }
   },
   "outputs": [],
   "source": [
    "# fix column dtypes\n",
    "for (col in names(cind)){\n",
    "\n",
    "    if(class(cind[,col]) == \"character\"){\n",
    "\n",
    "        cind[,col] <- ifelse(\n",
    "            cind[,col] == \"True\", 1, \n",
    "                ifelse(cind[,col] == \"False\", 0, NA)\n",
    "            )\n",
    "\n",
    "    } \n",
    "\n",
    "}"
   ]
  },
  {
   "cell_type": "code",
   "execution_count": 3,
   "metadata": {
    "execution": {
     "iopub.execute_input": "2025-02-10T20:50:16.535798Z",
     "iopub.status.busy": "2025-02-10T20:50:16.535461Z",
     "iopub.status.idle": "2025-02-10T20:50:16.538475Z",
     "shell.execute_reply": "2025-02-10T20:50:16.538070Z"
    },
    "vscode": {
     "languageId": "r"
    }
   },
   "outputs": [],
   "source": [
    "# output too long - uncomment & run interactively\n",
    "# summary(cind)"
   ]
  },
  {
   "cell_type": "code",
   "execution_count": 4,
   "metadata": {
    "execution": {
     "iopub.execute_input": "2025-02-10T20:50:16.539563Z",
     "iopub.status.busy": "2025-02-10T20:50:16.539206Z",
     "iopub.status.idle": "2025-02-10T20:50:16.568136Z",
     "shell.execute_reply": "2025-02-10T20:50:16.567677Z"
    }
   },
   "outputs": [
    {
     "data": {
      "text/html": [
       "<table class=\"dataframe\">\n",
       "<caption>A data.frame: 6 × 182</caption>\n",
       "<thead>\n",
       "\t<tr><th></th><th scope=col>population</th><th scope=col>group_quarters_pop</th><th scope=col>housing_units</th><th scope=col>occhu</th><th scope=col>civ_noninst_pop</th><th scope=col>male_hours_GE35</th><th scope=col>male_hours_15.34</th><th scope=col>male_hours_1.14</th><th scope=col>female_hours_GE35</th><th scope=col>female_hours_15.34</th><th scope=col>⋯</th><th scope=col>txv_own_02_vehicle</th><th scope=col>txv_own_03_vehicle</th><th scope=col>txv_own_04_vehicle</th><th scope=col>txv_own_GE05_vehicle</th><th scope=col>txv_rent_no_vehicle</th><th scope=col>txv_rent_01_vehicle</th><th scope=col>txv_rent_02_vehicle</th><th scope=col>txv_rent_03_vehicle</th><th scope=col>txv_rent_04_vehicle</th><th scope=col>txv_rent_GE05_vehicle</th></tr>\n",
       "\t<tr><th></th><th scope=col>&lt;dbl&gt;</th><th scope=col>&lt;dbl&gt;</th><th scope=col>&lt;int&gt;</th><th scope=col>&lt;int&gt;</th><th scope=col>&lt;dbl&gt;</th><th scope=col>&lt;dbl&gt;</th><th scope=col>&lt;dbl&gt;</th><th scope=col>&lt;dbl&gt;</th><th scope=col>&lt;dbl&gt;</th><th scope=col>&lt;dbl&gt;</th><th scope=col>⋯</th><th scope=col>&lt;dbl&gt;</th><th scope=col>&lt;dbl&gt;</th><th scope=col>&lt;dbl&gt;</th><th scope=col>&lt;dbl&gt;</th><th scope=col>&lt;dbl&gt;</th><th scope=col>&lt;dbl&gt;</th><th scope=col>&lt;dbl&gt;</th><th scope=col>&lt;dbl&gt;</th><th scope=col>&lt;dbl&gt;</th><th scope=col>&lt;dbl&gt;</th></tr>\n",
       "</thead>\n",
       "<tbody>\n",
       "\t<tr><th scope=row>2015000000763</th><td>2.760000</td><td>0</td><td>1</td><td>1</td><td>2.760000</td><td>1</td><td>0</td><td>0</td><td>0.0000000</td><td>0.000</td><td>⋯</td><td>0</td><td>0</td><td>0</td><td>0</td><td>0</td><td>1</td><td>0</td><td>0</td><td>0</td><td>0</td></tr>\n",
       "\t<tr><th scope=row>2015000001743</th><td>2.714286</td><td>0</td><td>1</td><td>1</td><td>2.714286</td><td>1</td><td>0</td><td>0</td><td>0.9285714</td><td>0.000</td><td>⋯</td><td>0</td><td>1</td><td>0</td><td>0</td><td>0</td><td>0</td><td>0</td><td>0</td><td>0</td><td>0</td></tr>\n",
       "\t<tr><th scope=row>2015000004434</th><td>5.875000</td><td>0</td><td>1</td><td>1</td><td>5.875000</td><td>1</td><td>0</td><td>0</td><td>0.0000000</td><td>1.125</td><td>⋯</td><td>0</td><td>0</td><td>0</td><td>0</td><td>0</td><td>0</td><td>0</td><td>0</td><td>0</td><td>0</td></tr>\n",
       "\t<tr><th scope=row>2015000010209</th><td>2.177419</td><td>0</td><td>1</td><td>1</td><td>2.177419</td><td>0</td><td>0</td><td>0</td><td>0.0000000</td><td>0.000</td><td>⋯</td><td>0</td><td>0</td><td>0</td><td>0</td><td>1</td><td>0</td><td>0</td><td>0</td><td>0</td><td>0</td></tr>\n",
       "\t<tr><th scope=row>2015000011609</th><td>1.000000</td><td>1</td><td>0</td><td>0</td><td>1.000000</td><td>0</td><td>0</td><td>0</td><td>0.0000000</td><td>1.000</td><td>⋯</td><td>0</td><td>0</td><td>0</td><td>0</td><td>0</td><td>0</td><td>0</td><td>0</td><td>0</td><td>0</td></tr>\n",
       "\t<tr><th scope=row>2015000013399</th><td>1.000000</td><td>0</td><td>1</td><td>1</td><td>1.000000</td><td>0</td><td>0</td><td>0</td><td>0.0000000</td><td>0.000</td><td>⋯</td><td>0</td><td>0</td><td>0</td><td>0</td><td>0</td><td>0</td><td>0</td><td>0</td><td>0</td><td>0</td></tr>\n",
       "</tbody>\n",
       "</table>\n"
      ],
      "text/latex": [
       "A data.frame: 6 × 182\n",
       "\\begin{tabular}{r|lllllllllllllllllllll}\n",
       "  & population & group\\_quarters\\_pop & housing\\_units & occhu & civ\\_noninst\\_pop & male\\_hours\\_GE35 & male\\_hours\\_15.34 & male\\_hours\\_1.14 & female\\_hours\\_GE35 & female\\_hours\\_15.34 & ⋯ & txv\\_own\\_02\\_vehicle & txv\\_own\\_03\\_vehicle & txv\\_own\\_04\\_vehicle & txv\\_own\\_GE05\\_vehicle & txv\\_rent\\_no\\_vehicle & txv\\_rent\\_01\\_vehicle & txv\\_rent\\_02\\_vehicle & txv\\_rent\\_03\\_vehicle & txv\\_rent\\_04\\_vehicle & txv\\_rent\\_GE05\\_vehicle\\\\\n",
       "  & <dbl> & <dbl> & <int> & <int> & <dbl> & <dbl> & <dbl> & <dbl> & <dbl> & <dbl> & ⋯ & <dbl> & <dbl> & <dbl> & <dbl> & <dbl> & <dbl> & <dbl> & <dbl> & <dbl> & <dbl>\\\\\n",
       "\\hline\n",
       "\t2015000000763 & 2.760000 & 0 & 1 & 1 & 2.760000 & 1 & 0 & 0 & 0.0000000 & 0.000 & ⋯ & 0 & 0 & 0 & 0 & 0 & 1 & 0 & 0 & 0 & 0\\\\\n",
       "\t2015000001743 & 2.714286 & 0 & 1 & 1 & 2.714286 & 1 & 0 & 0 & 0.9285714 & 0.000 & ⋯ & 0 & 1 & 0 & 0 & 0 & 0 & 0 & 0 & 0 & 0\\\\\n",
       "\t2015000004434 & 5.875000 & 0 & 1 & 1 & 5.875000 & 1 & 0 & 0 & 0.0000000 & 1.125 & ⋯ & 0 & 0 & 0 & 0 & 0 & 0 & 0 & 0 & 0 & 0\\\\\n",
       "\t2015000010209 & 2.177419 & 0 & 1 & 1 & 2.177419 & 0 & 0 & 0 & 0.0000000 & 0.000 & ⋯ & 0 & 0 & 0 & 0 & 1 & 0 & 0 & 0 & 0 & 0\\\\\n",
       "\t2015000011609 & 1.000000 & 1 & 0 & 0 & 1.000000 & 0 & 0 & 0 & 0.0000000 & 1.000 & ⋯ & 0 & 0 & 0 & 0 & 0 & 0 & 0 & 0 & 0 & 0\\\\\n",
       "\t2015000013399 & 1.000000 & 0 & 1 & 1 & 1.000000 & 0 & 0 & 0 & 0.0000000 & 0.000 & ⋯ & 0 & 0 & 0 & 0 & 0 & 0 & 0 & 0 & 0 & 0\\\\\n",
       "\\end{tabular}\n"
      ],
      "text/markdown": [
       "\n",
       "A data.frame: 6 × 182\n",
       "\n",
       "| <!--/--> | population &lt;dbl&gt; | group_quarters_pop &lt;dbl&gt; | housing_units &lt;int&gt; | occhu &lt;int&gt; | civ_noninst_pop &lt;dbl&gt; | male_hours_GE35 &lt;dbl&gt; | male_hours_15.34 &lt;dbl&gt; | male_hours_1.14 &lt;dbl&gt; | female_hours_GE35 &lt;dbl&gt; | female_hours_15.34 &lt;dbl&gt; | ⋯ ⋯ | txv_own_02_vehicle &lt;dbl&gt; | txv_own_03_vehicle &lt;dbl&gt; | txv_own_04_vehicle &lt;dbl&gt; | txv_own_GE05_vehicle &lt;dbl&gt; | txv_rent_no_vehicle &lt;dbl&gt; | txv_rent_01_vehicle &lt;dbl&gt; | txv_rent_02_vehicle &lt;dbl&gt; | txv_rent_03_vehicle &lt;dbl&gt; | txv_rent_04_vehicle &lt;dbl&gt; | txv_rent_GE05_vehicle &lt;dbl&gt; |\n",
       "|---|---|---|---|---|---|---|---|---|---|---|---|---|---|---|---|---|---|---|---|---|---|\n",
       "| 2015000000763 | 2.760000 | 0 | 1 | 1 | 2.760000 | 1 | 0 | 0 | 0.0000000 | 0.000 | ⋯ | 0 | 0 | 0 | 0 | 0 | 1 | 0 | 0 | 0 | 0 |\n",
       "| 2015000001743 | 2.714286 | 0 | 1 | 1 | 2.714286 | 1 | 0 | 0 | 0.9285714 | 0.000 | ⋯ | 0 | 1 | 0 | 0 | 0 | 0 | 0 | 0 | 0 | 0 |\n",
       "| 2015000004434 | 5.875000 | 0 | 1 | 1 | 5.875000 | 1 | 0 | 0 | 0.0000000 | 1.125 | ⋯ | 0 | 0 | 0 | 0 | 0 | 0 | 0 | 0 | 0 | 0 |\n",
       "| 2015000010209 | 2.177419 | 0 | 1 | 1 | 2.177419 | 0 | 0 | 0 | 0.0000000 | 0.000 | ⋯ | 0 | 0 | 0 | 0 | 1 | 0 | 0 | 0 | 0 | 0 |\n",
       "| 2015000011609 | 1.000000 | 1 | 0 | 0 | 1.000000 | 0 | 0 | 0 | 0.0000000 | 1.000 | ⋯ | 0 | 0 | 0 | 0 | 0 | 0 | 0 | 0 | 0 | 0 |\n",
       "| 2015000013399 | 1.000000 | 0 | 1 | 1 | 1.000000 | 0 | 0 | 0 | 0.0000000 | 0.000 | ⋯ | 0 | 0 | 0 | 0 | 0 | 0 | 0 | 0 | 0 | 0 |\n",
       "\n"
      ],
      "text/plain": [
       "              population group_quarters_pop housing_units occhu civ_noninst_pop\n",
       "2015000000763 2.760000   0                  1             1     2.760000       \n",
       "2015000001743 2.714286   0                  1             1     2.714286       \n",
       "2015000004434 5.875000   0                  1             1     5.875000       \n",
       "2015000010209 2.177419   0                  1             1     2.177419       \n",
       "2015000011609 1.000000   1                  0             0     1.000000       \n",
       "2015000013399 1.000000   0                  1             1     1.000000       \n",
       "              male_hours_GE35 male_hours_15.34 male_hours_1.14\n",
       "2015000000763 1               0                0              \n",
       "2015000001743 1               0                0              \n",
       "2015000004434 1               0                0              \n",
       "2015000010209 0               0                0              \n",
       "2015000011609 0               0                0              \n",
       "2015000013399 0               0                0              \n",
       "              female_hours_GE35 female_hours_15.34 ⋯ txv_own_02_vehicle\n",
       "2015000000763 0.0000000         0.000              ⋯ 0                 \n",
       "2015000001743 0.9285714         0.000              ⋯ 0                 \n",
       "2015000004434 0.0000000         1.125              ⋯ 0                 \n",
       "2015000010209 0.0000000         0.000              ⋯ 0                 \n",
       "2015000011609 0.0000000         1.000              ⋯ 0                 \n",
       "2015000013399 0.0000000         0.000              ⋯ 0                 \n",
       "              txv_own_03_vehicle txv_own_04_vehicle txv_own_GE05_vehicle\n",
       "2015000000763 0                  0                  0                   \n",
       "2015000001743 1                  0                  0                   \n",
       "2015000004434 0                  0                  0                   \n",
       "2015000010209 0                  0                  0                   \n",
       "2015000011609 0                  0                  0                   \n",
       "2015000013399 0                  0                  0                   \n",
       "              txv_rent_no_vehicle txv_rent_01_vehicle txv_rent_02_vehicle\n",
       "2015000000763 0                   1                   0                  \n",
       "2015000001743 0                   0                   0                  \n",
       "2015000004434 0                   0                   0                  \n",
       "2015000010209 1                   0                   0                  \n",
       "2015000011609 0                   0                   0                  \n",
       "2015000013399 0                   0                   0                  \n",
       "              txv_rent_03_vehicle txv_rent_04_vehicle txv_rent_GE05_vehicle\n",
       "2015000000763 0                   0                   0                    \n",
       "2015000001743 0                   0                   0                    \n",
       "2015000004434 0                   0                   0                    \n",
       "2015000010209 0                   0                   0                    \n",
       "2015000011609 0                   0                   0                    \n",
       "2015000013399 0                   0                   0                    "
      ]
     },
     "metadata": {},
     "output_type": "display_data"
    }
   ],
   "source": [
    "head(cind)"
   ]
  },
  {
   "cell_type": "code",
   "execution_count": 5,
   "metadata": {
    "execution": {
     "iopub.execute_input": "2025-02-10T20:50:16.569205Z",
     "iopub.status.busy": "2025-02-10T20:50:16.568881Z",
     "iopub.status.idle": "2025-02-10T20:50:16.574194Z",
     "shell.execute_reply": "2025-02-10T20:50:16.573797Z"
    },
    "vscode": {
     "languageId": "r"
    }
   },
   "outputs": [
    {
     "data": {
      "text/html": [
       "TRUE"
      ],
      "text/latex": [
       "TRUE"
      ],
      "text/markdown": [
       "TRUE"
      ],
      "text/plain": [
       "[1] TRUE"
      ]
     },
     "metadata": {},
     "output_type": "display_data"
    }
   ],
   "source": [
    "sum(complete.cases(cind)) == nrow(cind)"
   ]
  },
  {
   "cell_type": "markdown",
   "metadata": {},
   "source": [
    "### Geographic Constraints (and Standard Errors)"
   ]
  },
  {
   "cell_type": "code",
   "execution_count": 6,
   "metadata": {
    "execution": {
     "iopub.execute_input": "2025-02-10T20:50:16.575336Z",
     "iopub.status.busy": "2025-02-10T20:50:16.574969Z",
     "iopub.status.idle": "2025-02-10T20:50:16.645432Z",
     "shell.execute_reply": "2025-02-10T20:50:16.644880Z"
    },
    "vscode": {
     "languageId": "r"
    }
   },
   "outputs": [],
   "source": [
    "cg1 <- read.csv(\"../data/knox/cg1_4701603.csv.gz\")\n",
    "cg2 <- read.csv(\"../data/knox/cg2_4701603.csv.gz\")\n",
    "sg1 <- read.csv(\"../data/knox/sg1_4701603.csv.gz\")\n",
    "sg2 <- read.csv(\"../data/knox/sg2_4701603.csv.gz\")"
   ]
  },
  {
   "cell_type": "code",
   "execution_count": 7,
   "metadata": {
    "execution": {
     "iopub.execute_input": "2025-02-10T20:50:16.646548Z",
     "iopub.status.busy": "2025-02-10T20:50:16.646222Z",
     "iopub.status.idle": "2025-02-10T20:50:16.677843Z",
     "shell.execute_reply": "2025-02-10T20:50:16.677396Z"
    },
    "vscode": {
     "languageId": "r"
    }
   },
   "outputs": [
    {
     "data": {
      "text/html": [
       "<table class=\"dataframe\">\n",
       "<caption>A data.frame: 6 × 182</caption>\n",
       "<thead>\n",
       "\t<tr><th></th><th scope=col>population</th><th scope=col>group_quarters_pop</th><th scope=col>housing_units</th><th scope=col>occhu</th><th scope=col>civ_noninst_pop</th><th scope=col>male_hours_GE35</th><th scope=col>male_hours_15.34</th><th scope=col>male_hours_1.14</th><th scope=col>female_hours_GE35</th><th scope=col>female_hours_15.34</th><th scope=col>⋯</th><th scope=col>txv_own_02_vehicle</th><th scope=col>txv_own_03_vehicle</th><th scope=col>txv_own_04_vehicle</th><th scope=col>txv_own_GE05_vehicle</th><th scope=col>txv_rent_no_vehicle</th><th scope=col>txv_rent_01_vehicle</th><th scope=col>txv_rent_02_vehicle</th><th scope=col>txv_rent_03_vehicle</th><th scope=col>txv_rent_04_vehicle</th><th scope=col>txv_rent_GE05_vehicle</th></tr>\n",
       "\t<tr><th></th><th scope=col>&lt;int&gt;</th><th scope=col>&lt;int&gt;</th><th scope=col>&lt;int&gt;</th><th scope=col>&lt;int&gt;</th><th scope=col>&lt;int&gt;</th><th scope=col>&lt;int&gt;</th><th scope=col>&lt;int&gt;</th><th scope=col>&lt;int&gt;</th><th scope=col>&lt;int&gt;</th><th scope=col>&lt;int&gt;</th><th scope=col>⋯</th><th scope=col>&lt;int&gt;</th><th scope=col>&lt;int&gt;</th><th scope=col>&lt;int&gt;</th><th scope=col>&lt;int&gt;</th><th scope=col>&lt;int&gt;</th><th scope=col>&lt;int&gt;</th><th scope=col>&lt;int&gt;</th><th scope=col>&lt;int&gt;</th><th scope=col>&lt;int&gt;</th><th scope=col>&lt;int&gt;</th></tr>\n",
       "</thead>\n",
       "<tbody>\n",
       "\t<tr><th scope=row>47093000100</th><td>2463</td><td> 236</td><td>1837</td><td>1603</td><td>2282</td><td>686</td><td>265</td><td> 68</td><td>484</td><td>115</td><td>⋯</td><td>180</td><td>  4</td><td> 0</td><td> 0</td><td>355</td><td>710</td><td>144</td><td>  8</td><td>11</td><td> 0</td></tr>\n",
       "\t<tr><th scope=row>47093000800</th><td>3607</td><td> 246</td><td>1777</td><td>1465</td><td>3481</td><td>625</td><td>456</td><td> 72</td><td>650</td><td>260</td><td>⋯</td><td> 73</td><td> 41</td><td> 0</td><td>40</td><td>154</td><td>450</td><td>318</td><td>193</td><td>86</td><td> 0</td></tr>\n",
       "\t<tr><th scope=row>47093000901</th><td>1965</td><td>1958</td><td>   4</td><td>   4</td><td>1965</td><td> 68</td><td>351</td><td>142</td><td>145</td><td>380</td><td>⋯</td><td>  0</td><td>  0</td><td> 0</td><td> 0</td><td>  0</td><td>  4</td><td>  0</td><td>  0</td><td> 0</td><td> 0</td></tr>\n",
       "\t<tr><th scope=row>47093000902</th><td>3034</td><td>2581</td><td>  66</td><td>  39</td><td>3034</td><td>341</td><td>528</td><td>242</td><td>207</td><td>537</td><td>⋯</td><td>  0</td><td>  0</td><td> 0</td><td> 0</td><td>  0</td><td> 15</td><td>  0</td><td>  5</td><td> 0</td><td>19</td></tr>\n",
       "\t<tr><th scope=row>47093001400</th><td>2447</td><td>   0</td><td>1069</td><td> 791</td><td>2447</td><td>307</td><td> 42</td><td> 10</td><td>254</td><td>115</td><td>⋯</td><td> 85</td><td> 57</td><td>10</td><td> 0</td><td>180</td><td>252</td><td> 82</td><td> 35</td><td> 0</td><td> 0</td></tr>\n",
       "\t<tr><th scope=row>47093001500</th><td>3520</td><td> 194</td><td>1523</td><td>1362</td><td>3337</td><td>898</td><td> 60</td><td> 22</td><td>614</td><td>283</td><td>⋯</td><td>292</td><td>149</td><td>46</td><td> 0</td><td> 51</td><td>256</td><td>177</td><td>104</td><td> 0</td><td> 0</td></tr>\n",
       "</tbody>\n",
       "</table>\n"
      ],
      "text/latex": [
       "A data.frame: 6 × 182\n",
       "\\begin{tabular}{r|lllllllllllllllllllll}\n",
       "  & population & group\\_quarters\\_pop & housing\\_units & occhu & civ\\_noninst\\_pop & male\\_hours\\_GE35 & male\\_hours\\_15.34 & male\\_hours\\_1.14 & female\\_hours\\_GE35 & female\\_hours\\_15.34 & ⋯ & txv\\_own\\_02\\_vehicle & txv\\_own\\_03\\_vehicle & txv\\_own\\_04\\_vehicle & txv\\_own\\_GE05\\_vehicle & txv\\_rent\\_no\\_vehicle & txv\\_rent\\_01\\_vehicle & txv\\_rent\\_02\\_vehicle & txv\\_rent\\_03\\_vehicle & txv\\_rent\\_04\\_vehicle & txv\\_rent\\_GE05\\_vehicle\\\\\n",
       "  & <int> & <int> & <int> & <int> & <int> & <int> & <int> & <int> & <int> & <int> & ⋯ & <int> & <int> & <int> & <int> & <int> & <int> & <int> & <int> & <int> & <int>\\\\\n",
       "\\hline\n",
       "\t47093000100 & 2463 &  236 & 1837 & 1603 & 2282 & 686 & 265 &  68 & 484 & 115 & ⋯ & 180 &   4 &  0 &  0 & 355 & 710 & 144 &   8 & 11 &  0\\\\\n",
       "\t47093000800 & 3607 &  246 & 1777 & 1465 & 3481 & 625 & 456 &  72 & 650 & 260 & ⋯ &  73 &  41 &  0 & 40 & 154 & 450 & 318 & 193 & 86 &  0\\\\\n",
       "\t47093000901 & 1965 & 1958 &    4 &    4 & 1965 &  68 & 351 & 142 & 145 & 380 & ⋯ &   0 &   0 &  0 &  0 &   0 &   4 &   0 &   0 &  0 &  0\\\\\n",
       "\t47093000902 & 3034 & 2581 &   66 &   39 & 3034 & 341 & 528 & 242 & 207 & 537 & ⋯ &   0 &   0 &  0 &  0 &   0 &  15 &   0 &   5 &  0 & 19\\\\\n",
       "\t47093001400 & 2447 &    0 & 1069 &  791 & 2447 & 307 &  42 &  10 & 254 & 115 & ⋯ &  85 &  57 & 10 &  0 & 180 & 252 &  82 &  35 &  0 &  0\\\\\n",
       "\t47093001500 & 3520 &  194 & 1523 & 1362 & 3337 & 898 &  60 &  22 & 614 & 283 & ⋯ & 292 & 149 & 46 &  0 &  51 & 256 & 177 & 104 &  0 &  0\\\\\n",
       "\\end{tabular}\n"
      ],
      "text/markdown": [
       "\n",
       "A data.frame: 6 × 182\n",
       "\n",
       "| <!--/--> | population &lt;int&gt; | group_quarters_pop &lt;int&gt; | housing_units &lt;int&gt; | occhu &lt;int&gt; | civ_noninst_pop &lt;int&gt; | male_hours_GE35 &lt;int&gt; | male_hours_15.34 &lt;int&gt; | male_hours_1.14 &lt;int&gt; | female_hours_GE35 &lt;int&gt; | female_hours_15.34 &lt;int&gt; | ⋯ ⋯ | txv_own_02_vehicle &lt;int&gt; | txv_own_03_vehicle &lt;int&gt; | txv_own_04_vehicle &lt;int&gt; | txv_own_GE05_vehicle &lt;int&gt; | txv_rent_no_vehicle &lt;int&gt; | txv_rent_01_vehicle &lt;int&gt; | txv_rent_02_vehicle &lt;int&gt; | txv_rent_03_vehicle &lt;int&gt; | txv_rent_04_vehicle &lt;int&gt; | txv_rent_GE05_vehicle &lt;int&gt; |\n",
       "|---|---|---|---|---|---|---|---|---|---|---|---|---|---|---|---|---|---|---|---|---|---|\n",
       "| 47093000100 | 2463 |  236 | 1837 | 1603 | 2282 | 686 | 265 |  68 | 484 | 115 | ⋯ | 180 |   4 |  0 |  0 | 355 | 710 | 144 |   8 | 11 |  0 |\n",
       "| 47093000800 | 3607 |  246 | 1777 | 1465 | 3481 | 625 | 456 |  72 | 650 | 260 | ⋯ |  73 |  41 |  0 | 40 | 154 | 450 | 318 | 193 | 86 |  0 |\n",
       "| 47093000901 | 1965 | 1958 |    4 |    4 | 1965 |  68 | 351 | 142 | 145 | 380 | ⋯ |   0 |   0 |  0 |  0 |   0 |   4 |   0 |   0 |  0 |  0 |\n",
       "| 47093000902 | 3034 | 2581 |   66 |   39 | 3034 | 341 | 528 | 242 | 207 | 537 | ⋯ |   0 |   0 |  0 |  0 |   0 |  15 |   0 |   5 |  0 | 19 |\n",
       "| 47093001400 | 2447 |    0 | 1069 |  791 | 2447 | 307 |  42 |  10 | 254 | 115 | ⋯ |  85 |  57 | 10 |  0 | 180 | 252 |  82 |  35 |  0 |  0 |\n",
       "| 47093001500 | 3520 |  194 | 1523 | 1362 | 3337 | 898 |  60 |  22 | 614 | 283 | ⋯ | 292 | 149 | 46 |  0 |  51 | 256 | 177 | 104 |  0 |  0 |\n",
       "\n"
      ],
      "text/plain": [
       "            population group_quarters_pop housing_units occhu civ_noninst_pop\n",
       "47093000100 2463        236               1837          1603  2282           \n",
       "47093000800 3607        246               1777          1465  3481           \n",
       "47093000901 1965       1958                  4             4  1965           \n",
       "47093000902 3034       2581                 66            39  3034           \n",
       "47093001400 2447          0               1069           791  2447           \n",
       "47093001500 3520        194               1523          1362  3337           \n",
       "            male_hours_GE35 male_hours_15.34 male_hours_1.14 female_hours_GE35\n",
       "47093000100 686             265               68             484              \n",
       "47093000800 625             456               72             650              \n",
       "47093000901  68             351              142             145              \n",
       "47093000902 341             528              242             207              \n",
       "47093001400 307              42               10             254              \n",
       "47093001500 898              60               22             614              \n",
       "            female_hours_15.34 ⋯ txv_own_02_vehicle txv_own_03_vehicle\n",
       "47093000100 115                ⋯ 180                  4               \n",
       "47093000800 260                ⋯  73                 41               \n",
       "47093000901 380                ⋯   0                  0               \n",
       "47093000902 537                ⋯   0                  0               \n",
       "47093001400 115                ⋯  85                 57               \n",
       "47093001500 283                ⋯ 292                149               \n",
       "            txv_own_04_vehicle txv_own_GE05_vehicle txv_rent_no_vehicle\n",
       "47093000100  0                  0                   355                \n",
       "47093000800  0                 40                   154                \n",
       "47093000901  0                  0                     0                \n",
       "47093000902  0                  0                     0                \n",
       "47093001400 10                  0                   180                \n",
       "47093001500 46                  0                    51                \n",
       "            txv_rent_01_vehicle txv_rent_02_vehicle txv_rent_03_vehicle\n",
       "47093000100 710                 144                   8                \n",
       "47093000800 450                 318                 193                \n",
       "47093000901   4                   0                   0                \n",
       "47093000902  15                   0                   5                \n",
       "47093001400 252                  82                  35                \n",
       "47093001500 256                 177                 104                \n",
       "            txv_rent_04_vehicle txv_rent_GE05_vehicle\n",
       "47093000100 11                   0                   \n",
       "47093000800 86                   0                   \n",
       "47093000901  0                   0                   \n",
       "47093000902  0                  19                   \n",
       "47093001400  0                   0                   \n",
       "47093001500  0                   0                   "
      ]
     },
     "metadata": {},
     "output_type": "display_data"
    }
   ],
   "source": [
    "rownames(cg1) <- as.character(cg1$GEOID)\n",
    "cg1 <- cg1[,-1]\n",
    "head(cg1)"
   ]
  },
  {
   "cell_type": "code",
   "execution_count": 8,
   "metadata": {
    "execution": {
     "iopub.execute_input": "2025-02-10T20:50:16.678924Z",
     "iopub.status.busy": "2025-02-10T20:50:16.678581Z",
     "iopub.status.idle": "2025-02-10T20:50:16.706633Z",
     "shell.execute_reply": "2025-02-10T20:50:16.706130Z"
    },
    "vscode": {
     "languageId": "r"
    }
   },
   "outputs": [
    {
     "data": {
      "text/html": [
       "<table class=\"dataframe\">\n",
       "<caption>A data.frame: 6 × 182</caption>\n",
       "<thead>\n",
       "\t<tr><th></th><th scope=col>population</th><th scope=col>group_quarters_pop</th><th scope=col>housing_units</th><th scope=col>occhu</th><th scope=col>civ_noninst_pop</th><th scope=col>male_hours_GE35</th><th scope=col>male_hours_15.34</th><th scope=col>male_hours_1.14</th><th scope=col>female_hours_GE35</th><th scope=col>female_hours_15.34</th><th scope=col>⋯</th><th scope=col>txv_own_02_vehicle</th><th scope=col>txv_own_03_vehicle</th><th scope=col>txv_own_04_vehicle</th><th scope=col>txv_own_GE05_vehicle</th><th scope=col>txv_rent_no_vehicle</th><th scope=col>txv_rent_01_vehicle</th><th scope=col>txv_rent_02_vehicle</th><th scope=col>txv_rent_03_vehicle</th><th scope=col>txv_rent_04_vehicle</th><th scope=col>txv_rent_GE05_vehicle</th></tr>\n",
       "\t<tr><th></th><th scope=col>&lt;int&gt;</th><th scope=col>&lt;int&gt;</th><th scope=col>&lt;int&gt;</th><th scope=col>&lt;int&gt;</th><th scope=col>&lt;int&gt;</th><th scope=col>&lt;int&gt;</th><th scope=col>&lt;int&gt;</th><th scope=col>&lt;int&gt;</th><th scope=col>&lt;int&gt;</th><th scope=col>&lt;int&gt;</th><th scope=col>⋯</th><th scope=col>&lt;int&gt;</th><th scope=col>&lt;int&gt;</th><th scope=col>&lt;int&gt;</th><th scope=col>&lt;int&gt;</th><th scope=col>&lt;int&gt;</th><th scope=col>&lt;int&gt;</th><th scope=col>&lt;int&gt;</th><th scope=col>&lt;int&gt;</th><th scope=col>&lt;int&gt;</th><th scope=col>&lt;int&gt;</th></tr>\n",
       "</thead>\n",
       "<tbody>\n",
       "\t<tr><th scope=row>470930001001</th><td>2463</td><td> 236</td><td>1837</td><td>1603</td><td>2282</td><td>686</td><td>265</td><td> 68</td><td>484</td><td>115</td><td>⋯</td><td>180</td><td> 4</td><td>0</td><td> 0</td><td>355</td><td>710</td><td>144</td><td>  8</td><td>11</td><td> 0</td></tr>\n",
       "\t<tr><th scope=row>470930008001</th><td>1697</td><td>   7</td><td>1031</td><td> 831</td><td>1659</td><td>305</td><td>195</td><td> 72</td><td>243</td><td>170</td><td>⋯</td><td> 19</td><td>10</td><td>0</td><td> 0</td><td>146</td><td>309</td><td>162</td><td>125</td><td>17</td><td> 0</td></tr>\n",
       "\t<tr><th scope=row>470930008002</th><td> 574</td><td>  88</td><td> 279</td><td> 233</td><td> 486</td><td> 69</td><td> 16</td><td>  0</td><td>182</td><td> 53</td><td>⋯</td><td>  6</td><td>31</td><td>0</td><td> 0</td><td>  0</td><td> 83</td><td> 80</td><td>  0</td><td> 0</td><td> 0</td></tr>\n",
       "\t<tr><th scope=row>470930008003</th><td>1336</td><td> 151</td><td> 467</td><td> 401</td><td>1336</td><td>251</td><td>245</td><td>  0</td><td>225</td><td> 37</td><td>⋯</td><td> 48</td><td> 0</td><td>0</td><td>40</td><td>  8</td><td> 58</td><td> 76</td><td> 68</td><td>69</td><td> 0</td></tr>\n",
       "\t<tr><th scope=row>470930009011</th><td>1965</td><td>1958</td><td>   4</td><td>   4</td><td>1965</td><td> 68</td><td>351</td><td>142</td><td>145</td><td>380</td><td>⋯</td><td>  0</td><td> 0</td><td>0</td><td> 0</td><td>  0</td><td>  4</td><td>  0</td><td>  0</td><td> 0</td><td> 0</td></tr>\n",
       "\t<tr><th scope=row>470930009021</th><td>1092</td><td> 734</td><td>  48</td><td>  35</td><td>1092</td><td> 38</td><td>150</td><td> 39</td><td>113</td><td>207</td><td>⋯</td><td>  0</td><td> 0</td><td>0</td><td> 0</td><td>  0</td><td> 15</td><td>  0</td><td>  5</td><td> 0</td><td>15</td></tr>\n",
       "</tbody>\n",
       "</table>\n"
      ],
      "text/latex": [
       "A data.frame: 6 × 182\n",
       "\\begin{tabular}{r|lllllllllllllllllllll}\n",
       "  & population & group\\_quarters\\_pop & housing\\_units & occhu & civ\\_noninst\\_pop & male\\_hours\\_GE35 & male\\_hours\\_15.34 & male\\_hours\\_1.14 & female\\_hours\\_GE35 & female\\_hours\\_15.34 & ⋯ & txv\\_own\\_02\\_vehicle & txv\\_own\\_03\\_vehicle & txv\\_own\\_04\\_vehicle & txv\\_own\\_GE05\\_vehicle & txv\\_rent\\_no\\_vehicle & txv\\_rent\\_01\\_vehicle & txv\\_rent\\_02\\_vehicle & txv\\_rent\\_03\\_vehicle & txv\\_rent\\_04\\_vehicle & txv\\_rent\\_GE05\\_vehicle\\\\\n",
       "  & <int> & <int> & <int> & <int> & <int> & <int> & <int> & <int> & <int> & <int> & ⋯ & <int> & <int> & <int> & <int> & <int> & <int> & <int> & <int> & <int> & <int>\\\\\n",
       "\\hline\n",
       "\t470930001001 & 2463 &  236 & 1837 & 1603 & 2282 & 686 & 265 &  68 & 484 & 115 & ⋯ & 180 &  4 & 0 &  0 & 355 & 710 & 144 &   8 & 11 &  0\\\\\n",
       "\t470930008001 & 1697 &    7 & 1031 &  831 & 1659 & 305 & 195 &  72 & 243 & 170 & ⋯ &  19 & 10 & 0 &  0 & 146 & 309 & 162 & 125 & 17 &  0\\\\\n",
       "\t470930008002 &  574 &   88 &  279 &  233 &  486 &  69 &  16 &   0 & 182 &  53 & ⋯ &   6 & 31 & 0 &  0 &   0 &  83 &  80 &   0 &  0 &  0\\\\\n",
       "\t470930008003 & 1336 &  151 &  467 &  401 & 1336 & 251 & 245 &   0 & 225 &  37 & ⋯ &  48 &  0 & 0 & 40 &   8 &  58 &  76 &  68 & 69 &  0\\\\\n",
       "\t470930009011 & 1965 & 1958 &    4 &    4 & 1965 &  68 & 351 & 142 & 145 & 380 & ⋯ &   0 &  0 & 0 &  0 &   0 &   4 &   0 &   0 &  0 &  0\\\\\n",
       "\t470930009021 & 1092 &  734 &   48 &   35 & 1092 &  38 & 150 &  39 & 113 & 207 & ⋯ &   0 &  0 & 0 &  0 &   0 &  15 &   0 &   5 &  0 & 15\\\\\n",
       "\\end{tabular}\n"
      ],
      "text/markdown": [
       "\n",
       "A data.frame: 6 × 182\n",
       "\n",
       "| <!--/--> | population &lt;int&gt; | group_quarters_pop &lt;int&gt; | housing_units &lt;int&gt; | occhu &lt;int&gt; | civ_noninst_pop &lt;int&gt; | male_hours_GE35 &lt;int&gt; | male_hours_15.34 &lt;int&gt; | male_hours_1.14 &lt;int&gt; | female_hours_GE35 &lt;int&gt; | female_hours_15.34 &lt;int&gt; | ⋯ ⋯ | txv_own_02_vehicle &lt;int&gt; | txv_own_03_vehicle &lt;int&gt; | txv_own_04_vehicle &lt;int&gt; | txv_own_GE05_vehicle &lt;int&gt; | txv_rent_no_vehicle &lt;int&gt; | txv_rent_01_vehicle &lt;int&gt; | txv_rent_02_vehicle &lt;int&gt; | txv_rent_03_vehicle &lt;int&gt; | txv_rent_04_vehicle &lt;int&gt; | txv_rent_GE05_vehicle &lt;int&gt; |\n",
       "|---|---|---|---|---|---|---|---|---|---|---|---|---|---|---|---|---|---|---|---|---|---|\n",
       "| 470930001001 | 2463 |  236 | 1837 | 1603 | 2282 | 686 | 265 |  68 | 484 | 115 | ⋯ | 180 |  4 | 0 |  0 | 355 | 710 | 144 |   8 | 11 |  0 |\n",
       "| 470930008001 | 1697 |    7 | 1031 |  831 | 1659 | 305 | 195 |  72 | 243 | 170 | ⋯ |  19 | 10 | 0 |  0 | 146 | 309 | 162 | 125 | 17 |  0 |\n",
       "| 470930008002 |  574 |   88 |  279 |  233 |  486 |  69 |  16 |   0 | 182 |  53 | ⋯ |   6 | 31 | 0 |  0 |   0 |  83 |  80 |   0 |  0 |  0 |\n",
       "| 470930008003 | 1336 |  151 |  467 |  401 | 1336 | 251 | 245 |   0 | 225 |  37 | ⋯ |  48 |  0 | 0 | 40 |   8 |  58 |  76 |  68 | 69 |  0 |\n",
       "| 470930009011 | 1965 | 1958 |    4 |    4 | 1965 |  68 | 351 | 142 | 145 | 380 | ⋯ |   0 |  0 | 0 |  0 |   0 |   4 |   0 |   0 |  0 |  0 |\n",
       "| 470930009021 | 1092 |  734 |   48 |   35 | 1092 |  38 | 150 |  39 | 113 | 207 | ⋯ |   0 |  0 | 0 |  0 |   0 |  15 |   0 |   5 |  0 | 15 |\n",
       "\n"
      ],
      "text/plain": [
       "             population group_quarters_pop housing_units occhu civ_noninst_pop\n",
       "470930001001 2463        236               1837          1603  2282           \n",
       "470930008001 1697          7               1031           831  1659           \n",
       "470930008002  574         88                279           233   486           \n",
       "470930008003 1336        151                467           401  1336           \n",
       "470930009011 1965       1958                  4             4  1965           \n",
       "470930009021 1092        734                 48            35  1092           \n",
       "             male_hours_GE35 male_hours_15.34 male_hours_1.14 female_hours_GE35\n",
       "470930001001 686             265               68             484              \n",
       "470930008001 305             195               72             243              \n",
       "470930008002  69              16                0             182              \n",
       "470930008003 251             245                0             225              \n",
       "470930009011  68             351              142             145              \n",
       "470930009021  38             150               39             113              \n",
       "             female_hours_15.34 ⋯ txv_own_02_vehicle txv_own_03_vehicle\n",
       "470930001001 115                ⋯ 180                 4                \n",
       "470930008001 170                ⋯  19                10                \n",
       "470930008002  53                ⋯   6                31                \n",
       "470930008003  37                ⋯  48                 0                \n",
       "470930009011 380                ⋯   0                 0                \n",
       "470930009021 207                ⋯   0                 0                \n",
       "             txv_own_04_vehicle txv_own_GE05_vehicle txv_rent_no_vehicle\n",
       "470930001001 0                   0                   355                \n",
       "470930008001 0                   0                   146                \n",
       "470930008002 0                   0                     0                \n",
       "470930008003 0                  40                     8                \n",
       "470930009011 0                   0                     0                \n",
       "470930009021 0                   0                     0                \n",
       "             txv_rent_01_vehicle txv_rent_02_vehicle txv_rent_03_vehicle\n",
       "470930001001 710                 144                   8                \n",
       "470930008001 309                 162                 125                \n",
       "470930008002  83                  80                   0                \n",
       "470930008003  58                  76                  68                \n",
       "470930009011   4                   0                   0                \n",
       "470930009021  15                   0                   5                \n",
       "             txv_rent_04_vehicle txv_rent_GE05_vehicle\n",
       "470930001001 11                   0                   \n",
       "470930008001 17                   0                   \n",
       "470930008002  0                   0                   \n",
       "470930008003 69                   0                   \n",
       "470930009011  0                   0                   \n",
       "470930009021  0                  15                   "
      ]
     },
     "metadata": {},
     "output_type": "display_data"
    }
   ],
   "source": [
    "rownames(cg2) <- as.character(cg2$GEOID)\n",
    "cg2 <- cg2[,-1]\n",
    "head(cg2)"
   ]
  },
  {
   "cell_type": "code",
   "execution_count": 9,
   "metadata": {
    "execution": {
     "iopub.execute_input": "2025-02-10T20:50:16.707855Z",
     "iopub.status.busy": "2025-02-10T20:50:16.707473Z",
     "iopub.status.idle": "2025-02-10T20:50:16.734658Z",
     "shell.execute_reply": "2025-02-10T20:50:16.734191Z"
    },
    "vscode": {
     "languageId": "r"
    }
   },
   "outputs": [
    {
     "data": {
      "text/html": [
       "<table class=\"dataframe\">\n",
       "<caption>A data.frame: 6 × 182</caption>\n",
       "<thead>\n",
       "\t<tr><th></th><th scope=col>population</th><th scope=col>group_quarters_pop</th><th scope=col>housing_units</th><th scope=col>occhu</th><th scope=col>civ_noninst_pop</th><th scope=col>male_hours_GE35</th><th scope=col>male_hours_15.34</th><th scope=col>male_hours_1.14</th><th scope=col>female_hours_GE35</th><th scope=col>female_hours_15.34</th><th scope=col>⋯</th><th scope=col>txv_own_02_vehicle</th><th scope=col>txv_own_03_vehicle</th><th scope=col>txv_own_04_vehicle</th><th scope=col>txv_own_GE05_vehicle</th><th scope=col>txv_rent_no_vehicle</th><th scope=col>txv_rent_01_vehicle</th><th scope=col>txv_rent_02_vehicle</th><th scope=col>txv_rent_03_vehicle</th><th scope=col>txv_rent_04_vehicle</th><th scope=col>txv_rent_GE05_vehicle</th></tr>\n",
       "\t<tr><th></th><th scope=col>&lt;dbl&gt;</th><th scope=col>&lt;dbl&gt;</th><th scope=col>&lt;dbl&gt;</th><th scope=col>&lt;dbl&gt;</th><th scope=col>&lt;dbl&gt;</th><th scope=col>&lt;dbl&gt;</th><th scope=col>&lt;dbl&gt;</th><th scope=col>&lt;dbl&gt;</th><th scope=col>&lt;dbl&gt;</th><th scope=col>&lt;dbl&gt;</th><th scope=col>⋯</th><th scope=col>&lt;dbl&gt;</th><th scope=col>&lt;dbl&gt;</th><th scope=col>&lt;dbl&gt;</th><th scope=col>&lt;dbl&gt;</th><th scope=col>&lt;dbl&gt;</th><th scope=col>&lt;dbl&gt;</th><th scope=col>&lt;dbl&gt;</th><th scope=col>&lt;dbl&gt;</th><th scope=col>&lt;dbl&gt;</th><th scope=col>&lt;dbl&gt;</th></tr>\n",
       "</thead>\n",
       "<tbody>\n",
       "\t<tr><th scope=row>47093000100</th><td>137.9939</td><td> 62.613982</td><td>49.848024</td><td>66.869301</td><td>122.7964</td><td> 82.67477</td><td> 68.08511</td><td>34.65046</td><td> 68.69301</td><td> 44.37690</td><td>⋯</td><td>45.592705</td><td> 4.255319</td><td> 7.294833</td><td> 7.294833</td><td>42.553191</td><td>74.772036</td><td>35.258359</td><td> 8.510638</td><td>11.550152</td><td> 7.294833</td></tr>\n",
       "\t<tr><th scope=row>47093000800</th><td>330.0912</td><td>151.367781</td><td>35.258359</td><td>79.635258</td><td>316.1094</td><td>121.58055</td><td>136.77812</td><td>43.76900</td><td>119.75684</td><td> 84.49848</td><td>⋯</td><td>29.179331</td><td>21.884498</td><td> 7.294833</td><td>21.884498</td><td>49.240122</td><td>70.516717</td><td>66.869301</td><td>61.398176</td><td>39.513678</td><td> 7.294833</td></tr>\n",
       "\t<tr><th scope=row>47093000901</th><td>181.7629</td><td>181.762918</td><td> 3.039514</td><td> 3.039514</td><td>181.7629</td><td> 46.20061</td><td> 55.31915</td><td>57.14286</td><td> 48.63222</td><td>110.03040</td><td>⋯</td><td> 7.294833</td><td> 7.294833</td><td> 7.294833</td><td> 7.294833</td><td> 7.294833</td><td> 3.039514</td><td> 7.294833</td><td> 7.294833</td><td> 7.294833</td><td> 7.294833</td></tr>\n",
       "\t<tr><th scope=row>47093000902</th><td>713.0699</td><td>652.279635</td><td>23.100304</td><td>20.060790</td><td>713.0699</td><td> 99.69605</td><td>164.74164</td><td>82.06687</td><td>121.58055</td><td>158.66261</td><td>⋯</td><td> 7.294833</td><td> 7.294833</td><td> 7.294833</td><td> 7.294833</td><td> 7.294833</td><td>15.197568</td><td> 7.294833</td><td> 4.255319</td><td> 7.294833</td><td>14.589666</td></tr>\n",
       "\t<tr><th scope=row>47093001400</th><td>221.2766</td><td>  7.294833</td><td>62.613982</td><td>64.437690</td><td>221.2766</td><td> 82.06687</td><td> 26.74772</td><td>10.33435</td><td> 62.00608</td><td> 55.31915</td><td>⋯</td><td>27.355623</td><td>23.708207</td><td>10.334347</td><td> 7.294833</td><td>56.534954</td><td>51.671733</td><td>35.866261</td><td>21.884498</td><td> 7.294833</td><td> 7.294833</td></tr>\n",
       "\t<tr><th scope=row>47093001500</th><td>237.6900</td><td> 57.750760</td><td>46.808511</td><td>66.261398</td><td>227.9635</td><td> 86.93009</td><td> 24.92401</td><td>17.62918</td><td> 93.00912</td><td> 60.18237</td><td>⋯</td><td>54.711246</td><td>52.887538</td><td>23.100304</td><td> 7.294833</td><td>27.963526</td><td>46.808511</td><td>46.200608</td><td>43.161094</td><td> 7.294833</td><td> 7.294833</td></tr>\n",
       "</tbody>\n",
       "</table>\n"
      ],
      "text/latex": [
       "A data.frame: 6 × 182\n",
       "\\begin{tabular}{r|lllllllllllllllllllll}\n",
       "  & population & group\\_quarters\\_pop & housing\\_units & occhu & civ\\_noninst\\_pop & male\\_hours\\_GE35 & male\\_hours\\_15.34 & male\\_hours\\_1.14 & female\\_hours\\_GE35 & female\\_hours\\_15.34 & ⋯ & txv\\_own\\_02\\_vehicle & txv\\_own\\_03\\_vehicle & txv\\_own\\_04\\_vehicle & txv\\_own\\_GE05\\_vehicle & txv\\_rent\\_no\\_vehicle & txv\\_rent\\_01\\_vehicle & txv\\_rent\\_02\\_vehicle & txv\\_rent\\_03\\_vehicle & txv\\_rent\\_04\\_vehicle & txv\\_rent\\_GE05\\_vehicle\\\\\n",
       "  & <dbl> & <dbl> & <dbl> & <dbl> & <dbl> & <dbl> & <dbl> & <dbl> & <dbl> & <dbl> & ⋯ & <dbl> & <dbl> & <dbl> & <dbl> & <dbl> & <dbl> & <dbl> & <dbl> & <dbl> & <dbl>\\\\\n",
       "\\hline\n",
       "\t47093000100 & 137.9939 &  62.613982 & 49.848024 & 66.869301 & 122.7964 &  82.67477 &  68.08511 & 34.65046 &  68.69301 &  44.37690 & ⋯ & 45.592705 &  4.255319 &  7.294833 &  7.294833 & 42.553191 & 74.772036 & 35.258359 &  8.510638 & 11.550152 &  7.294833\\\\\n",
       "\t47093000800 & 330.0912 & 151.367781 & 35.258359 & 79.635258 & 316.1094 & 121.58055 & 136.77812 & 43.76900 & 119.75684 &  84.49848 & ⋯ & 29.179331 & 21.884498 &  7.294833 & 21.884498 & 49.240122 & 70.516717 & 66.869301 & 61.398176 & 39.513678 &  7.294833\\\\\n",
       "\t47093000901 & 181.7629 & 181.762918 &  3.039514 &  3.039514 & 181.7629 &  46.20061 &  55.31915 & 57.14286 &  48.63222 & 110.03040 & ⋯ &  7.294833 &  7.294833 &  7.294833 &  7.294833 &  7.294833 &  3.039514 &  7.294833 &  7.294833 &  7.294833 &  7.294833\\\\\n",
       "\t47093000902 & 713.0699 & 652.279635 & 23.100304 & 20.060790 & 713.0699 &  99.69605 & 164.74164 & 82.06687 & 121.58055 & 158.66261 & ⋯ &  7.294833 &  7.294833 &  7.294833 &  7.294833 &  7.294833 & 15.197568 &  7.294833 &  4.255319 &  7.294833 & 14.589666\\\\\n",
       "\t47093001400 & 221.2766 &   7.294833 & 62.613982 & 64.437690 & 221.2766 &  82.06687 &  26.74772 & 10.33435 &  62.00608 &  55.31915 & ⋯ & 27.355623 & 23.708207 & 10.334347 &  7.294833 & 56.534954 & 51.671733 & 35.866261 & 21.884498 &  7.294833 &  7.294833\\\\\n",
       "\t47093001500 & 237.6900 &  57.750760 & 46.808511 & 66.261398 & 227.9635 &  86.93009 &  24.92401 & 17.62918 &  93.00912 &  60.18237 & ⋯ & 54.711246 & 52.887538 & 23.100304 &  7.294833 & 27.963526 & 46.808511 & 46.200608 & 43.161094 &  7.294833 &  7.294833\\\\\n",
       "\\end{tabular}\n"
      ],
      "text/markdown": [
       "\n",
       "A data.frame: 6 × 182\n",
       "\n",
       "| <!--/--> | population &lt;dbl&gt; | group_quarters_pop &lt;dbl&gt; | housing_units &lt;dbl&gt; | occhu &lt;dbl&gt; | civ_noninst_pop &lt;dbl&gt; | male_hours_GE35 &lt;dbl&gt; | male_hours_15.34 &lt;dbl&gt; | male_hours_1.14 &lt;dbl&gt; | female_hours_GE35 &lt;dbl&gt; | female_hours_15.34 &lt;dbl&gt; | ⋯ ⋯ | txv_own_02_vehicle &lt;dbl&gt; | txv_own_03_vehicle &lt;dbl&gt; | txv_own_04_vehicle &lt;dbl&gt; | txv_own_GE05_vehicle &lt;dbl&gt; | txv_rent_no_vehicle &lt;dbl&gt; | txv_rent_01_vehicle &lt;dbl&gt; | txv_rent_02_vehicle &lt;dbl&gt; | txv_rent_03_vehicle &lt;dbl&gt; | txv_rent_04_vehicle &lt;dbl&gt; | txv_rent_GE05_vehicle &lt;dbl&gt; |\n",
       "|---|---|---|---|---|---|---|---|---|---|---|---|---|---|---|---|---|---|---|---|---|---|\n",
       "| 47093000100 | 137.9939 |  62.613982 | 49.848024 | 66.869301 | 122.7964 |  82.67477 |  68.08511 | 34.65046 |  68.69301 |  44.37690 | ⋯ | 45.592705 |  4.255319 |  7.294833 |  7.294833 | 42.553191 | 74.772036 | 35.258359 |  8.510638 | 11.550152 |  7.294833 |\n",
       "| 47093000800 | 330.0912 | 151.367781 | 35.258359 | 79.635258 | 316.1094 | 121.58055 | 136.77812 | 43.76900 | 119.75684 |  84.49848 | ⋯ | 29.179331 | 21.884498 |  7.294833 | 21.884498 | 49.240122 | 70.516717 | 66.869301 | 61.398176 | 39.513678 |  7.294833 |\n",
       "| 47093000901 | 181.7629 | 181.762918 |  3.039514 |  3.039514 | 181.7629 |  46.20061 |  55.31915 | 57.14286 |  48.63222 | 110.03040 | ⋯ |  7.294833 |  7.294833 |  7.294833 |  7.294833 |  7.294833 |  3.039514 |  7.294833 |  7.294833 |  7.294833 |  7.294833 |\n",
       "| 47093000902 | 713.0699 | 652.279635 | 23.100304 | 20.060790 | 713.0699 |  99.69605 | 164.74164 | 82.06687 | 121.58055 | 158.66261 | ⋯ |  7.294833 |  7.294833 |  7.294833 |  7.294833 |  7.294833 | 15.197568 |  7.294833 |  4.255319 |  7.294833 | 14.589666 |\n",
       "| 47093001400 | 221.2766 |   7.294833 | 62.613982 | 64.437690 | 221.2766 |  82.06687 |  26.74772 | 10.33435 |  62.00608 |  55.31915 | ⋯ | 27.355623 | 23.708207 | 10.334347 |  7.294833 | 56.534954 | 51.671733 | 35.866261 | 21.884498 |  7.294833 |  7.294833 |\n",
       "| 47093001500 | 237.6900 |  57.750760 | 46.808511 | 66.261398 | 227.9635 |  86.93009 |  24.92401 | 17.62918 |  93.00912 |  60.18237 | ⋯ | 54.711246 | 52.887538 | 23.100304 |  7.294833 | 27.963526 | 46.808511 | 46.200608 | 43.161094 |  7.294833 |  7.294833 |\n",
       "\n"
      ],
      "text/plain": [
       "            population group_quarters_pop housing_units occhu    \n",
       "47093000100 137.9939    62.613982         49.848024     66.869301\n",
       "47093000800 330.0912   151.367781         35.258359     79.635258\n",
       "47093000901 181.7629   181.762918          3.039514      3.039514\n",
       "47093000902 713.0699   652.279635         23.100304     20.060790\n",
       "47093001400 221.2766     7.294833         62.613982     64.437690\n",
       "47093001500 237.6900    57.750760         46.808511     66.261398\n",
       "            civ_noninst_pop male_hours_GE35 male_hours_15.34 male_hours_1.14\n",
       "47093000100 122.7964         82.67477        68.08511        34.65046       \n",
       "47093000800 316.1094        121.58055       136.77812        43.76900       \n",
       "47093000901 181.7629         46.20061        55.31915        57.14286       \n",
       "47093000902 713.0699         99.69605       164.74164        82.06687       \n",
       "47093001400 221.2766         82.06687        26.74772        10.33435       \n",
       "47093001500 227.9635         86.93009        24.92401        17.62918       \n",
       "            female_hours_GE35 female_hours_15.34 ⋯ txv_own_02_vehicle\n",
       "47093000100  68.69301          44.37690          ⋯ 45.592705         \n",
       "47093000800 119.75684          84.49848          ⋯ 29.179331         \n",
       "47093000901  48.63222         110.03040          ⋯  7.294833         \n",
       "47093000902 121.58055         158.66261          ⋯  7.294833         \n",
       "47093001400  62.00608          55.31915          ⋯ 27.355623         \n",
       "47093001500  93.00912          60.18237          ⋯ 54.711246         \n",
       "            txv_own_03_vehicle txv_own_04_vehicle txv_own_GE05_vehicle\n",
       "47093000100  4.255319           7.294833           7.294833           \n",
       "47093000800 21.884498           7.294833          21.884498           \n",
       "47093000901  7.294833           7.294833           7.294833           \n",
       "47093000902  7.294833           7.294833           7.294833           \n",
       "47093001400 23.708207          10.334347           7.294833           \n",
       "47093001500 52.887538          23.100304           7.294833           \n",
       "            txv_rent_no_vehicle txv_rent_01_vehicle txv_rent_02_vehicle\n",
       "47093000100 42.553191           74.772036           35.258359          \n",
       "47093000800 49.240122           70.516717           66.869301          \n",
       "47093000901  7.294833            3.039514            7.294833          \n",
       "47093000902  7.294833           15.197568            7.294833          \n",
       "47093001400 56.534954           51.671733           35.866261          \n",
       "47093001500 27.963526           46.808511           46.200608          \n",
       "            txv_rent_03_vehicle txv_rent_04_vehicle txv_rent_GE05_vehicle\n",
       "47093000100  8.510638           11.550152            7.294833            \n",
       "47093000800 61.398176           39.513678            7.294833            \n",
       "47093000901  7.294833            7.294833            7.294833            \n",
       "47093000902  4.255319            7.294833           14.589666            \n",
       "47093001400 21.884498            7.294833            7.294833            \n",
       "47093001500 43.161094            7.294833            7.294833            "
      ]
     },
     "metadata": {},
     "output_type": "display_data"
    }
   ],
   "source": [
    "rownames(sg1) <- as.character(sg1$GEOID)\n",
    "sg1 <- sg1[,-1]\n",
    "head(sg1)"
   ]
  },
  {
   "cell_type": "code",
   "execution_count": 10,
   "metadata": {
    "execution": {
     "iopub.execute_input": "2025-02-10T20:50:16.735757Z",
     "iopub.status.busy": "2025-02-10T20:50:16.735423Z",
     "iopub.status.idle": "2025-02-10T20:50:16.763736Z",
     "shell.execute_reply": "2025-02-10T20:50:16.763288Z"
    },
    "vscode": {
     "languageId": "r"
    }
   },
   "outputs": [
    {
     "data": {
      "text/html": [
       "<table class=\"dataframe\">\n",
       "<caption>A data.frame: 6 × 182</caption>\n",
       "<thead>\n",
       "\t<tr><th></th><th scope=col>population</th><th scope=col>group_quarters_pop</th><th scope=col>housing_units</th><th scope=col>occhu</th><th scope=col>civ_noninst_pop</th><th scope=col>male_hours_GE35</th><th scope=col>male_hours_15.34</th><th scope=col>male_hours_1.14</th><th scope=col>female_hours_GE35</th><th scope=col>female_hours_15.34</th><th scope=col>⋯</th><th scope=col>txv_own_02_vehicle</th><th scope=col>txv_own_03_vehicle</th><th scope=col>txv_own_04_vehicle</th><th scope=col>txv_own_GE05_vehicle</th><th scope=col>txv_rent_no_vehicle</th><th scope=col>txv_rent_01_vehicle</th><th scope=col>txv_rent_02_vehicle</th><th scope=col>txv_rent_03_vehicle</th><th scope=col>txv_rent_04_vehicle</th><th scope=col>txv_rent_GE05_vehicle</th></tr>\n",
       "\t<tr><th></th><th scope=col>&lt;dbl&gt;</th><th scope=col>&lt;dbl&gt;</th><th scope=col>&lt;dbl&gt;</th><th scope=col>&lt;dbl&gt;</th><th scope=col>&lt;dbl&gt;</th><th scope=col>&lt;dbl&gt;</th><th scope=col>&lt;dbl&gt;</th><th scope=col>&lt;dbl&gt;</th><th scope=col>&lt;dbl&gt;</th><th scope=col>&lt;dbl&gt;</th><th scope=col>⋯</th><th scope=col>&lt;dbl&gt;</th><th scope=col>&lt;dbl&gt;</th><th scope=col>&lt;dbl&gt;</th><th scope=col>&lt;dbl&gt;</th><th scope=col>&lt;dbl&gt;</th><th scope=col>&lt;dbl&gt;</th><th scope=col>&lt;dbl&gt;</th><th scope=col>&lt;dbl&gt;</th><th scope=col>&lt;dbl&gt;</th><th scope=col>&lt;dbl&gt;</th></tr>\n",
       "</thead>\n",
       "<tbody>\n",
       "\t<tr><th scope=row>470930001001</th><td>137.9939</td><td> 62.613982</td><td>49.848024</td><td>66.869301</td><td>122.7964</td><td>82.67477</td><td> 68.08511</td><td>34.650456</td><td> 68.69301</td><td> 44.37690</td><td>⋯</td><td>45.592705</td><td> 4.255319</td><td>7.294833</td><td> 7.294833</td><td>42.553191</td><td>74.772036</td><td>35.258359</td><td> 8.510638</td><td>11.550152</td><td> 7.294833</td></tr>\n",
       "\t<tr><th scope=row>470930008001</th><td>203.0395</td><td>  9.118541</td><td>76.595745</td><td>72.340426</td><td>198.7842</td><td>88.14590</td><td> 76.59574</td><td>43.768997</td><td> 58.35866</td><td> 68.69301</td><td>⋯</td><td>13.373860</td><td> 9.118541</td><td>7.294833</td><td> 7.294833</td><td>48.632219</td><td>60.182371</td><td>55.927052</td><td>44.984802</td><td>11.550152</td><td> 7.294833</td></tr>\n",
       "\t<tr><th scope=row>470930008002</th><td>142.8571</td><td> 52.887538</td><td>52.279635</td><td>46.808511</td><td>130.6991</td><td>24.31611</td><td> 11.55015</td><td> 7.294833</td><td> 47.41641</td><td> 37.08207</td><td>⋯</td><td> 6.079027</td><td>20.668693</td><td>7.294833</td><td> 7.294833</td><td> 7.294833</td><td>25.531915</td><td>35.866261</td><td> 7.294833</td><td> 7.294833</td><td> 7.294833</td></tr>\n",
       "\t<tr><th scope=row>470930008003</th><td>272.3404</td><td>136.778116</td><td>64.437690</td><td>64.437690</td><td>272.3404</td><td>79.02736</td><td>114.28571</td><td> 7.294833</td><td> 91.18541</td><td> 26.13982</td><td>⋯</td><td>26.747720</td><td> 7.294833</td><td>7.294833</td><td>21.884498</td><td> 7.294833</td><td>28.571429</td><td>32.218845</td><td>42.553191</td><td>37.082067</td><td> 7.294833</td></tr>\n",
       "\t<tr><th scope=row>470930009011</th><td>181.7629</td><td>181.762918</td><td> 3.039514</td><td> 3.039514</td><td>181.7629</td><td>46.20061</td><td> 55.31915</td><td>57.142857</td><td> 48.63222</td><td>110.03040</td><td>⋯</td><td> 7.294833</td><td> 7.294833</td><td>7.294833</td><td> 7.294833</td><td> 7.294833</td><td> 3.039514</td><td> 7.294833</td><td> 7.294833</td><td> 7.294833</td><td> 7.294833</td></tr>\n",
       "\t<tr><th scope=row>470930009021</th><td>685.1064</td><td>623.708207</td><td>23.100304</td><td>19.452888</td><td>685.1064</td><td>13.37386</td><td>128.87538</td><td>17.021277</td><td>103.95137</td><td>145.28875</td><td>⋯</td><td> 7.294833</td><td> 7.294833</td><td>7.294833</td><td> 7.294833</td><td> 7.294833</td><td>15.197568</td><td> 7.294833</td><td> 4.255319</td><td> 7.294833</td><td>13.981763</td></tr>\n",
       "</tbody>\n",
       "</table>\n"
      ],
      "text/latex": [
       "A data.frame: 6 × 182\n",
       "\\begin{tabular}{r|lllllllllllllllllllll}\n",
       "  & population & group\\_quarters\\_pop & housing\\_units & occhu & civ\\_noninst\\_pop & male\\_hours\\_GE35 & male\\_hours\\_15.34 & male\\_hours\\_1.14 & female\\_hours\\_GE35 & female\\_hours\\_15.34 & ⋯ & txv\\_own\\_02\\_vehicle & txv\\_own\\_03\\_vehicle & txv\\_own\\_04\\_vehicle & txv\\_own\\_GE05\\_vehicle & txv\\_rent\\_no\\_vehicle & txv\\_rent\\_01\\_vehicle & txv\\_rent\\_02\\_vehicle & txv\\_rent\\_03\\_vehicle & txv\\_rent\\_04\\_vehicle & txv\\_rent\\_GE05\\_vehicle\\\\\n",
       "  & <dbl> & <dbl> & <dbl> & <dbl> & <dbl> & <dbl> & <dbl> & <dbl> & <dbl> & <dbl> & ⋯ & <dbl> & <dbl> & <dbl> & <dbl> & <dbl> & <dbl> & <dbl> & <dbl> & <dbl> & <dbl>\\\\\n",
       "\\hline\n",
       "\t470930001001 & 137.9939 &  62.613982 & 49.848024 & 66.869301 & 122.7964 & 82.67477 &  68.08511 & 34.650456 &  68.69301 &  44.37690 & ⋯ & 45.592705 &  4.255319 & 7.294833 &  7.294833 & 42.553191 & 74.772036 & 35.258359 &  8.510638 & 11.550152 &  7.294833\\\\\n",
       "\t470930008001 & 203.0395 &   9.118541 & 76.595745 & 72.340426 & 198.7842 & 88.14590 &  76.59574 & 43.768997 &  58.35866 &  68.69301 & ⋯ & 13.373860 &  9.118541 & 7.294833 &  7.294833 & 48.632219 & 60.182371 & 55.927052 & 44.984802 & 11.550152 &  7.294833\\\\\n",
       "\t470930008002 & 142.8571 &  52.887538 & 52.279635 & 46.808511 & 130.6991 & 24.31611 &  11.55015 &  7.294833 &  47.41641 &  37.08207 & ⋯ &  6.079027 & 20.668693 & 7.294833 &  7.294833 &  7.294833 & 25.531915 & 35.866261 &  7.294833 &  7.294833 &  7.294833\\\\\n",
       "\t470930008003 & 272.3404 & 136.778116 & 64.437690 & 64.437690 & 272.3404 & 79.02736 & 114.28571 &  7.294833 &  91.18541 &  26.13982 & ⋯ & 26.747720 &  7.294833 & 7.294833 & 21.884498 &  7.294833 & 28.571429 & 32.218845 & 42.553191 & 37.082067 &  7.294833\\\\\n",
       "\t470930009011 & 181.7629 & 181.762918 &  3.039514 &  3.039514 & 181.7629 & 46.20061 &  55.31915 & 57.142857 &  48.63222 & 110.03040 & ⋯ &  7.294833 &  7.294833 & 7.294833 &  7.294833 &  7.294833 &  3.039514 &  7.294833 &  7.294833 &  7.294833 &  7.294833\\\\\n",
       "\t470930009021 & 685.1064 & 623.708207 & 23.100304 & 19.452888 & 685.1064 & 13.37386 & 128.87538 & 17.021277 & 103.95137 & 145.28875 & ⋯ &  7.294833 &  7.294833 & 7.294833 &  7.294833 &  7.294833 & 15.197568 &  7.294833 &  4.255319 &  7.294833 & 13.981763\\\\\n",
       "\\end{tabular}\n"
      ],
      "text/markdown": [
       "\n",
       "A data.frame: 6 × 182\n",
       "\n",
       "| <!--/--> | population &lt;dbl&gt; | group_quarters_pop &lt;dbl&gt; | housing_units &lt;dbl&gt; | occhu &lt;dbl&gt; | civ_noninst_pop &lt;dbl&gt; | male_hours_GE35 &lt;dbl&gt; | male_hours_15.34 &lt;dbl&gt; | male_hours_1.14 &lt;dbl&gt; | female_hours_GE35 &lt;dbl&gt; | female_hours_15.34 &lt;dbl&gt; | ⋯ ⋯ | txv_own_02_vehicle &lt;dbl&gt; | txv_own_03_vehicle &lt;dbl&gt; | txv_own_04_vehicle &lt;dbl&gt; | txv_own_GE05_vehicle &lt;dbl&gt; | txv_rent_no_vehicle &lt;dbl&gt; | txv_rent_01_vehicle &lt;dbl&gt; | txv_rent_02_vehicle &lt;dbl&gt; | txv_rent_03_vehicle &lt;dbl&gt; | txv_rent_04_vehicle &lt;dbl&gt; | txv_rent_GE05_vehicle &lt;dbl&gt; |\n",
       "|---|---|---|---|---|---|---|---|---|---|---|---|---|---|---|---|---|---|---|---|---|---|\n",
       "| 470930001001 | 137.9939 |  62.613982 | 49.848024 | 66.869301 | 122.7964 | 82.67477 |  68.08511 | 34.650456 |  68.69301 |  44.37690 | ⋯ | 45.592705 |  4.255319 | 7.294833 |  7.294833 | 42.553191 | 74.772036 | 35.258359 |  8.510638 | 11.550152 |  7.294833 |\n",
       "| 470930008001 | 203.0395 |   9.118541 | 76.595745 | 72.340426 | 198.7842 | 88.14590 |  76.59574 | 43.768997 |  58.35866 |  68.69301 | ⋯ | 13.373860 |  9.118541 | 7.294833 |  7.294833 | 48.632219 | 60.182371 | 55.927052 | 44.984802 | 11.550152 |  7.294833 |\n",
       "| 470930008002 | 142.8571 |  52.887538 | 52.279635 | 46.808511 | 130.6991 | 24.31611 |  11.55015 |  7.294833 |  47.41641 |  37.08207 | ⋯ |  6.079027 | 20.668693 | 7.294833 |  7.294833 |  7.294833 | 25.531915 | 35.866261 |  7.294833 |  7.294833 |  7.294833 |\n",
       "| 470930008003 | 272.3404 | 136.778116 | 64.437690 | 64.437690 | 272.3404 | 79.02736 | 114.28571 |  7.294833 |  91.18541 |  26.13982 | ⋯ | 26.747720 |  7.294833 | 7.294833 | 21.884498 |  7.294833 | 28.571429 | 32.218845 | 42.553191 | 37.082067 |  7.294833 |\n",
       "| 470930009011 | 181.7629 | 181.762918 |  3.039514 |  3.039514 | 181.7629 | 46.20061 |  55.31915 | 57.142857 |  48.63222 | 110.03040 | ⋯ |  7.294833 |  7.294833 | 7.294833 |  7.294833 |  7.294833 |  3.039514 |  7.294833 |  7.294833 |  7.294833 |  7.294833 |\n",
       "| 470930009021 | 685.1064 | 623.708207 | 23.100304 | 19.452888 | 685.1064 | 13.37386 | 128.87538 | 17.021277 | 103.95137 | 145.28875 | ⋯ |  7.294833 |  7.294833 | 7.294833 |  7.294833 |  7.294833 | 15.197568 |  7.294833 |  4.255319 |  7.294833 | 13.981763 |\n",
       "\n"
      ],
      "text/plain": [
       "             population group_quarters_pop housing_units occhu    \n",
       "470930001001 137.9939    62.613982         49.848024     66.869301\n",
       "470930008001 203.0395     9.118541         76.595745     72.340426\n",
       "470930008002 142.8571    52.887538         52.279635     46.808511\n",
       "470930008003 272.3404   136.778116         64.437690     64.437690\n",
       "470930009011 181.7629   181.762918          3.039514      3.039514\n",
       "470930009021 685.1064   623.708207         23.100304     19.452888\n",
       "             civ_noninst_pop male_hours_GE35 male_hours_15.34 male_hours_1.14\n",
       "470930001001 122.7964        82.67477         68.08511        34.650456      \n",
       "470930008001 198.7842        88.14590         76.59574        43.768997      \n",
       "470930008002 130.6991        24.31611         11.55015         7.294833      \n",
       "470930008003 272.3404        79.02736        114.28571         7.294833      \n",
       "470930009011 181.7629        46.20061         55.31915        57.142857      \n",
       "470930009021 685.1064        13.37386        128.87538        17.021277      \n",
       "             female_hours_GE35 female_hours_15.34 ⋯ txv_own_02_vehicle\n",
       "470930001001  68.69301          44.37690          ⋯ 45.592705         \n",
       "470930008001  58.35866          68.69301          ⋯ 13.373860         \n",
       "470930008002  47.41641          37.08207          ⋯  6.079027         \n",
       "470930008003  91.18541          26.13982          ⋯ 26.747720         \n",
       "470930009011  48.63222         110.03040          ⋯  7.294833         \n",
       "470930009021 103.95137         145.28875          ⋯  7.294833         \n",
       "             txv_own_03_vehicle txv_own_04_vehicle txv_own_GE05_vehicle\n",
       "470930001001  4.255319          7.294833            7.294833           \n",
       "470930008001  9.118541          7.294833            7.294833           \n",
       "470930008002 20.668693          7.294833            7.294833           \n",
       "470930008003  7.294833          7.294833           21.884498           \n",
       "470930009011  7.294833          7.294833            7.294833           \n",
       "470930009021  7.294833          7.294833            7.294833           \n",
       "             txv_rent_no_vehicle txv_rent_01_vehicle txv_rent_02_vehicle\n",
       "470930001001 42.553191           74.772036           35.258359          \n",
       "470930008001 48.632219           60.182371           55.927052          \n",
       "470930008002  7.294833           25.531915           35.866261          \n",
       "470930008003  7.294833           28.571429           32.218845          \n",
       "470930009011  7.294833            3.039514            7.294833          \n",
       "470930009021  7.294833           15.197568            7.294833          \n",
       "             txv_rent_03_vehicle txv_rent_04_vehicle txv_rent_GE05_vehicle\n",
       "470930001001  8.510638           11.550152            7.294833            \n",
       "470930008001 44.984802           11.550152            7.294833            \n",
       "470930008002  7.294833            7.294833            7.294833            \n",
       "470930008003 42.553191           37.082067            7.294833            \n",
       "470930009011  7.294833            7.294833            7.294833            \n",
       "470930009021  4.255319            7.294833           13.981763            "
      ]
     },
     "metadata": {},
     "output_type": "display_data"
    }
   ],
   "source": [
    "rownames(sg2) <- as.character(sg2$GEOID)\n",
    "sg2 <- sg2[,-1]\n",
    "head(sg2)"
   ]
  },
  {
   "cell_type": "markdown",
   "metadata": {},
   "source": [
    "### Weights"
   ]
  },
  {
   "cell_type": "code",
   "execution_count": 11,
   "metadata": {
    "execution": {
     "iopub.execute_input": "2025-02-10T20:50:16.764774Z",
     "iopub.status.busy": "2025-02-10T20:50:16.764441Z",
     "iopub.status.idle": "2025-02-10T20:50:16.770553Z",
     "shell.execute_reply": "2025-02-10T20:50:16.770157Z"
    },
    "vscode": {
     "languageId": "r"
    }
   },
   "outputs": [
    {
     "name": "stdout",
     "output_type": "stream",
     "text": [
      "[1] \"length: 5017\"\n"
     ]
    }
   ],
   "source": [
    "wt <- read.csv(\"../data/knox/wt_4701603.csv.gz\")\n",
    "wt <- wt[,2]\n",
    "print(paste(\"length:\", length(wt)))"
   ]
  },
  {
   "cell_type": "code",
   "execution_count": 12,
   "metadata": {
    "execution": {
     "iopub.execute_input": "2025-02-10T20:50:16.771529Z",
     "iopub.status.busy": "2025-02-10T20:50:16.771217Z",
     "iopub.status.idle": "2025-02-10T20:50:16.775356Z",
     "shell.execute_reply": "2025-02-10T20:50:16.774924Z"
    }
   },
   "outputs": [
    {
     "data": {
      "text/html": [
       "<style>\n",
       ".list-inline {list-style: none; margin:0; padding: 0}\n",
       ".list-inline>li {display: inline-block}\n",
       ".list-inline>li:not(:last-child)::after {content: \"\\00b7\"; padding: 0 .5ex}\n",
       "</style>\n",
       "<ol class=list-inline><li>25</li><li>14</li><li>8</li><li>62</li><li>2</li><li>36</li></ol>\n"
      ],
      "text/latex": [
       "\\begin{enumerate*}\n",
       "\\item 25\n",
       "\\item 14\n",
       "\\item 8\n",
       "\\item 62\n",
       "\\item 2\n",
       "\\item 36\n",
       "\\end{enumerate*}\n"
      ],
      "text/markdown": [
       "1. 25\n",
       "2. 14\n",
       "3. 8\n",
       "4. 62\n",
       "5. 2\n",
       "6. 36\n",
       "\n",
       "\n"
      ],
      "text/plain": [
       "[1] 25 14  8 62  2 36"
      ]
     },
     "metadata": {},
     "output_type": "display_data"
    }
   ],
   "source": [
    "head(wt)"
   ]
  },
  {
   "cell_type": "markdown",
   "metadata": {},
   "source": [
    "## Setup P-MEDM Problem"
   ]
  },
  {
   "cell_type": "code",
   "execution_count": 13,
   "metadata": {
    "execution": {
     "iopub.execute_input": "2025-02-10T20:50:16.776581Z",
     "iopub.status.busy": "2025-02-10T20:50:16.776173Z",
     "iopub.status.idle": "2025-02-10T20:50:16.781179Z",
     "shell.execute_reply": "2025-02-10T20:50:16.780667Z"
    },
    "vscode": {
     "languageId": "r"
    }
   },
   "outputs": [],
   "source": [
    "# params\n",
    "g1 <- NULL # level 1 (e.g., tract IDs)\n",
    "g2 <- NULL # level 2 (e.g., bg IDs)\n",
    "include_cg0 <- TRUE # whether to include Level 0 / PUMA constraints"
   ]
  },
  {
   "cell_type": "markdown",
   "metadata": {},
   "source": [
    "### Individual Constraints"
   ]
  },
  {
   "cell_type": "code",
   "execution_count": 14,
   "metadata": {
    "execution": {
     "iopub.execute_input": "2025-02-10T20:50:16.782387Z",
     "iopub.status.busy": "2025-02-10T20:50:16.782001Z",
     "iopub.status.idle": "2025-02-10T20:50:17.166218Z",
     "shell.execute_reply": "2025-02-10T20:50:17.165641Z"
    },
    "vscode": {
     "languageId": "r"
    }
   },
   "outputs": [],
   "source": [
    "# individual constraints\n",
    "cind <- Matrix::Matrix(as.matrix(cind), sparse = TRUE)\n",
    "pX <- list(cind, cind)"
   ]
  },
  {
   "cell_type": "markdown",
   "metadata": {},
   "source": [
    "### Geographies"
   ]
  },
  {
   "cell_type": "code",
   "execution_count": 15,
   "metadata": {
    "execution": {
     "iopub.execute_input": "2025-02-10T20:50:17.167406Z",
     "iopub.status.busy": "2025-02-10T20:50:17.167053Z",
     "iopub.status.idle": "2025-02-10T20:50:17.174992Z",
     "shell.execute_reply": "2025-02-10T20:50:17.174546Z"
    },
    "vscode": {
     "languageId": "r"
    }
   },
   "outputs": [
    {
     "data": {
      "text/html": [
       "<table class=\"dataframe\">\n",
       "<caption>A data.frame: 6 × 2</caption>\n",
       "<thead>\n",
       "\t<tr><th></th><th scope=col>g2</th><th scope=col>g1</th></tr>\n",
       "\t<tr><th></th><th scope=col>&lt;chr&gt;</th><th scope=col>&lt;chr&gt;</th></tr>\n",
       "</thead>\n",
       "<tbody>\n",
       "\t<tr><th scope=row>470930001001</th><td>470930001001</td><td>47093000100</td></tr>\n",
       "\t<tr><th scope=row>470930008001</th><td>470930008001</td><td>47093000800</td></tr>\n",
       "\t<tr><th scope=row>470930008002</th><td>470930008002</td><td>47093000800</td></tr>\n",
       "\t<tr><th scope=row>470930008003</th><td>470930008003</td><td>47093000800</td></tr>\n",
       "\t<tr><th scope=row>470930009011</th><td>470930009011</td><td>47093000901</td></tr>\n",
       "\t<tr><th scope=row>470930009021</th><td>470930009021</td><td>47093000902</td></tr>\n",
       "</tbody>\n",
       "</table>\n"
      ],
      "text/latex": [
       "A data.frame: 6 × 2\n",
       "\\begin{tabular}{r|ll}\n",
       "  & g2 & g1\\\\\n",
       "  & <chr> & <chr>\\\\\n",
       "\\hline\n",
       "\t470930001001 & 470930001001 & 47093000100\\\\\n",
       "\t470930008001 & 470930008001 & 47093000800\\\\\n",
       "\t470930008002 & 470930008002 & 47093000800\\\\\n",
       "\t470930008003 & 470930008003 & 47093000800\\\\\n",
       "\t470930009011 & 470930009011 & 47093000901\\\\\n",
       "\t470930009021 & 470930009021 & 47093000902\\\\\n",
       "\\end{tabular}\n"
      ],
      "text/markdown": [
       "\n",
       "A data.frame: 6 × 2\n",
       "\n",
       "| <!--/--> | g2 &lt;chr&gt; | g1 &lt;chr&gt; |\n",
       "|---|---|---|\n",
       "| 470930001001 | 470930001001 | 47093000100 |\n",
       "| 470930008001 | 470930008001 | 47093000800 |\n",
       "| 470930008002 | 470930008002 | 47093000800 |\n",
       "| 470930008003 | 470930008003 | 47093000800 |\n",
       "| 470930009011 | 470930009011 | 47093000901 |\n",
       "| 470930009021 | 470930009021 | 47093000902 |\n",
       "\n"
      ],
      "text/plain": [
       "             g2           g1         \n",
       "470930001001 470930001001 47093000100\n",
       "470930008001 470930008001 47093000800\n",
       "470930008002 470930008002 47093000800\n",
       "470930008003 470930008003 47093000800\n",
       "470930009011 470930009011 47093000901\n",
       "470930009021 470930009021 47093000902"
      ]
     },
     "metadata": {},
     "output_type": "display_data"
    }
   ],
   "source": [
    "## Topology\n",
    "if(!is.null(g1) & !is.null(g2)){\n",
    "\n",
    "    topo = data.frame(g2, g1)\n",
    "\n",
    "}else{\n",
    "\n",
    "g1_ids = sapply(rownames(cg2), function(g) substr(g, 1, nchar(g)-1))\n",
    "\n",
    "        topo = data.frame(g2 = rownames(cg2), g1 = g1_ids)\n",
    "\n",
    "}\n",
    "head(topo)"
   ]
  },
  {
   "cell_type": "code",
   "execution_count": 16,
   "metadata": {
    "execution": {
     "iopub.execute_input": "2025-02-10T20:50:17.176090Z",
     "iopub.status.busy": "2025-02-10T20:50:17.175724Z",
     "iopub.status.idle": "2025-02-10T20:50:17.182296Z",
     "shell.execute_reply": "2025-02-10T20:50:17.181567Z"
    },
    "vscode": {
     "languageId": "r"
    }
   },
   "outputs": [
    {
     "data": {
      "text/html": [
       "<table class=\"dataframe\">\n",
       "<caption>A matrix: 1 × 113 of type dbl</caption>\n",
       "<tbody>\n",
       "\t<tr><td>1</td><td>1</td><td>1</td><td>1</td><td>1</td><td>1</td><td>1</td><td>1</td><td>1</td><td>1</td><td>⋯</td><td>1</td><td>1</td><td>1</td><td>1</td><td>1</td><td>1</td><td>1</td><td>1</td><td>1</td><td>1</td></tr>\n",
       "</tbody>\n",
       "</table>\n"
      ],
      "text/latex": [
       "A matrix: 1 × 113 of type dbl\n",
       "\\begin{tabular}{lllllllllllllllllllll}\n",
       "\t 1 & 1 & 1 & 1 & 1 & 1 & 1 & 1 & 1 & 1 & ⋯ & 1 & 1 & 1 & 1 & 1 & 1 & 1 & 1 & 1 & 1\\\\\n",
       "\\end{tabular}\n"
      ],
      "text/markdown": [
       "\n",
       "A matrix: 1 × 113 of type dbl\n",
       "\n",
       "| 1 | 1 | 1 | 1 | 1 | 1 | 1 | 1 | 1 | 1 | ⋯ | 1 | 1 | 1 | 1 | 1 | 1 | 1 | 1 | 1 | 1 |\n",
       "\n"
      ],
      "text/plain": [
       "     [,1] [,2] [,3] [,4] [,5] [,6] [,7] [,8] [,9] [,10] [,11] [,12] [,13] [,14]\n",
       "[1,] 1    1    1    1    1    1    1    1    1    1     ⋯     1     1     1    \n",
       "     [,15] [,16] [,17] [,18] [,19] [,20] [,21]\n",
       "[1,] 1     1     1     1     1     1     1    "
      ]
     },
     "metadata": {},
     "output_type": "display_data"
    }
   ],
   "source": [
    "head(Matrix::t(rep(1, nrow(topo))))"
   ]
  },
  {
   "cell_type": "code",
   "execution_count": 17,
   "metadata": {
    "execution": {
     "iopub.execute_input": "2025-02-10T20:50:17.184076Z",
     "iopub.status.busy": "2025-02-10T20:50:17.183482Z",
     "iopub.status.idle": "2025-02-10T20:50:17.195969Z",
     "shell.execute_reply": "2025-02-10T20:50:17.195343Z"
    },
    "vscode": {
     "languageId": "r"
    }
   },
   "outputs": [
    {
     "data": {
      "text/html": [
       "<table class=\"dataframe\">\n",
       "<caption>A matrix: 1 × 113 of type dbl</caption>\n",
       "<tbody>\n",
       "\t<tr><td>1</td><td>1</td><td>1</td><td>1</td><td>1</td><td>1</td><td>1</td><td>1</td><td>1</td><td>1</td><td>⋯</td><td>1</td><td>1</td><td>1</td><td>1</td><td>1</td><td>1</td><td>1</td><td>1</td><td>1</td><td>1</td></tr>\n",
       "</tbody>\n",
       "</table>\n"
      ],
      "text/latex": [
       "A matrix: 1 × 113 of type dbl\n",
       "\\begin{tabular}{lllllllllllllllllllll}\n",
       "\t 1 & 1 & 1 & 1 & 1 & 1 & 1 & 1 & 1 & 1 & ⋯ & 1 & 1 & 1 & 1 & 1 & 1 & 1 & 1 & 1 & 1\\\\\n",
       "\\end{tabular}\n"
      ],
      "text/markdown": [
       "\n",
       "A matrix: 1 × 113 of type dbl\n",
       "\n",
       "| 1 | 1 | 1 | 1 | 1 | 1 | 1 | 1 | 1 | 1 | ⋯ | 1 | 1 | 1 | 1 | 1 | 1 | 1 | 1 | 1 | 1 |\n",
       "\n"
      ],
      "text/plain": [
       "     [,1] [,2] [,3] [,4] [,5] [,6] [,7] [,8] [,9] [,10] [,11] [,12] [,13] [,14]\n",
       "[1,] 1    1    1    1    1    1    1    1    1    1     ⋯     1     1     1    \n",
       "     [,15] [,16] [,17] [,18] [,19] [,20] [,21]\n",
       "[1,] 1     1     1     1     1     1     1    "
      ]
     },
     "metadata": {},
     "output_type": "display_data"
    }
   ],
   "source": [
    "if (include_cg0){\n",
    "  A0 <- Matrix::t(rep(1, nrow(topo)))\n",
    "}else{\n",
    "  A0 <- NULL\n",
    "}\n",
    "head(A0)"
   ]
  },
  {
   "cell_type": "code",
   "execution_count": 18,
   "metadata": {
    "execution": {
     "iopub.execute_input": "2025-02-10T20:50:17.197578Z",
     "iopub.status.busy": "2025-02-10T20:50:17.197055Z",
     "iopub.status.idle": "2025-02-10T20:50:17.209944Z",
     "shell.execute_reply": "2025-02-10T20:50:17.209419Z"
    },
    "vscode": {
     "languageId": "r"
    }
   },
   "outputs": [],
   "source": [
    "A1 <- do.call('rbind', lapply(unique(topo[,2]), function(g){\n",
    "  nbt <- topo[topo[,2]==g,][,1]\n",
    "  ifelse(topo[,1] %in% nbt,1,0)\n",
    "}))\n",
    "\n",
    "rownames(A1) <- unique(topo[,2])\n",
    "colnames(A1) <- topo[,1]\n",
    "A1 <- Matrix::Matrix(A1, sparse = TRUE)\n",
    "\n",
    "A2 <- do.call('rbind', lapply(topo[,1], function(g){\n",
    "  ifelse(topo[,1] %in% g,1,0)\n",
    "}))\n",
    "rownames(A2) <- topo[,1]\n",
    "colnames(A2) <- topo[,1]\n",
    "A2 <- Matrix::Matrix(A2, sparse = TRUE)"
   ]
  },
  {
   "cell_type": "code",
   "execution_count": 19,
   "metadata": {
    "execution": {
     "iopub.execute_input": "2025-02-10T20:50:17.211596Z",
     "iopub.status.busy": "2025-02-10T20:50:17.211102Z",
     "iopub.status.idle": "2025-02-10T20:50:17.215557Z",
     "shell.execute_reply": "2025-02-10T20:50:17.214883Z"
    },
    "vscode": {
     "languageId": "r"
    }
   },
   "outputs": [],
   "source": [
    "A <- list(A1, A2)\n",
    "names(A) <- c(\"lv1\", \"lv2\")\n",
    "if (!is.null(A0)){\n",
    "  A <- c(list(\"lv0\" = A0), A)\n",
    "}"
   ]
  },
  {
   "cell_type": "code",
   "execution_count": 20,
   "metadata": {
    "execution": {
     "iopub.execute_input": "2025-02-10T20:50:17.217080Z",
     "iopub.status.busy": "2025-02-10T20:50:17.216609Z",
     "iopub.status.idle": "2025-02-10T20:50:17.220901Z",
     "shell.execute_reply": "2025-02-10T20:50:17.220426Z"
    }
   },
   "outputs": [],
   "source": [
    "# output too long - uncomment & run interactively\n",
    "# A"
   ]
  },
  {
   "cell_type": "code",
   "execution_count": 21,
   "metadata": {
    "execution": {
     "iopub.execute_input": "2025-02-10T20:50:17.222134Z",
     "iopub.status.busy": "2025-02-10T20:50:17.221724Z",
     "iopub.status.idle": "2025-02-10T20:50:17.227008Z",
     "shell.execute_reply": "2025-02-10T20:50:17.226537Z"
    },
    "vscode": {
     "languageId": "r"
    }
   },
   "outputs": [
    {
     "data": {
      "text/html": [
       "<dl>\n",
       "\t<dt>$lv0</dt>\n",
       "\t\t<dd><style>\n",
       ".list-inline {list-style: none; margin:0; padding: 0}\n",
       ".list-inline>li {display: inline-block}\n",
       ".list-inline>li:not(:last-child)::after {content: \"\\00b7\"; padding: 0 .5ex}\n",
       "</style>\n",
       "<ol class=list-inline><li>1</li><li>113</li></ol>\n",
       "</dd>\n",
       "\t<dt>$lv1</dt>\n",
       "\t\t<dd><style>\n",
       ".list-inline {list-style: none; margin:0; padding: 0}\n",
       ".list-inline>li {display: inline-block}\n",
       ".list-inline>li:not(:last-child)::after {content: \"\\00b7\"; padding: 0 .5ex}\n",
       "</style>\n",
       "<ol class=list-inline><li>49</li><li>113</li></ol>\n",
       "</dd>\n",
       "\t<dt>$lv2</dt>\n",
       "\t\t<dd><style>\n",
       ".list-inline {list-style: none; margin:0; padding: 0}\n",
       ".list-inline>li {display: inline-block}\n",
       ".list-inline>li:not(:last-child)::after {content: \"\\00b7\"; padding: 0 .5ex}\n",
       "</style>\n",
       "<ol class=list-inline><li>113</li><li>113</li></ol>\n",
       "</dd>\n",
       "</dl>\n"
      ],
      "text/latex": [
       "\\begin{description}\n",
       "\\item[\\$lv0] \\begin{enumerate*}\n",
       "\\item 1\n",
       "\\item 113\n",
       "\\end{enumerate*}\n",
       "\n",
       "\\item[\\$lv1] \\begin{enumerate*}\n",
       "\\item 49\n",
       "\\item 113\n",
       "\\end{enumerate*}\n",
       "\n",
       "\\item[\\$lv2] \\begin{enumerate*}\n",
       "\\item 113\n",
       "\\item 113\n",
       "\\end{enumerate*}\n",
       "\n",
       "\\end{description}\n"
      ],
      "text/markdown": [
       "$lv0\n",
       ":   1. 1\n",
       "2. 113\n",
       "\n",
       "\n",
       "\n",
       "$lv1\n",
       ":   1. 49\n",
       "2. 113\n",
       "\n",
       "\n",
       "\n",
       "$lv2\n",
       ":   1. 113\n",
       "2. 113\n",
       "\n",
       "\n",
       "\n",
       "\n",
       "\n"
      ],
      "text/plain": [
       "$lv0\n",
       "[1]   1 113\n",
       "\n",
       "$lv1\n",
       "[1]  49 113\n",
       "\n",
       "$lv2\n",
       "[1] 113 113\n"
      ]
     },
     "metadata": {},
     "output_type": "display_data"
    }
   ],
   "source": [
    "lapply(A, dim)"
   ]
  },
  {
   "cell_type": "markdown",
   "metadata": {},
   "source": [
    "### Geographic Constraints"
   ]
  },
  {
   "cell_type": "code",
   "execution_count": 22,
   "metadata": {
    "execution": {
     "iopub.execute_input": "2025-02-10T20:50:17.228382Z",
     "iopub.status.busy": "2025-02-10T20:50:17.227946Z",
     "iopub.status.idle": "2025-02-10T20:50:17.254781Z",
     "shell.execute_reply": "2025-02-10T20:50:17.254293Z"
    },
    "vscode": {
     "languageId": "r"
    }
   },
   "outputs": [
    {
     "data": {
      "text/html": [
       "<table class=\"dataframe\">\n",
       "<caption>A data.frame: 1 × 182</caption>\n",
       "<thead>\n",
       "\t<tr><th scope=col>population</th><th scope=col>group_quarters_pop</th><th scope=col>housing_units</th><th scope=col>occhu</th><th scope=col>civ_noninst_pop</th><th scope=col>male_hours_GE35</th><th scope=col>male_hours_15.34</th><th scope=col>male_hours_1.14</th><th scope=col>female_hours_GE35</th><th scope=col>female_hours_15.34</th><th scope=col>⋯</th><th scope=col>txv_own_02_vehicle</th><th scope=col>txv_own_03_vehicle</th><th scope=col>txv_own_04_vehicle</th><th scope=col>txv_own_GE05_vehicle</th><th scope=col>txv_rent_no_vehicle</th><th scope=col>txv_rent_01_vehicle</th><th scope=col>txv_rent_02_vehicle</th><th scope=col>txv_rent_03_vehicle</th><th scope=col>txv_rent_04_vehicle</th><th scope=col>txv_rent_GE05_vehicle</th></tr>\n",
       "\t<tr><th scope=col>&lt;dbl&gt;</th><th scope=col>&lt;dbl&gt;</th><th scope=col>&lt;dbl&gt;</th><th scope=col>&lt;dbl&gt;</th><th scope=col>&lt;dbl&gt;</th><th scope=col>&lt;dbl&gt;</th><th scope=col>&lt;dbl&gt;</th><th scope=col>&lt;dbl&gt;</th><th scope=col>&lt;dbl&gt;</th><th scope=col>&lt;dbl&gt;</th><th scope=col>⋯</th><th scope=col>&lt;dbl&gt;</th><th scope=col>&lt;dbl&gt;</th><th scope=col>&lt;dbl&gt;</th><th scope=col>&lt;dbl&gt;</th><th scope=col>&lt;dbl&gt;</th><th scope=col>&lt;dbl&gt;</th><th scope=col>&lt;dbl&gt;</th><th scope=col>&lt;dbl&gt;</th><th scope=col>&lt;dbl&gt;</th><th scope=col>&lt;dbl&gt;</th></tr>\n",
       "</thead>\n",
       "<tbody>\n",
       "\t<tr><td>178350</td><td>8477</td><td>87369</td><td>77471</td><td>176691</td><td>36339</td><td>9545</td><td>2065</td><td>31234</td><td>11849</td><td>⋯</td><td>14825</td><td>5735</td><td>1694</td><td>589</td><td>6882</td><td>19938</td><td>10847</td><td>2872</td><td>786</td><td>323</td></tr>\n",
       "</tbody>\n",
       "</table>\n"
      ],
      "text/latex": [
       "A data.frame: 1 × 182\n",
       "\\begin{tabular}{lllllllllllllllllllll}\n",
       " population & group\\_quarters\\_pop & housing\\_units & occhu & civ\\_noninst\\_pop & male\\_hours\\_GE35 & male\\_hours\\_15.34 & male\\_hours\\_1.14 & female\\_hours\\_GE35 & female\\_hours\\_15.34 & ⋯ & txv\\_own\\_02\\_vehicle & txv\\_own\\_03\\_vehicle & txv\\_own\\_04\\_vehicle & txv\\_own\\_GE05\\_vehicle & txv\\_rent\\_no\\_vehicle & txv\\_rent\\_01\\_vehicle & txv\\_rent\\_02\\_vehicle & txv\\_rent\\_03\\_vehicle & txv\\_rent\\_04\\_vehicle & txv\\_rent\\_GE05\\_vehicle\\\\\n",
       " <dbl> & <dbl> & <dbl> & <dbl> & <dbl> & <dbl> & <dbl> & <dbl> & <dbl> & <dbl> & ⋯ & <dbl> & <dbl> & <dbl> & <dbl> & <dbl> & <dbl> & <dbl> & <dbl> & <dbl> & <dbl>\\\\\n",
       "\\hline\n",
       "\t 178350 & 8477 & 87369 & 77471 & 176691 & 36339 & 9545 & 2065 & 31234 & 11849 & ⋯ & 14825 & 5735 & 1694 & 589 & 6882 & 19938 & 10847 & 2872 & 786 & 323\\\\\n",
       "\\end{tabular}\n"
      ],
      "text/markdown": [
       "\n",
       "A data.frame: 1 × 182\n",
       "\n",
       "| population &lt;dbl&gt; | group_quarters_pop &lt;dbl&gt; | housing_units &lt;dbl&gt; | occhu &lt;dbl&gt; | civ_noninst_pop &lt;dbl&gt; | male_hours_GE35 &lt;dbl&gt; | male_hours_15.34 &lt;dbl&gt; | male_hours_1.14 &lt;dbl&gt; | female_hours_GE35 &lt;dbl&gt; | female_hours_15.34 &lt;dbl&gt; | ⋯ ⋯ | txv_own_02_vehicle &lt;dbl&gt; | txv_own_03_vehicle &lt;dbl&gt; | txv_own_04_vehicle &lt;dbl&gt; | txv_own_GE05_vehicle &lt;dbl&gt; | txv_rent_no_vehicle &lt;dbl&gt; | txv_rent_01_vehicle &lt;dbl&gt; | txv_rent_02_vehicle &lt;dbl&gt; | txv_rent_03_vehicle &lt;dbl&gt; | txv_rent_04_vehicle &lt;dbl&gt; | txv_rent_GE05_vehicle &lt;dbl&gt; |\n",
       "|---|---|---|---|---|---|---|---|---|---|---|---|---|---|---|---|---|---|---|---|---|\n",
       "| 178350 | 8477 | 87369 | 77471 | 176691 | 36339 | 9545 | 2065 | 31234 | 11849 | ⋯ | 14825 | 5735 | 1694 | 589 | 6882 | 19938 | 10847 | 2872 | 786 | 323 |\n",
       "\n"
      ],
      "text/plain": [
       "  population group_quarters_pop housing_units occhu civ_noninst_pop\n",
       "1 178350     8477               87369         77471 176691         \n",
       "  male_hours_GE35 male_hours_15.34 male_hours_1.14 female_hours_GE35\n",
       "1 36339           9545             2065            31234            \n",
       "  female_hours_15.34 ⋯ txv_own_02_vehicle txv_own_03_vehicle txv_own_04_vehicle\n",
       "1 11849              ⋯ 14825              5735               1694              \n",
       "  txv_own_GE05_vehicle txv_rent_no_vehicle txv_rent_01_vehicle\n",
       "1 589                  6882                19938              \n",
       "  txv_rent_02_vehicle txv_rent_03_vehicle txv_rent_04_vehicle\n",
       "1 10847               2872                786                \n",
       "  txv_rent_GE05_vehicle\n",
       "1 323                  "
      ]
     },
     "metadata": {},
     "output_type": "display_data"
    }
   ],
   "source": [
    "# puma constraints\n",
    "if (include_cg0){\n",
    "  cg0 <- data.frame(t(colSums(cg2)))\n",
    "}else{\n",
    "  cg0 <- NULL\n",
    "}\n",
    "cg0"
   ]
  },
  {
   "cell_type": "code",
   "execution_count": 23,
   "metadata": {
    "execution": {
     "iopub.execute_input": "2025-02-10T20:50:17.255922Z",
     "iopub.status.busy": "2025-02-10T20:50:17.255589Z",
     "iopub.status.idle": "2025-02-10T20:50:17.272850Z",
     "shell.execute_reply": "2025-02-10T20:50:17.272403Z"
    },
    "vscode": {
     "languageId": "r"
    }
   },
   "outputs": [
    {
     "data": {
      "text/html": [
       "<dl>\n",
       "\t<dt>[[1]]</dt>\n",
       "\t\t<dd><table class=\"dataframe\">\n",
       "<caption>A matrix: 1 × 182 of type dbl</caption>\n",
       "<thead>\n",
       "\t<tr><th scope=col>population</th><th scope=col>group_quarters_pop</th><th scope=col>housing_units</th><th scope=col>occhu</th><th scope=col>civ_noninst_pop</th><th scope=col>male_hours_GE35</th><th scope=col>male_hours_15.34</th><th scope=col>male_hours_1.14</th><th scope=col>female_hours_GE35</th><th scope=col>female_hours_15.34</th><th scope=col>⋯</th><th scope=col>txv_own_02_vehicle</th><th scope=col>txv_own_03_vehicle</th><th scope=col>txv_own_04_vehicle</th><th scope=col>txv_own_GE05_vehicle</th><th scope=col>txv_rent_no_vehicle</th><th scope=col>txv_rent_01_vehicle</th><th scope=col>txv_rent_02_vehicle</th><th scope=col>txv_rent_03_vehicle</th><th scope=col>txv_rent_04_vehicle</th><th scope=col>txv_rent_GE05_vehicle</th></tr>\n",
       "</thead>\n",
       "<tbody>\n",
       "\t<tr><td>178350</td><td>8477</td><td>87369</td><td>77471</td><td>176691</td><td>36339</td><td>9545</td><td>2065</td><td>31234</td><td>11849</td><td>⋯</td><td>14825</td><td>5735</td><td>1694</td><td>589</td><td>6882</td><td>19938</td><td>10847</td><td>2872</td><td>786</td><td>323</td></tr>\n",
       "</tbody>\n",
       "</table>\n",
       "</dd>\n",
       "\t<dt>$lv1</dt>\n",
       "\t\t<dd><table class=\"dataframe\">\n",
       "<caption>A matrix: 6 × 182 of type int</caption>\n",
       "<thead>\n",
       "\t<tr><th></th><th scope=col>population</th><th scope=col>group_quarters_pop</th><th scope=col>housing_units</th><th scope=col>occhu</th><th scope=col>civ_noninst_pop</th><th scope=col>male_hours_GE35</th><th scope=col>male_hours_15.34</th><th scope=col>male_hours_1.14</th><th scope=col>female_hours_GE35</th><th scope=col>female_hours_15.34</th><th scope=col>⋯</th><th scope=col>txv_own_02_vehicle</th><th scope=col>txv_own_03_vehicle</th><th scope=col>txv_own_04_vehicle</th><th scope=col>txv_own_GE05_vehicle</th><th scope=col>txv_rent_no_vehicle</th><th scope=col>txv_rent_01_vehicle</th><th scope=col>txv_rent_02_vehicle</th><th scope=col>txv_rent_03_vehicle</th><th scope=col>txv_rent_04_vehicle</th><th scope=col>txv_rent_GE05_vehicle</th></tr>\n",
       "</thead>\n",
       "<tbody>\n",
       "\t<tr><th scope=row>47093000100</th><td>2463</td><td> 236</td><td>1837</td><td>1603</td><td>2282</td><td>686</td><td>265</td><td> 68</td><td>484</td><td>115</td><td>⋯</td><td>180</td><td>  4</td><td> 0</td><td> 0</td><td>355</td><td>710</td><td>144</td><td>  8</td><td>11</td><td> 0</td></tr>\n",
       "\t<tr><th scope=row>47093000800</th><td>3607</td><td> 246</td><td>1777</td><td>1465</td><td>3481</td><td>625</td><td>456</td><td> 72</td><td>650</td><td>260</td><td>⋯</td><td> 73</td><td> 41</td><td> 0</td><td>40</td><td>154</td><td>450</td><td>318</td><td>193</td><td>86</td><td> 0</td></tr>\n",
       "\t<tr><th scope=row>47093000901</th><td>1965</td><td>1958</td><td>   4</td><td>   4</td><td>1965</td><td> 68</td><td>351</td><td>142</td><td>145</td><td>380</td><td>⋯</td><td>  0</td><td>  0</td><td> 0</td><td> 0</td><td>  0</td><td>  4</td><td>  0</td><td>  0</td><td> 0</td><td> 0</td></tr>\n",
       "\t<tr><th scope=row>47093000902</th><td>3034</td><td>2581</td><td>  66</td><td>  39</td><td>3034</td><td>341</td><td>528</td><td>242</td><td>207</td><td>537</td><td>⋯</td><td>  0</td><td>  0</td><td> 0</td><td> 0</td><td>  0</td><td> 15</td><td>  0</td><td>  5</td><td> 0</td><td>19</td></tr>\n",
       "\t<tr><th scope=row>47093001400</th><td>2447</td><td>   0</td><td>1069</td><td> 791</td><td>2447</td><td>307</td><td> 42</td><td> 10</td><td>254</td><td>115</td><td>⋯</td><td> 85</td><td> 57</td><td>10</td><td> 0</td><td>180</td><td>252</td><td> 82</td><td> 35</td><td> 0</td><td> 0</td></tr>\n",
       "\t<tr><th scope=row>47093001500</th><td>3520</td><td> 194</td><td>1523</td><td>1362</td><td>3337</td><td>898</td><td> 60</td><td> 22</td><td>614</td><td>283</td><td>⋯</td><td>292</td><td>149</td><td>46</td><td> 0</td><td> 51</td><td>256</td><td>177</td><td>104</td><td> 0</td><td> 0</td></tr>\n",
       "</tbody>\n",
       "</table>\n",
       "</dd>\n",
       "\t<dt>$lv2</dt>\n",
       "\t\t<dd><table class=\"dataframe\">\n",
       "<caption>A matrix: 6 × 182 of type int</caption>\n",
       "<thead>\n",
       "\t<tr><th></th><th scope=col>population</th><th scope=col>group_quarters_pop</th><th scope=col>housing_units</th><th scope=col>occhu</th><th scope=col>civ_noninst_pop</th><th scope=col>male_hours_GE35</th><th scope=col>male_hours_15.34</th><th scope=col>male_hours_1.14</th><th scope=col>female_hours_GE35</th><th scope=col>female_hours_15.34</th><th scope=col>⋯</th><th scope=col>txv_own_02_vehicle</th><th scope=col>txv_own_03_vehicle</th><th scope=col>txv_own_04_vehicle</th><th scope=col>txv_own_GE05_vehicle</th><th scope=col>txv_rent_no_vehicle</th><th scope=col>txv_rent_01_vehicle</th><th scope=col>txv_rent_02_vehicle</th><th scope=col>txv_rent_03_vehicle</th><th scope=col>txv_rent_04_vehicle</th><th scope=col>txv_rent_GE05_vehicle</th></tr>\n",
       "</thead>\n",
       "<tbody>\n",
       "\t<tr><th scope=row>470930001001</th><td>2463</td><td> 236</td><td>1837</td><td>1603</td><td>2282</td><td>686</td><td>265</td><td> 68</td><td>484</td><td>115</td><td>⋯</td><td>180</td><td> 4</td><td>0</td><td> 0</td><td>355</td><td>710</td><td>144</td><td>  8</td><td>11</td><td> 0</td></tr>\n",
       "\t<tr><th scope=row>470930008001</th><td>1697</td><td>   7</td><td>1031</td><td> 831</td><td>1659</td><td>305</td><td>195</td><td> 72</td><td>243</td><td>170</td><td>⋯</td><td> 19</td><td>10</td><td>0</td><td> 0</td><td>146</td><td>309</td><td>162</td><td>125</td><td>17</td><td> 0</td></tr>\n",
       "\t<tr><th scope=row>470930008002</th><td> 574</td><td>  88</td><td> 279</td><td> 233</td><td> 486</td><td> 69</td><td> 16</td><td>  0</td><td>182</td><td> 53</td><td>⋯</td><td>  6</td><td>31</td><td>0</td><td> 0</td><td>  0</td><td> 83</td><td> 80</td><td>  0</td><td> 0</td><td> 0</td></tr>\n",
       "\t<tr><th scope=row>470930008003</th><td>1336</td><td> 151</td><td> 467</td><td> 401</td><td>1336</td><td>251</td><td>245</td><td>  0</td><td>225</td><td> 37</td><td>⋯</td><td> 48</td><td> 0</td><td>0</td><td>40</td><td>  8</td><td> 58</td><td> 76</td><td> 68</td><td>69</td><td> 0</td></tr>\n",
       "\t<tr><th scope=row>470930009011</th><td>1965</td><td>1958</td><td>   4</td><td>   4</td><td>1965</td><td> 68</td><td>351</td><td>142</td><td>145</td><td>380</td><td>⋯</td><td>  0</td><td> 0</td><td>0</td><td> 0</td><td>  0</td><td>  4</td><td>  0</td><td>  0</td><td> 0</td><td> 0</td></tr>\n",
       "\t<tr><th scope=row>470930009021</th><td>1092</td><td> 734</td><td>  48</td><td>  35</td><td>1092</td><td> 38</td><td>150</td><td> 39</td><td>113</td><td>207</td><td>⋯</td><td>  0</td><td> 0</td><td>0</td><td> 0</td><td>  0</td><td> 15</td><td>  0</td><td>  5</td><td> 0</td><td>15</td></tr>\n",
       "</tbody>\n",
       "</table>\n",
       "</dd>\n",
       "</dl>\n"
      ],
      "text/latex": [
       "\\begin{description}\n",
       "\\item[{[[1]]}] A matrix: 1 × 182 of type dbl\n",
       "\\begin{tabular}{lllllllllllllllllllll}\n",
       " population & group\\_quarters\\_pop & housing\\_units & occhu & civ\\_noninst\\_pop & male\\_hours\\_GE35 & male\\_hours\\_15.34 & male\\_hours\\_1.14 & female\\_hours\\_GE35 & female\\_hours\\_15.34 & ⋯ & txv\\_own\\_02\\_vehicle & txv\\_own\\_03\\_vehicle & txv\\_own\\_04\\_vehicle & txv\\_own\\_GE05\\_vehicle & txv\\_rent\\_no\\_vehicle & txv\\_rent\\_01\\_vehicle & txv\\_rent\\_02\\_vehicle & txv\\_rent\\_03\\_vehicle & txv\\_rent\\_04\\_vehicle & txv\\_rent\\_GE05\\_vehicle\\\\\n",
       "\\hline\n",
       "\t 178350 & 8477 & 87369 & 77471 & 176691 & 36339 & 9545 & 2065 & 31234 & 11849 & ⋯ & 14825 & 5735 & 1694 & 589 & 6882 & 19938 & 10847 & 2872 & 786 & 323\\\\\n",
       "\\end{tabular}\n",
       "\n",
       "\\item[\\$lv1] A matrix: 6 × 182 of type int\n",
       "\\begin{tabular}{r|lllllllllllllllllllll}\n",
       "  & population & group\\_quarters\\_pop & housing\\_units & occhu & civ\\_noninst\\_pop & male\\_hours\\_GE35 & male\\_hours\\_15.34 & male\\_hours\\_1.14 & female\\_hours\\_GE35 & female\\_hours\\_15.34 & ⋯ & txv\\_own\\_02\\_vehicle & txv\\_own\\_03\\_vehicle & txv\\_own\\_04\\_vehicle & txv\\_own\\_GE05\\_vehicle & txv\\_rent\\_no\\_vehicle & txv\\_rent\\_01\\_vehicle & txv\\_rent\\_02\\_vehicle & txv\\_rent\\_03\\_vehicle & txv\\_rent\\_04\\_vehicle & txv\\_rent\\_GE05\\_vehicle\\\\\n",
       "\\hline\n",
       "\t47093000100 & 2463 &  236 & 1837 & 1603 & 2282 & 686 & 265 &  68 & 484 & 115 & ⋯ & 180 &   4 &  0 &  0 & 355 & 710 & 144 &   8 & 11 &  0\\\\\n",
       "\t47093000800 & 3607 &  246 & 1777 & 1465 & 3481 & 625 & 456 &  72 & 650 & 260 & ⋯ &  73 &  41 &  0 & 40 & 154 & 450 & 318 & 193 & 86 &  0\\\\\n",
       "\t47093000901 & 1965 & 1958 &    4 &    4 & 1965 &  68 & 351 & 142 & 145 & 380 & ⋯ &   0 &   0 &  0 &  0 &   0 &   4 &   0 &   0 &  0 &  0\\\\\n",
       "\t47093000902 & 3034 & 2581 &   66 &   39 & 3034 & 341 & 528 & 242 & 207 & 537 & ⋯ &   0 &   0 &  0 &  0 &   0 &  15 &   0 &   5 &  0 & 19\\\\\n",
       "\t47093001400 & 2447 &    0 & 1069 &  791 & 2447 & 307 &  42 &  10 & 254 & 115 & ⋯ &  85 &  57 & 10 &  0 & 180 & 252 &  82 &  35 &  0 &  0\\\\\n",
       "\t47093001500 & 3520 &  194 & 1523 & 1362 & 3337 & 898 &  60 &  22 & 614 & 283 & ⋯ & 292 & 149 & 46 &  0 &  51 & 256 & 177 & 104 &  0 &  0\\\\\n",
       "\\end{tabular}\n",
       "\n",
       "\\item[\\$lv2] A matrix: 6 × 182 of type int\n",
       "\\begin{tabular}{r|lllllllllllllllllllll}\n",
       "  & population & group\\_quarters\\_pop & housing\\_units & occhu & civ\\_noninst\\_pop & male\\_hours\\_GE35 & male\\_hours\\_15.34 & male\\_hours\\_1.14 & female\\_hours\\_GE35 & female\\_hours\\_15.34 & ⋯ & txv\\_own\\_02\\_vehicle & txv\\_own\\_03\\_vehicle & txv\\_own\\_04\\_vehicle & txv\\_own\\_GE05\\_vehicle & txv\\_rent\\_no\\_vehicle & txv\\_rent\\_01\\_vehicle & txv\\_rent\\_02\\_vehicle & txv\\_rent\\_03\\_vehicle & txv\\_rent\\_04\\_vehicle & txv\\_rent\\_GE05\\_vehicle\\\\\n",
       "\\hline\n",
       "\t470930001001 & 2463 &  236 & 1837 & 1603 & 2282 & 686 & 265 &  68 & 484 & 115 & ⋯ & 180 &  4 & 0 &  0 & 355 & 710 & 144 &   8 & 11 &  0\\\\\n",
       "\t470930008001 & 1697 &    7 & 1031 &  831 & 1659 & 305 & 195 &  72 & 243 & 170 & ⋯ &  19 & 10 & 0 &  0 & 146 & 309 & 162 & 125 & 17 &  0\\\\\n",
       "\t470930008002 &  574 &   88 &  279 &  233 &  486 &  69 &  16 &   0 & 182 &  53 & ⋯ &   6 & 31 & 0 &  0 &   0 &  83 &  80 &   0 &  0 &  0\\\\\n",
       "\t470930008003 & 1336 &  151 &  467 &  401 & 1336 & 251 & 245 &   0 & 225 &  37 & ⋯ &  48 &  0 & 0 & 40 &   8 &  58 &  76 &  68 & 69 &  0\\\\\n",
       "\t470930009011 & 1965 & 1958 &    4 &    4 & 1965 &  68 & 351 & 142 & 145 & 380 & ⋯ &   0 &  0 & 0 &  0 &   0 &   4 &   0 &   0 &  0 &  0\\\\\n",
       "\t470930009021 & 1092 &  734 &   48 &   35 & 1092 &  38 & 150 &  39 & 113 & 207 & ⋯ &   0 &  0 & 0 &  0 &   0 &  15 &   0 &   5 &  0 & 15\\\\\n",
       "\\end{tabular}\n",
       "\n",
       "\\end{description}\n"
      ],
      "text/markdown": [
       "[[1]]\n",
       ":   \n",
       "A matrix: 1 × 182 of type dbl\n",
       "\n",
       "| population | group_quarters_pop | housing_units | occhu | civ_noninst_pop | male_hours_GE35 | male_hours_15.34 | male_hours_1.14 | female_hours_GE35 | female_hours_15.34 | ⋯ | txv_own_02_vehicle | txv_own_03_vehicle | txv_own_04_vehicle | txv_own_GE05_vehicle | txv_rent_no_vehicle | txv_rent_01_vehicle | txv_rent_02_vehicle | txv_rent_03_vehicle | txv_rent_04_vehicle | txv_rent_GE05_vehicle |\n",
       "|---|---|---|---|---|---|---|---|---|---|---|---|---|---|---|---|---|---|---|---|---|\n",
       "| 178350 | 8477 | 87369 | 77471 | 176691 | 36339 | 9545 | 2065 | 31234 | 11849 | ⋯ | 14825 | 5735 | 1694 | 589 | 6882 | 19938 | 10847 | 2872 | 786 | 323 |\n",
       "\n",
       "\n",
       "$lv1\n",
       ":   \n",
       "A matrix: 6 × 182 of type int\n",
       "\n",
       "| <!--/--> | population | group_quarters_pop | housing_units | occhu | civ_noninst_pop | male_hours_GE35 | male_hours_15.34 | male_hours_1.14 | female_hours_GE35 | female_hours_15.34 | ⋯ | txv_own_02_vehicle | txv_own_03_vehicle | txv_own_04_vehicle | txv_own_GE05_vehicle | txv_rent_no_vehicle | txv_rent_01_vehicle | txv_rent_02_vehicle | txv_rent_03_vehicle | txv_rent_04_vehicle | txv_rent_GE05_vehicle |\n",
       "|---|---|---|---|---|---|---|---|---|---|---|---|---|---|---|---|---|---|---|---|---|---|\n",
       "| 47093000100 | 2463 |  236 | 1837 | 1603 | 2282 | 686 | 265 |  68 | 484 | 115 | ⋯ | 180 |   4 |  0 |  0 | 355 | 710 | 144 |   8 | 11 |  0 |\n",
       "| 47093000800 | 3607 |  246 | 1777 | 1465 | 3481 | 625 | 456 |  72 | 650 | 260 | ⋯ |  73 |  41 |  0 | 40 | 154 | 450 | 318 | 193 | 86 |  0 |\n",
       "| 47093000901 | 1965 | 1958 |    4 |    4 | 1965 |  68 | 351 | 142 | 145 | 380 | ⋯ |   0 |   0 |  0 |  0 |   0 |   4 |   0 |   0 |  0 |  0 |\n",
       "| 47093000902 | 3034 | 2581 |   66 |   39 | 3034 | 341 | 528 | 242 | 207 | 537 | ⋯ |   0 |   0 |  0 |  0 |   0 |  15 |   0 |   5 |  0 | 19 |\n",
       "| 47093001400 | 2447 |    0 | 1069 |  791 | 2447 | 307 |  42 |  10 | 254 | 115 | ⋯ |  85 |  57 | 10 |  0 | 180 | 252 |  82 |  35 |  0 |  0 |\n",
       "| 47093001500 | 3520 |  194 | 1523 | 1362 | 3337 | 898 |  60 |  22 | 614 | 283 | ⋯ | 292 | 149 | 46 |  0 |  51 | 256 | 177 | 104 |  0 |  0 |\n",
       "\n",
       "\n",
       "$lv2\n",
       ":   \n",
       "A matrix: 6 × 182 of type int\n",
       "\n",
       "| <!--/--> | population | group_quarters_pop | housing_units | occhu | civ_noninst_pop | male_hours_GE35 | male_hours_15.34 | male_hours_1.14 | female_hours_GE35 | female_hours_15.34 | ⋯ | txv_own_02_vehicle | txv_own_03_vehicle | txv_own_04_vehicle | txv_own_GE05_vehicle | txv_rent_no_vehicle | txv_rent_01_vehicle | txv_rent_02_vehicle | txv_rent_03_vehicle | txv_rent_04_vehicle | txv_rent_GE05_vehicle |\n",
       "|---|---|---|---|---|---|---|---|---|---|---|---|---|---|---|---|---|---|---|---|---|---|\n",
       "| 470930001001 | 2463 |  236 | 1837 | 1603 | 2282 | 686 | 265 |  68 | 484 | 115 | ⋯ | 180 |  4 | 0 |  0 | 355 | 710 | 144 |   8 | 11 |  0 |\n",
       "| 470930008001 | 1697 |    7 | 1031 |  831 | 1659 | 305 | 195 |  72 | 243 | 170 | ⋯ |  19 | 10 | 0 |  0 | 146 | 309 | 162 | 125 | 17 |  0 |\n",
       "| 470930008002 |  574 |   88 |  279 |  233 |  486 |  69 |  16 |   0 | 182 |  53 | ⋯ |   6 | 31 | 0 |  0 |   0 |  83 |  80 |   0 |  0 |  0 |\n",
       "| 470930008003 | 1336 |  151 |  467 |  401 | 1336 | 251 | 245 |   0 | 225 |  37 | ⋯ |  48 |  0 | 0 | 40 |   8 |  58 |  76 |  68 | 69 |  0 |\n",
       "| 470930009011 | 1965 | 1958 |    4 |    4 | 1965 |  68 | 351 | 142 | 145 | 380 | ⋯ |   0 |  0 | 0 |  0 |   0 |   4 |   0 |   0 |  0 |  0 |\n",
       "| 470930009021 | 1092 |  734 |   48 |   35 | 1092 |  38 | 150 |  39 | 113 | 207 | ⋯ |   0 |  0 | 0 |  0 |   0 |  15 |   0 |   5 |  0 | 15 |\n",
       "\n",
       "\n",
       "\n",
       "\n"
      ],
      "text/plain": [
       "[[1]]\n",
       "     population group_quarters_pop housing_units occhu civ_noninst_pop\n",
       "[1,]     178350               8477         87369 77471          176691\n",
       "     male_hours_GE35 male_hours_15.34 male_hours_1.14 female_hours_GE35\n",
       "[1,]           36339             9545            2065             31234\n",
       "     female_hours_15.34 female_hours_1.14 emp_stat_employed emp_stat_unemp\n",
       "[1,]              11849              3452             89902           5125\n",
       "     emp_stat_mil emp_stat_not.in.force sexcw_male_private\n",
       "[1,]          135                 53665              32018\n",
       "     sexcw_male_self.emp_inc sexcw_male_non.prof sexcw_male_local.gov\n",
       "[1,]                    1162                2557                 2162\n",
       "     sexcw_male_st.gov sexcw_male_fed.gov sexcw_male_self.emp_non.inc\n",
       "[1,]              3225               1047                        3328\n",
       "     sexcw_male_wo.pay sexcw_female_private sexcw_female_self.emp_inc\n",
       "[1,]                55                30270                       506\n",
       "     sexcw_female_non.prof sexcw_female_local.gov sexcw_female_st.gov\n",
       "[1,]                  4241                   2697                3712\n",
       "     sexcw_female_fed.gov sexcw_female_self.emp_non.inc sexcw_female_wo.pay\n",
       "[1,]                  855                          2038                  29\n",
       "     sexocc_male_mgmt sexocc_male_bus.fin sexocc_male_cmp sexocc_male_eng\n",
       "[1,]             3775                1505            1768            1224\n",
       "     sexocc_male_sci sexocc_male_cms sexocc_male_lgl sexocc_male_edu\n",
       "[1,]             993             589             262            2375\n",
       "     sexocc_male_ent sexocc_male_med sexocc_male_med.tech sexocc_male_hls\n",
       "[1,]            1416            1143                  446             628\n",
       "     sexocc_male_prt sexocc_male_law.enf sexocc_male_eat sexocc_male_cln\n",
       "[1,]             680                 399            3752            2421\n",
       "     sexocc_male_prs sexocc_male_sal sexocc_male_off sexocc_male_fff\n",
       "[1,]             613            5052            3573               0\n",
       "     sexocc_male_con.ext sexocc_male_rpr sexocc_male_prd sexocc_male_trn\n",
       "[1,]                3133            2018            2599            2724\n",
       "     sexocc_male_trn.mat sexocc_female_mgmt sexocc_female_bus.fin\n",
       "[1,]                2466               3209                  1916\n",
       "     sexocc_female_cmp sexocc_female_eng sexocc_female_sci sexocc_female_cms\n",
       "[1,]               715               231               633              1229\n",
       "     sexocc_female_lgl sexocc_female_edu sexocc_female_ent sexocc_female_med\n",
       "[1,]               435              4301              1007              2876\n",
       "     sexocc_female_med.tech sexocc_female_hls sexocc_female_prt\n",
       "[1,]                   1241              2350               164\n",
       "     sexocc_female_law.enf sexocc_female_eat sexocc_female_cln\n",
       "[1,]                    66              4032              1470\n",
       "     sexocc_female_prs sexocc_female_sal sexocc_female_off sexocc_female_fff\n",
       "[1,]              1989              5650              7460               173\n",
       "     sexocc_female_con.ext sexocc_female_rpr sexocc_female_prd\n",
       "[1,]                   156               163              1394\n",
       "     sexocc_female_trn sexocc_female_trn.mat sexnaics_male_agr_ext\n",
       "[1,]               452                  1036                   240\n",
       "     sexnaics_male_con sexnaics_male_mfg sexnaics_male_whl sexnaics_male_ret\n",
       "[1,]              3758              4038              1620              6811\n",
       "     sexnaics_male_utl_trn sexnaics_male_inf sexnaics_male_fin\n",
       "[1,]                  3024              1409              2423\n",
       "     sexnaics_male_prf sexnaics_male_edu_med_sca sexnaics_male_ent\n",
       "[1,]              5886                      7641              5828\n",
       "     sexnaics_male_srv sexnaics_male_adm sexnaics_female_agr_ext\n",
       "[1,]              1557              1319                     215\n",
       "     sexnaics_female_con sexnaics_female_mfg sexnaics_female_whl\n",
       "[1,]                 573                1817                 626\n",
       "     sexnaics_female_ret sexnaics_female_utl_trn sexnaics_female_inf\n",
       "[1,]                6405                    1147                1032\n",
       "     sexnaics_female_fin sexnaics_female_prf sexnaics_female_edu_med_sca\n",
       "[1,]                2558                4684                       16018\n",
       "     sexnaics_female_ent sexnaics_female_srv sexnaics_female_adm\n",
       "[1,]                6198                1927                1148\n",
       "     sch_male_pre_public sch_male_pre_private sch_male_kind_public\n",
       "[1,]                 814                  538                  984\n",
       "     sch_male_kind_private sch_male_01.04_public sch_male_01.04_private\n",
       "[1,]                   114                  3627                    420\n",
       "     sch_male_05.08_public sch_male_05.08_private sch_male_09.12_public\n",
       "[1,]                  2535                    514                  3202\n",
       "     sch_male_09.12_private sch_male_undergrad_public\n",
       "[1,]                    343                     10185\n",
       "     sch_male_undergrad_private sch_male_grad.prof_public\n",
       "[1,]                        411                      1876\n",
       "     sch_male_grad.prof_private sch_female_pre_public sch_female_pre_private\n",
       "[1,]                        235                   578                    386\n",
       "     sch_female_kind_public sch_female_kind_private sch_female_01.04_public\n",
       "[1,]                    906                      60                    3368\n",
       "     sch_female_01.04_private sch_female_05.08_public sch_female_05.08_private\n",
       "[1,]                      516                    2697                      350\n",
       "     sch_female_09.12_public sch_female_09.12_private\n",
       "[1,]                    3065                      448\n",
       "     sch_female_undergrad_public sch_female_undergrad_private\n",
       "[1,]                        9718                          536\n",
       "     sch_female_grad.prof_public sch_female_grad.prof_private grade_preschl\n",
       "[1,]                        2085                          318          2316\n",
       "     grade_kind grade_1st grade_2nd grade_3rd grade_4th grade_5th grade_6th\n",
       "[1,]       2064      2105      2120      1537      2169      1511      1715\n",
       "     grade_7th grade_8th grade_9th grade_10th grade_11th grade_12th\n",
       "[1,]      1241      1629      1935       1839       1565       1719\n",
       "     grade_undergrad grade_grad cmt_mins_L10 cmt_mins_10.14 cmt_mins_15.19\n",
       "[1,]           20850       4514        10919          15040          18865\n",
       "     cmt_mins_20.24 cmt_mins_25.29 cmt_mins_30.34 cmt_mins_35.44 cmt_mins_45.59\n",
       "[1,]          15540           5854           9714           2928           3002\n",
       "     cmt_mins_GE60 travel_car_truck_van veh_occ_drove_alone veh_occ_carpooled\n",
       "[1,]          2305                77496               70013              7483\n",
       "     travel_public_transportation travel_taxicab travel_motorcycle\n",
       "[1,]                         1558             66                86\n",
       "     travel_bicycle travel_walked travel_other travel_wfh txv_own_no_vehicle\n",
       "[1,]            459          3863          639       3916               1345\n",
       "     txv_own_01_vehicle txv_own_02_vehicle txv_own_03_vehicle\n",
       "[1,]              11635              14825               5735\n",
       "     txv_own_04_vehicle txv_own_GE05_vehicle txv_rent_no_vehicle\n",
       "[1,]               1694                  589                6882\n",
       "     txv_rent_01_vehicle txv_rent_02_vehicle txv_rent_03_vehicle\n",
       "[1,]               19938               10847                2872\n",
       "     txv_rent_04_vehicle txv_rent_GE05_vehicle\n",
       "[1,]                 786                   323\n",
       "\n",
       "$lv1\n",
       "            population group_quarters_pop housing_units occhu civ_noninst_pop\n",
       "47093000100       2463                236          1837  1603            2282\n",
       "47093000800       3607                246          1777  1465            3481\n",
       "47093000901       1965               1958             4     4            1965\n",
       "47093000902       3034               2581            66    39            3034\n",
       "47093001400       2447                  0          1069   791            2447\n",
       "47093001500       3520                194          1523  1362            3337\n",
       "            male_hours_GE35 male_hours_15.34 male_hours_1.14 female_hours_GE35\n",
       "47093000100             686              265              68               484\n",
       "47093000800             625              456              72               650\n",
       "47093000901              68              351             142               145\n",
       "47093000902             341              528             242               207\n",
       "47093001400             307               42              10               254\n",
       "47093001500             898               60              22               614\n",
       "            female_hours_15.34 female_hours_1.14 emp_stat_employed\n",
       "47093000100                115                24              1528\n",
       "47093000800                260                37              1827\n",
       "47093000901                380               218               560\n",
       "47093000902                537               338              1078\n",
       "47093001400                115                20               624\n",
       "47093001500                283                65              1922\n",
       "            emp_stat_unemp emp_stat_mil emp_stat_not.in.force\n",
       "47093000100             74            0                   802\n",
       "47093000800            270           38                  1181\n",
       "47093000901             54            0                  1351\n",
       "47093000902             50            0                  1906\n",
       "47093001400            153            0                   911\n",
       "47093001500            136            0                   863\n",
       "            sexcw_male_private sexcw_male_self.emp_inc sexcw_male_non.prof\n",
       "47093000100                619                       9                 111\n",
       "47093000800                660                       0                  19\n",
       "47093000901                142                       0                  18\n",
       "47093000902                274                       0                  65\n",
       "47093001400                246                       0                   0\n",
       "47093001500                599                      23                  74\n",
       "            sexcw_male_local.gov sexcw_male_st.gov sexcw_male_fed.gov\n",
       "47093000100                   25                72                  9\n",
       "47093000800                  118                69                 10\n",
       "47093000901                    0                44                  0\n",
       "47093000902                   20                91                  6\n",
       "47093001400                    0                 0                  0\n",
       "47093001500                  150                25                 12\n",
       "            sexcw_male_self.emp_non.inc sexcw_male_wo.pay sexcw_female_private\n",
       "47093000100                          48                 0                  326\n",
       "47093000800                          92                 0                  605\n",
       "47093000901                           4                 0                  265\n",
       "47093000902                          16                 0                  431\n",
       "47093001400                          23                 0                  319\n",
       "47093001500                          87                24                  587\n",
       "            sexcw_female_self.emp_inc sexcw_female_non.prof\n",
       "47093000100                        23                   106\n",
       "47093000800                         0                    87\n",
       "47093000901                         0                    13\n",
       "47093000902                         0                   121\n",
       "47093001400                         0                     0\n",
       "47093001500                        10                    52\n",
       "            sexcw_female_local.gov sexcw_female_st.gov sexcw_female_fed.gov\n",
       "47093000100                     16                 118                   18\n",
       "47093000800                     61                  51                    8\n",
       "47093000901                     13                  58                    0\n",
       "47093000902                      0                  54                    0\n",
       "47093001400                     10                  26                    0\n",
       "47093001500                    115                  62                   28\n",
       "            sexcw_female_self.emp_non.inc sexcw_female_wo.pay sexocc_male_mgmt\n",
       "47093000100                            28                   0              126\n",
       "47093000800                            47                   0                0\n",
       "47093000901                             3                   0                0\n",
       "47093000902                             0                   0                0\n",
       "47093001400                             0                   0               45\n",
       "47093001500                            74                   0               62\n",
       "            sexocc_male_bus.fin sexocc_male_cmp sexocc_male_eng sexocc_male_sci\n",
       "47093000100                  63              35              87              22\n",
       "47093000800                  14              15               0              14\n",
       "47093000901                   0               9               0               0\n",
       "47093000902                  21              54               1               0\n",
       "47093001400                   0               0               0               0\n",
       "47093001500                  15              33              23               6\n",
       "            sexocc_male_cms sexocc_male_lgl sexocc_male_edu sexocc_male_ent\n",
       "47093000100               9              29             105              59\n",
       "47093000800               0               0               0              22\n",
       "47093000901               0               0               9               0\n",
       "47093000902               4               0               7               0\n",
       "47093001400               0               0               0               0\n",
       "47093001500               0               0              60              38\n",
       "            sexocc_male_med sexocc_male_med.tech sexocc_male_hls\n",
       "47093000100              16                    0              11\n",
       "47093000800              15                    0               0\n",
       "47093000901               0                    0               0\n",
       "47093000902               0                   20               6\n",
       "47093001400               0                    0               5\n",
       "47093001500               0                   29              41\n",
       "            sexocc_male_prt sexocc_male_law.enf sexocc_male_eat sexocc_male_cln\n",
       "47093000100               6                   0              58               0\n",
       "47093000800              44                   0              58              90\n",
       "47093000901              17                   0              84               0\n",
       "47093000902              32                   0              88               3\n",
       "47093001400               0                   0               7              44\n",
       "47093001500              21                   0              62             148\n",
       "            sexocc_male_prs sexocc_male_sal sexocc_male_off sexocc_male_fff\n",
       "47093000100              25             136              65               0\n",
       "47093000800               0             273             154               0\n",
       "47093000901               9              50              26               0\n",
       "47093000902              31              65              99               0\n",
       "47093001400               0              28              10               0\n",
       "47093001500              17              17             155               0\n",
       "            sexocc_male_con.ext sexocc_male_rpr sexocc_male_prd sexocc_male_trn\n",
       "47093000100                   0               0              41               0\n",
       "47093000800                  63              28              92              62\n",
       "47093000901                   0               0               0               0\n",
       "47093000902                   6              11               7               3\n",
       "47093001400                  62               9               6              12\n",
       "47093001500                 121               0              42              94\n",
       "            sexocc_male_trn.mat sexocc_female_mgmt sexocc_female_bus.fin\n",
       "47093000100                   0                147                    32\n",
       "47093000800                  24                 42                     7\n",
       "47093000901                   4                 12                     0\n",
       "47093000902                  14                 39                    13\n",
       "47093001400                  41                 55                     0\n",
       "47093001500                  10                  0                    48\n",
       "            sexocc_female_cmp sexocc_female_eng sexocc_female_sci\n",
       "47093000100                35                25                19\n",
       "47093000800                 0                 0                 8\n",
       "47093000901                 0                 0                 0\n",
       "47093000902                 0                 0                 0\n",
       "47093001400                 0                 0                 0\n",
       "47093001500                15                 0                18\n",
       "            sexocc_female_cms sexocc_female_lgl sexocc_female_edu\n",
       "47093000100                 0                32               130\n",
       "47093000800                47                 6                29\n",
       "47093000901                 0                 0                 0\n",
       "47093000902                 1                 0                 7\n",
       "47093001400                34                 0                 0\n",
       "47093001500                66                 0               106\n",
       "            sexocc_female_ent sexocc_female_med sexocc_female_med.tech\n",
       "47093000100                60                28                     15\n",
       "47093000800                33                51                     30\n",
       "47093000901                 3                 0                     10\n",
       "47093000902                38                 0                      5\n",
       "47093001400                 0                 0                      0\n",
       "47093001500                14                75                     34\n",
       "            sexocc_female_hls sexocc_female_prt sexocc_female_law.enf\n",
       "47093000100                10                10                     0\n",
       "47093000800               107                 0                     0\n",
       "47093000901                18                 0                     0\n",
       "47093000902                49                 1                     0\n",
       "47093001400                11                 0                     0\n",
       "47093001500                27                 0                     0\n",
       "            sexocc_female_eat sexocc_female_cln sexocc_female_prs\n",
       "47093000100                 0                 0                 8\n",
       "47093000800                80                20                72\n",
       "47093000901               127                 4                23\n",
       "47093000902               100                25                13\n",
       "47093001400               119                27                 0\n",
       "47093001500                99               120                21\n",
       "            sexocc_female_sal sexocc_female_off sexocc_female_fff\n",
       "47093000100                26                36                 0\n",
       "47093000800               128               155                 0\n",
       "47093000901               101                45                 0\n",
       "47093000902               122               148                 0\n",
       "47093001400                14                16                12\n",
       "47093001500               129               150                 0\n",
       "            sexocc_female_con.ext sexocc_female_rpr sexocc_female_prd\n",
       "47093000100                     0                 0                11\n",
       "47093000800                     0                 0                19\n",
       "47093000901                     0                 0                 0\n",
       "47093000902                     0                 0                18\n",
       "47093001400                     8                 0                21\n",
       "47093001500                     0                 6                 0\n",
       "            sexocc_female_trn sexocc_female_trn.mat sexnaics_male_agr_ext\n",
       "47093000100                 0                    11                     0\n",
       "47093000800                10                    15                     0\n",
       "47093000901                 0                     9                     0\n",
       "47093000902                 0                    27                     1\n",
       "47093001400                 0                    38                     0\n",
       "47093001500                 0                     0                     0\n",
       "            sexnaics_male_con sexnaics_male_mfg sexnaics_male_whl\n",
       "47093000100                 0               137                30\n",
       "47093000800                63                50                21\n",
       "47093000901                 0                 4                 0\n",
       "47093000902                 0                 4                 0\n",
       "47093001400                62                 0                35\n",
       "47093001500               136                57                18\n",
       "            sexnaics_male_ret sexnaics_male_utl_trn sexnaics_male_inf\n",
       "47093000100                66                    37                76\n",
       "47093000800               384                    20                 0\n",
       "47093000901                18                     0                 0\n",
       "47093000902               107                     0                 0\n",
       "47093001400                29                    10                36\n",
       "47093001500                70                   101                 6\n",
       "            sexnaics_male_fin sexnaics_male_prf sexnaics_male_edu_med_sca\n",
       "47093000100                49               179                       195\n",
       "47093000800                 7               108                       126\n",
       "47093000901                 0                 8                        62\n",
       "47093000902                 1                55                       136\n",
       "47093001400                12                44                         5\n",
       "47093001500                32                44                       266\n",
       "            sexnaics_male_ent sexnaics_male_srv sexnaics_male_adm\n",
       "47093000100               119                 0                 5\n",
       "47093000800               114                 5                70\n",
       "47093000901               116                 0                 0\n",
       "47093000902               162                 0                 6\n",
       "47093001400                16                20                 0\n",
       "47093001500               210                11                43\n",
       "            sexnaics_female_agr_ext sexnaics_female_con sexnaics_female_mfg\n",
       "47093000100                       0                   9                  10\n",
       "47093000800                       0                   0                   0\n",
       "47093000901                       0                   0                   3\n",
       "47093000902                       7                   0                  55\n",
       "47093001400                      12                   8                  31\n",
       "47093001500                       0                   0                   0\n",
       "            sexnaics_female_whl sexnaics_female_ret sexnaics_female_utl_trn\n",
       "47093000100                   9                  59                       7\n",
       "47093000800                   0                 117                       0\n",
       "47093000901                   0                 107                       0\n",
       "47093000902                  14                 162                       0\n",
       "47093001400                   0                  65                       0\n",
       "47093001500                   0                 122                      14\n",
       "            sexnaics_female_inf sexnaics_female_fin sexnaics_female_prf\n",
       "47093000100                   0                  53                 131\n",
       "47093000800                   8                  90                 127\n",
       "47093000901                  13                   0                   0\n",
       "47093000902                   0                  22                   0\n",
       "47093001400                   0                  17                  36\n",
       "47093001500                  18                  33                  62\n",
       "            sexnaics_female_edu_med_sca sexnaics_female_ent sexnaics_female_srv\n",
       "47093000100                         271                  57                   8\n",
       "47093000800                         336                 135                  14\n",
       "47093000901                          43                 164                  13\n",
       "47093000902                         147                 141                  51\n",
       "47093001400                          42                 119                  15\n",
       "47093001500                         370                 208                  71\n",
       "            sexnaics_female_adm sch_male_pre_public sch_male_pre_private\n",
       "47093000100                  21                   0                    0\n",
       "47093000800                  32                   0                    0\n",
       "47093000901                   9                   0                    0\n",
       "47093000902                   7                   0                    0\n",
       "47093001400                  10                  50                    0\n",
       "47093001500                  30                  14                    0\n",
       "            sch_male_kind_public sch_male_kind_private sch_male_01.04_public\n",
       "47093000100                    0                     0                    13\n",
       "47093000800                   28                     0                    67\n",
       "47093000901                    0                     0                     0\n",
       "47093000902                    0                     0                     0\n",
       "47093001400                    0                     0                    97\n",
       "47093001500                   16                     8                    49\n",
       "            sch_male_01.04_private sch_male_05.08_public sch_male_05.08_private\n",
       "47093000100                      0                     0                      9\n",
       "47093000800                      0                    16                      0\n",
       "47093000901                      0                     0                      0\n",
       "47093000902                      0                     0                      0\n",
       "47093001400                     33                    41                     34\n",
       "47093001500                      0                    49                      0\n",
       "            sch_male_09.12_public sch_male_09.12_private\n",
       "47093000100                    39                      0\n",
       "47093000800                    28                      0\n",
       "47093000901                     0                      0\n",
       "47093000902                     0                      0\n",
       "47093001400                    44                     23\n",
       "47093001500                     6                      8\n",
       "            sch_male_undergrad_public sch_male_undergrad_private\n",
       "47093000100                       136                          0\n",
       "47093000800                      1015                          0\n",
       "47093000901                       853                          9\n",
       "47093000902                      1361                         44\n",
       "47093001400                         8                          6\n",
       "47093001500                        39                          0\n",
       "            sch_male_grad.prof_public sch_male_grad.prof_private\n",
       "47093000100                        95                          8\n",
       "47093000800                        40                         17\n",
       "47093000901                         9                          0\n",
       "47093000902                         5                          0\n",
       "47093001400                         0                          0\n",
       "47093001500                        48                          0\n",
       "            sch_female_pre_public sch_female_pre_private sch_female_kind_public\n",
       "47093000100                     0                      0                      0\n",
       "47093000800                     0                      0                      0\n",
       "47093000901                     0                      0                      0\n",
       "47093000902                     0                      0                      0\n",
       "47093001400                     0                      0                     21\n",
       "47093001500                    33                      0                     34\n",
       "            sch_female_kind_private sch_female_01.04_public\n",
       "47093000100                       0                       0\n",
       "47093000800                       0                      20\n",
       "47093000901                       0                       0\n",
       "47093000902                       0                       0\n",
       "47093001400                       0                      81\n",
       "47093001500                       0                      58\n",
       "            sch_female_01.04_private sch_female_05.08_public\n",
       "47093000100                        0                       0\n",
       "47093000800                        0                      36\n",
       "47093000901                        0                       0\n",
       "47093000902                        0                       0\n",
       "47093001400                       25                      62\n",
       "47093001500                        0                      73\n",
       "            sch_female_05.08_private sch_female_09.12_public\n",
       "47093000100                        9                       0\n",
       "47093000800                        0                      40\n",
       "47093000901                        0                       0\n",
       "47093000902                        0                       0\n",
       "47093001400                        0                      45\n",
       "47093001500                        0                     107\n",
       "            sch_female_09.12_private sch_female_undergrad_public\n",
       "47093000100                        0                          47\n",
       "47093000800                        0                         299\n",
       "47093000901                        0                        1074\n",
       "47093000902                        0                        1405\n",
       "47093001400                       10                          39\n",
       "47093001500                        0                         125\n",
       "            sch_female_undergrad_private sch_female_grad.prof_public\n",
       "47093000100                            0                         171\n",
       "47093000800                           14                          13\n",
       "47093000901                           13                           0\n",
       "47093000902                           25                           0\n",
       "47093001400                            0                           0\n",
       "47093001500                            0                          20\n",
       "            sch_female_grad.prof_private grade_preschl grade_kind grade_1st\n",
       "47093000100                            0             0          0         0\n",
       "47093000800                            5             0         28        27\n",
       "47093000901                            0             0          0         0\n",
       "47093000902                            0             0          0         0\n",
       "47093001400                            0            50         21       147\n",
       "47093001500                            0            47         58        57\n",
       "            grade_2nd grade_3rd grade_4th grade_5th grade_6th grade_7th\n",
       "47093000100         0        13         0        18         0         0\n",
       "47093000800        41        19         0        16        14        22\n",
       "47093000901         0         0         0         0         0         0\n",
       "47093000902         0         0         0         0         0         0\n",
       "47093001400         0        66        23        58        20        35\n",
       "47093001500        26         0        24        22        18        29\n",
       "            grade_8th grade_9th grade_10th grade_11th grade_12th\n",
       "47093000100         0         0          0          0         39\n",
       "47093000800         0        19         21          0         28\n",
       "47093000901         0         0          0          0          0\n",
       "47093000902         0         0          0          0          0\n",
       "47093001400        24        51         47         13         11\n",
       "47093001500        53        36         16          5         64\n",
       "            grade_undergrad grade_grad cmt_mins_L10 cmt_mins_10.14\n",
       "47093000100             183        274          339            227\n",
       "47093000800            1328         75          198            472\n",
       "47093000901            1949          9          164             59\n",
       "47093000902            2835          5          148            250\n",
       "47093001400              53          0           65            110\n",
       "47093001500             164         68          305            315\n",
       "            cmt_mins_15.19 cmt_mins_20.24 cmt_mins_25.29 cmt_mins_30.34\n",
       "47093000100            240            190            160             72\n",
       "47093000800            298            347            162            138\n",
       "47093000901             70             62             39             51\n",
       "47093000902            125            136             25             92\n",
       "47093001400            217             73              8             92\n",
       "47093001500            431            332            139            125\n",
       "            cmt_mins_35.44 cmt_mins_45.59 cmt_mins_GE60 travel_car_truck_van\n",
       "47093000100             64             84            11                  813\n",
       "47093000800            134             55            32                 1725\n",
       "47093000901              0             22             0                  272\n",
       "47093000902              0              0             6                  469\n",
       "47093001400              0             26            25                  578\n",
       "47093001500             92             51            68                 1742\n",
       "            veh_occ_drove_alone veh_occ_carpooled travel_public_transportation\n",
       "47093000100                 751                62                           33\n",
       "47093000800                1576               149                           28\n",
       "47093000901                 268                 4                           18\n",
       "47093000902                 460                 9                            0\n",
       "47093001400                 463               115                           32\n",
       "47093001500                1558               184                            1\n",
       "            travel_taxicab travel_motorcycle travel_bicycle travel_walked\n",
       "47093000100              0                 0             34           507\n",
       "47093000800              0                 0              6            31\n",
       "47093000901              0                 0              0           177\n",
       "47093000902              0                 0              0           313\n",
       "47093001400              0                 0              0             0\n",
       "47093001500              0                 0              8            40\n",
       "            travel_other travel_wfh txv_own_no_vehicle txv_own_01_vehicle\n",
       "47093000100            0        100                  0                191\n",
       "47093000800           46          0                 14                 96\n",
       "47093000901            0         53                  0                  0\n",
       "47093000902            0        236                  0                  0\n",
       "47093001400            6          8                 22                 68\n",
       "47093001500           67         24                 62                225\n",
       "            txv_own_02_vehicle txv_own_03_vehicle txv_own_04_vehicle\n",
       "47093000100                180                  4                  0\n",
       "47093000800                 73                 41                  0\n",
       "47093000901                  0                  0                  0\n",
       "47093000902                  0                  0                  0\n",
       "47093001400                 85                 57                 10\n",
       "47093001500                292                149                 46\n",
       "            txv_own_GE05_vehicle txv_rent_no_vehicle txv_rent_01_vehicle\n",
       "47093000100                    0                 355                 710\n",
       "47093000800                   40                 154                 450\n",
       "47093000901                    0                   0                   4\n",
       "47093000902                    0                   0                  15\n",
       "47093001400                    0                 180                 252\n",
       "47093001500                    0                  51                 256\n",
       "            txv_rent_02_vehicle txv_rent_03_vehicle txv_rent_04_vehicle\n",
       "47093000100                 144                   8                  11\n",
       "47093000800                 318                 193                  86\n",
       "47093000901                   0                   0                   0\n",
       "47093000902                   0                   5                   0\n",
       "47093001400                  82                  35                   0\n",
       "47093001500                 177                 104                   0\n",
       "            txv_rent_GE05_vehicle\n",
       "47093000100                     0\n",
       "47093000800                     0\n",
       "47093000901                     0\n",
       "47093000902                    19\n",
       "47093001400                     0\n",
       "47093001500                     0\n",
       "\n",
       "$lv2\n",
       "             population group_quarters_pop housing_units occhu civ_noninst_pop\n",
       "470930001001       2463                236          1837  1603            2282\n",
       "470930008001       1697                  7          1031   831            1659\n",
       "470930008002        574                 88           279   233             486\n",
       "470930008003       1336                151           467   401            1336\n",
       "470930009011       1965               1958             4     4            1965\n",
       "470930009021       1092                734            48    35            1092\n",
       "             male_hours_GE35 male_hours_15.34 male_hours_1.14 female_hours_GE35\n",
       "470930001001             686              265              68               484\n",
       "470930008001             305              195              72               243\n",
       "470930008002              69               16               0               182\n",
       "470930008003             251              245               0               225\n",
       "470930009011              68              351             142               145\n",
       "470930009021              38              150              39               113\n",
       "             female_hours_15.34 female_hours_1.14 emp_stat_employed\n",
       "470930001001                115                24              1528\n",
       "470930008001                170                 8               792\n",
       "470930008002                 53                 0               288\n",
       "470930008003                 37                29               747\n",
       "470930009011                380               218               560\n",
       "470930009021                207               107               490\n",
       "             emp_stat_unemp emp_stat_mil emp_stat_not.in.force\n",
       "470930001001             74            0                   802\n",
       "470930008001             98           38                   633\n",
       "470930008002             26            0                   121\n",
       "470930008003            146            0                   427\n",
       "470930009011             54            0                  1351\n",
       "470930009021              4            0                   598\n",
       "             sexcw_male_private sexcw_male_self.emp_inc sexcw_male_non.prof\n",
       "470930001001                619                       9                 111\n",
       "470930008001                231                       0                   0\n",
       "470930008002                 52                       0                  11\n",
       "470930008003                377                       0                   8\n",
       "470930009011                142                       0                  18\n",
       "470930009021                 87                       0                  59\n",
       "             sexcw_male_local.gov sexcw_male_st.gov sexcw_male_fed.gov\n",
       "470930001001                   25                72                  9\n",
       "470930008001                   88                39                 10\n",
       "470930008002                    0                16                  0\n",
       "470930008003                   30                14                  0\n",
       "470930009011                    0                44                  0\n",
       "470930009021                    0                16                  0\n",
       "             sexcw_male_self.emp_non.inc sexcw_male_wo.pay sexcw_female_private\n",
       "470930001001                          48                 0                  326\n",
       "470930008001                          46                 0                  309\n",
       "470930008002                           0                 0                  125\n",
       "470930008003                          46                 0                  171\n",
       "470930009011                           4                 0                  265\n",
       "470930009021                           0                 0                  240\n",
       "             sexcw_female_self.emp_inc sexcw_female_non.prof\n",
       "470930001001                        23                   106\n",
       "470930008001                         0                    27\n",
       "470930008002                         0                    31\n",
       "470930008003                         0                    29\n",
       "470930009011                         0                    13\n",
       "470930009021                         0                    88\n",
       "             sexcw_female_local.gov sexcw_female_st.gov sexcw_female_fed.gov\n",
       "470930001001                     16                 118                   18\n",
       "470930008001                     30                   7                    0\n",
       "470930008002                     23                  23                    0\n",
       "470930008003                      8                  21                    8\n",
       "470930009011                     13                  58                    0\n",
       "470930009021                      0                   0                    0\n",
       "             sexcw_female_self.emp_non.inc sexcw_female_wo.pay sexocc_male_mgmt\n",
       "470930001001                            28                   0              126\n",
       "470930008001                             5                   0                0\n",
       "470930008002                             7                   0                0\n",
       "470930008003                            35                   0                0\n",
       "470930009011                             3                   0                0\n",
       "470930009021                             0                   0                0\n",
       "             sexocc_male_bus.fin sexocc_male_cmp sexocc_male_eng\n",
       "470930001001                  63              35              87\n",
       "470930008001                   0               7               0\n",
       "470930008002                   6               0               0\n",
       "470930008003                   8               8               0\n",
       "470930009011                   0               9               0\n",
       "470930009021                   5              54               0\n",
       "             sexocc_male_sci sexocc_male_cms sexocc_male_lgl sexocc_male_edu\n",
       "470930001001              22               9              29             105\n",
       "470930008001               0               0               0               0\n",
       "470930008002              14               0               0               0\n",
       "470930008003               0               0               0               0\n",
       "470930009011               0               0               0               9\n",
       "470930009021               0               4               0               6\n",
       "             sexocc_male_ent sexocc_male_med sexocc_male_med.tech\n",
       "470930001001              59              16                    0\n",
       "470930008001               0               0                    0\n",
       "470930008002              13               0                    0\n",
       "470930008003               9              15                    0\n",
       "470930009011               0               0                    0\n",
       "470930009021               0               0                    0\n",
       "             sexocc_male_hls sexocc_male_prt sexocc_male_law.enf\n",
       "470930001001              11               6                   0\n",
       "470930008001               0              29                   0\n",
       "470930008002               0              15                   0\n",
       "470930008003               0               0                   0\n",
       "470930009011               0              17                   0\n",
       "470930009021               0               0                   0\n",
       "             sexocc_male_eat sexocc_male_cln sexocc_male_prs sexocc_male_sal\n",
       "470930001001              58               0              25             136\n",
       "470930008001              48              10               0             171\n",
       "470930008002               0              21               0              10\n",
       "470930008003              10              59               0              92\n",
       "470930009011              84               0               9              50\n",
       "470930009021               4               3               2              22\n",
       "             sexocc_male_off sexocc_male_fff sexocc_male_con.ext\n",
       "470930001001              65               0                   0\n",
       "470930008001              49               0                  16\n",
       "470930008002               0               0                   0\n",
       "470930008003             105               0                  47\n",
       "470930009011              26               0                   0\n",
       "470930009021              56               0                   0\n",
       "             sexocc_male_rpr sexocc_male_prd sexocc_male_trn\n",
       "470930001001               0              41               0\n",
       "470930008001               9              10              41\n",
       "470930008002               0               0               0\n",
       "470930008003              19              82              21\n",
       "470930009011               0               0               0\n",
       "470930009021               0               3               0\n",
       "             sexocc_male_trn.mat sexocc_female_mgmt sexocc_female_bus.fin\n",
       "470930001001                   0                147                    32\n",
       "470930008001                  24                 32                     0\n",
       "470930008002                   0                 10                     7\n",
       "470930008003                   0                  0                     0\n",
       "470930009011                   4                 12                     0\n",
       "470930009021                   3                 15                     0\n",
       "             sexocc_female_cmp sexocc_female_eng sexocc_female_sci\n",
       "470930001001                35                25                19\n",
       "470930008001                 0                 0                 0\n",
       "470930008002                 0                 0                 0\n",
       "470930008003                 0                 0                 8\n",
       "470930009011                 0                 0                 0\n",
       "470930009021                 0                 0                 0\n",
       "             sexocc_female_cms sexocc_female_lgl sexocc_female_edu\n",
       "470930001001                 0                32               130\n",
       "470930008001                16                 6                 7\n",
       "470930008002                18                 0                 6\n",
       "470930008003                13                 0                16\n",
       "470930009011                 0                 0                 0\n",
       "470930009021                 0                 0                 0\n",
       "             sexocc_female_ent sexocc_female_med sexocc_female_med.tech\n",
       "470930001001                60                28                     15\n",
       "470930008001                 0                 7                      0\n",
       "470930008002                 0                44                     30\n",
       "470930008003                33                 0                      0\n",
       "470930009011                 3                 0                     10\n",
       "470930009021                38                 0                      0\n",
       "             sexocc_female_hls sexocc_female_prt sexocc_female_law.enf\n",
       "470930001001                10                10                     0\n",
       "470930008001                57                 0                     0\n",
       "470930008002                21                 0                     0\n",
       "470930008003                29                 0                     0\n",
       "470930009011                18                 0                     0\n",
       "470930009021                49                 0                     0\n",
       "             sexocc_female_eat sexocc_female_cln sexocc_female_prs\n",
       "470930001001                 0                 0                 8\n",
       "470930008001                80                10                16\n",
       "470930008002                 0                10                29\n",
       "470930008003                 0                 0                27\n",
       "470930009011               127                 4                23\n",
       "470930009021                72                 0                 0\n",
       "             sexocc_female_sal sexocc_female_off sexocc_female_fff\n",
       "470930001001                26                36                 0\n",
       "470930008001                83                28                 0\n",
       "470930008002                10                24                 0\n",
       "470930008003                35               103                 0\n",
       "470930009011               101                45                 0\n",
       "470930009021                27               100                 0\n",
       "             sexocc_female_con.ext sexocc_female_rpr sexocc_female_prd\n",
       "470930001001                     0                 0                11\n",
       "470930008001                     0                 0                19\n",
       "470930008002                     0                 0                 0\n",
       "470930008003                     0                 0                 0\n",
       "470930009011                     0                 0                 0\n",
       "470930009021                     0                 0                 0\n",
       "             sexocc_female_trn sexocc_female_trn.mat sexnaics_male_agr_ext\n",
       "470930001001                 0                    11                     0\n",
       "470930008001                10                     7                     0\n",
       "470930008002                 0                     0                     0\n",
       "470930008003                 0                     8                     0\n",
       "470930009011                 0                     9                     0\n",
       "470930009021                 0                    27                     1\n",
       "             sexnaics_male_con sexnaics_male_mfg sexnaics_male_whl\n",
       "470930001001                 0               137                30\n",
       "470930008001                16                19                 0\n",
       "470930008002                 0                 0                 0\n",
       "470930008003                47                31                21\n",
       "470930009011                 0                 4                 0\n",
       "470930009021                 0                 0                 0\n",
       "             sexnaics_male_ret sexnaics_male_utl_trn sexnaics_male_inf\n",
       "470930001001                66                    37                76\n",
       "470930008001               163                    20                 0\n",
       "470930008002                16                     0                 0\n",
       "470930008003               205                     0                 0\n",
       "470930009011                18                     0                 0\n",
       "470930009021                27                     0                 0\n",
       "             sexnaics_male_fin sexnaics_male_prf sexnaics_male_edu_med_sca\n",
       "470930001001                49               179                       195\n",
       "470930008001                 0                20                        52\n",
       "470930008002                 0                29                        22\n",
       "470930008003                 7                59                        52\n",
       "470930009011                 0                 8                        62\n",
       "470930009021                 1                54                        26\n",
       "             sexnaics_male_ent sexnaics_male_srv sexnaics_male_adm\n",
       "470930001001               119                 0                 5\n",
       "470930008001                54                 0                70\n",
       "470930008002                 7                 5                 0\n",
       "470930008003                53                 0                 0\n",
       "470930009011               116                 0                 0\n",
       "470930009021                53                 0                 0\n",
       "             sexnaics_female_agr_ext sexnaics_female_con sexnaics_female_mfg\n",
       "470930001001                       0                   9                  10\n",
       "470930008001                       0                   0                   0\n",
       "470930008002                       0                   0                   0\n",
       "470930008003                       0                   0                   0\n",
       "470930009011                       0                   0                   3\n",
       "470930009021                       0                   0                  37\n",
       "             sexnaics_female_whl sexnaics_female_ret sexnaics_female_utl_trn\n",
       "470930001001                   9                  59                       7\n",
       "470930008001                   0                  91                       0\n",
       "470930008002                   0                  10                       0\n",
       "470930008003                   0                  16                       0\n",
       "470930009011                   0                 107                       0\n",
       "470930009021                  14                  91                       0\n",
       "             sexnaics_female_inf sexnaics_female_fin sexnaics_female_prf\n",
       "470930001001                   0                  53                 131\n",
       "470930008001                   0                  25                  14\n",
       "470930008002                   0                   0                  27\n",
       "470930008003                   8                  65                  86\n",
       "470930009011                  13                   0                   0\n",
       "470930009021                   0                   0                   0\n",
       "             sexnaics_female_edu_med_sca sexnaics_female_ent\n",
       "470930001001                         271                  57\n",
       "470930008001                         128                 115\n",
       "470930008002                         131                   0\n",
       "470930008003                          77                  20\n",
       "470930009011                          43                 164\n",
       "470930009021                          49                  87\n",
       "             sexnaics_female_srv sexnaics_female_adm sch_male_pre_public\n",
       "470930001001                   8                  21                   0\n",
       "470930008001                   5                   0                   0\n",
       "470930008002                   9                  32                   0\n",
       "470930008003                   0                   0                   0\n",
       "470930009011                  13                   9                   0\n",
       "470930009021                  50                   0                   0\n",
       "             sch_male_pre_private sch_male_kind_public sch_male_kind_private\n",
       "470930001001                    0                    0                     0\n",
       "470930008001                    0                    0                     0\n",
       "470930008002                    0                   28                     0\n",
       "470930008003                    0                    0                     0\n",
       "470930009011                    0                    0                     0\n",
       "470930009021                    0                    0                     0\n",
       "             sch_male_01.04_public sch_male_01.04_private sch_male_05.08_public\n",
       "470930001001                    13                      0                     0\n",
       "470930008001                     0                      0                     0\n",
       "470930008002                    67                      0                     0\n",
       "470930008003                     0                      0                    16\n",
       "470930009011                     0                      0                     0\n",
       "470930009021                     0                      0                     0\n",
       "             sch_male_05.08_private sch_male_09.12_public\n",
       "470930001001                      9                    39\n",
       "470930008001                      0                     0\n",
       "470930008002                      0                     0\n",
       "470930008003                      0                    28\n",
       "470930009011                      0                     0\n",
       "470930009021                      0                     0\n",
       "             sch_male_09.12_private sch_male_undergrad_public\n",
       "470930001001                      0                       136\n",
       "470930008001                      0                       594\n",
       "470930008002                      0                        10\n",
       "470930008003                      0                       411\n",
       "470930009011                      0                       853\n",
       "470930009021                      0                       422\n",
       "             sch_male_undergrad_private sch_male_grad.prof_public\n",
       "470930001001                          0                        95\n",
       "470930008001                          0                        10\n",
       "470930008002                          0                         8\n",
       "470930008003                          0                        22\n",
       "470930009011                          9                         9\n",
       "470930009021                         16                         5\n",
       "             sch_male_grad.prof_private sch_female_pre_public\n",
       "470930001001                          8                     0\n",
       "470930008001                          0                     0\n",
       "470930008002                          0                     0\n",
       "470930008003                         17                     0\n",
       "470930009011                          0                     0\n",
       "470930009021                          0                     0\n",
       "             sch_female_pre_private sch_female_kind_public\n",
       "470930001001                      0                      0\n",
       "470930008001                      0                      0\n",
       "470930008002                      0                      0\n",
       "470930008003                      0                      0\n",
       "470930009011                      0                      0\n",
       "470930009021                      0                      0\n",
       "             sch_female_kind_private sch_female_01.04_public\n",
       "470930001001                       0                       0\n",
       "470930008001                       0                      20\n",
       "470930008002                       0                       0\n",
       "470930008003                       0                       0\n",
       "470930009011                       0                       0\n",
       "470930009021                       0                       0\n",
       "             sch_female_01.04_private sch_female_05.08_public\n",
       "470930001001                        0                       0\n",
       "470930008001                        0                       0\n",
       "470930008002                        0                      36\n",
       "470930008003                        0                       0\n",
       "470930009011                        0                       0\n",
       "470930009021                        0                       0\n",
       "             sch_female_05.08_private sch_female_09.12_public\n",
       "470930001001                        9                       0\n",
       "470930008001                        0                      19\n",
       "470930008002                        0                      21\n",
       "470930008003                        0                       0\n",
       "470930009011                        0                       0\n",
       "470930009021                        0                       0\n",
       "             sch_female_09.12_private sch_female_undergrad_public\n",
       "470930001001                        0                          47\n",
       "470930008001                        0                         244\n",
       "470930008002                        0                           0\n",
       "470930008003                        0                          55\n",
       "470930009011                        0                        1074\n",
       "470930009021                        0                         536\n",
       "             sch_female_undergrad_private sch_female_grad.prof_public\n",
       "470930001001                            0                         171\n",
       "470930008001                           14                           0\n",
       "470930008002                            0                          13\n",
       "470930008003                            0                           0\n",
       "470930009011                           13                           0\n",
       "470930009021                            0                           0\n",
       "             sch_female_grad.prof_private grade_preschl grade_kind grade_1st\n",
       "470930001001                            0             0          0         0\n",
       "470930008001                            0             0          0         6\n",
       "470930008002                            5             0         28        21\n",
       "470930008003                            0             0          0         0\n",
       "470930009011                            0             0          0         0\n",
       "470930009021                            0             0          0         0\n",
       "             grade_2nd grade_3rd grade_4th grade_5th grade_6th grade_7th\n",
       "470930001001         0        13         0        18         0         0\n",
       "470930008001        14         0         0         0         0         0\n",
       "470930008002        27        19         0         0        14        22\n",
       "470930008003         0         0         0        16         0         0\n",
       "470930009011         0         0         0         0         0         0\n",
       "470930009021         0         0         0         0         0         0\n",
       "             grade_8th grade_9th grade_10th grade_11th grade_12th\n",
       "470930001001         0         0          0          0         39\n",
       "470930008001         0        19          0          0          0\n",
       "470930008002         0         0         21          0          0\n",
       "470930008003         0         0          0          0         28\n",
       "470930009011         0         0          0          0          0\n",
       "470930009021         0         0          0          0          0\n",
       "             grade_undergrad grade_grad cmt_mins_L10 cmt_mins_10.14\n",
       "470930001001             183        274          339            227\n",
       "470930008001             852         10           66            257\n",
       "470930008002              10         26           42             75\n",
       "470930008003             466         39           90            140\n",
       "470930009011            1949          9          164             59\n",
       "470930009021             974          5           64            100\n",
       "             cmt_mins_15.19 cmt_mins_20.24 cmt_mins_25.29 cmt_mins_30.34\n",
       "470930001001            240            190            160             72\n",
       "470930008001             75            219             74             55\n",
       "470930008002             16             56              0             51\n",
       "470930008003            207             72             88             32\n",
       "470930009011             70             62             39             51\n",
       "470930009021             69            105              0             77\n",
       "             cmt_mins_35.44 cmt_mins_45.59 cmt_mins_GE60 travel_car_truck_van\n",
       "470930001001             64             84            11                  813\n",
       "470930008001             29             42            13                  753\n",
       "470930008002              6             13             0                  247\n",
       "470930008003             99              0            19                  725\n",
       "470930009011              0             22             0                  272\n",
       "470930009021              0              0             0                  243\n",
       "             veh_occ_drove_alone veh_occ_carpooled travel_public_transportation\n",
       "470930001001                 751                62                           33\n",
       "470930008001                 719                34                           20\n",
       "470930008002                 216                31                            0\n",
       "470930008003                 641                84                            8\n",
       "470930009011                 268                 4                           18\n",
       "470930009021                 234                 9                            0\n",
       "             travel_taxicab travel_motorcycle travel_bicycle travel_walked\n",
       "470930001001              0                 0             34           507\n",
       "470930008001              0                 0              0            25\n",
       "470930008002              0                 0              6             6\n",
       "470930008003              0                 0              0             0\n",
       "470930009011              0                 0              0           177\n",
       "470930009021              0                 0              0           172\n",
       "             travel_other travel_wfh txv_own_no_vehicle txv_own_01_vehicle\n",
       "470930001001            0        100                  0                191\n",
       "470930008001           32          0                  0                 43\n",
       "470930008002            0          0                  7                 26\n",
       "470930008003           14          0                  7                 27\n",
       "470930009011            0         53                  0                  0\n",
       "470930009021            0         70                  0                  0\n",
       "             txv_own_02_vehicle txv_own_03_vehicle txv_own_04_vehicle\n",
       "470930001001                180                  4                  0\n",
       "470930008001                 19                 10                  0\n",
       "470930008002                  6                 31                  0\n",
       "470930008003                 48                  0                  0\n",
       "470930009011                  0                  0                  0\n",
       "470930009021                  0                  0                  0\n",
       "             txv_own_GE05_vehicle txv_rent_no_vehicle txv_rent_01_vehicle\n",
       "470930001001                    0                 355                 710\n",
       "470930008001                    0                 146                 309\n",
       "470930008002                    0                   0                  83\n",
       "470930008003                   40                   8                  58\n",
       "470930009011                    0                   0                   4\n",
       "470930009021                    0                   0                  15\n",
       "             txv_rent_02_vehicle txv_rent_03_vehicle txv_rent_04_vehicle\n",
       "470930001001                 144                   8                  11\n",
       "470930008001                 162                 125                  17\n",
       "470930008002                  80                   0                   0\n",
       "470930008003                  76                  68                  69\n",
       "470930009011                   0                   0                   0\n",
       "470930009021                   0                   5                   0\n",
       "             txv_rent_GE05_vehicle\n",
       "470930001001                     0\n",
       "470930008001                     0\n",
       "470930008002                     0\n",
       "470930008003                     0\n",
       "470930009011                     0\n",
       "470930009021                    15\n"
      ]
     },
     "metadata": {},
     "output_type": "display_data"
    }
   ],
   "source": [
    "Y <- list(as.matrix(cg1), as.matrix(cg2))\n",
    "names(Y) <- c(\"lv1\", \"lv2\")\n",
    "if(!is.null(cg0)){\n",
    "  Y <- c(list(as.matrix(cg0)), Y)\n",
    "}\n",
    "lapply(Y, head)"
   ]
  },
  {
   "cell_type": "code",
   "execution_count": 24,
   "metadata": {
    "execution": {
     "iopub.execute_input": "2025-02-10T20:50:17.273880Z",
     "iopub.status.busy": "2025-02-10T20:50:17.273562Z",
     "iopub.status.idle": "2025-02-10T20:50:17.278034Z",
     "shell.execute_reply": "2025-02-10T20:50:17.277524Z"
    },
    "vscode": {
     "languageId": "r"
    }
   },
   "outputs": [
    {
     "data": {
      "text/html": [
       "<dl>\n",
       "\t<dt>[[1]]</dt>\n",
       "\t\t<dd><style>\n",
       ".list-inline {list-style: none; margin:0; padding: 0}\n",
       ".list-inline>li {display: inline-block}\n",
       ".list-inline>li:not(:last-child)::after {content: \"\\00b7\"; padding: 0 .5ex}\n",
       "</style>\n",
       "<ol class=list-inline><li>1</li><li>182</li></ol>\n",
       "</dd>\n",
       "\t<dt>$lv1</dt>\n",
       "\t\t<dd><style>\n",
       ".list-inline {list-style: none; margin:0; padding: 0}\n",
       ".list-inline>li {display: inline-block}\n",
       ".list-inline>li:not(:last-child)::after {content: \"\\00b7\"; padding: 0 .5ex}\n",
       "</style>\n",
       "<ol class=list-inline><li>49</li><li>182</li></ol>\n",
       "</dd>\n",
       "\t<dt>$lv2</dt>\n",
       "\t\t<dd><style>\n",
       ".list-inline {list-style: none; margin:0; padding: 0}\n",
       ".list-inline>li {display: inline-block}\n",
       ".list-inline>li:not(:last-child)::after {content: \"\\00b7\"; padding: 0 .5ex}\n",
       "</style>\n",
       "<ol class=list-inline><li>113</li><li>182</li></ol>\n",
       "</dd>\n",
       "</dl>\n"
      ],
      "text/latex": [
       "\\begin{description}\n",
       "\\item[{[[1]]}] \\begin{enumerate*}\n",
       "\\item 1\n",
       "\\item 182\n",
       "\\end{enumerate*}\n",
       "\n",
       "\\item[\\$lv1] \\begin{enumerate*}\n",
       "\\item 49\n",
       "\\item 182\n",
       "\\end{enumerate*}\n",
       "\n",
       "\\item[\\$lv2] \\begin{enumerate*}\n",
       "\\item 113\n",
       "\\item 182\n",
       "\\end{enumerate*}\n",
       "\n",
       "\\end{description}\n"
      ],
      "text/markdown": [
       "[[1]]\n",
       ":   1. 1\n",
       "2. 182\n",
       "\n",
       "\n",
       "\n",
       "$lv1\n",
       ":   1. 49\n",
       "2. 182\n",
       "\n",
       "\n",
       "\n",
       "$lv2\n",
       ":   1. 113\n",
       "2. 182\n",
       "\n",
       "\n",
       "\n",
       "\n",
       "\n"
      ],
      "text/plain": [
       "[[1]]\n",
       "[1]   1 182\n",
       "\n",
       "$lv1\n",
       "[1]  49 182\n",
       "\n",
       "$lv2\n",
       "[1] 113 182\n"
      ]
     },
     "metadata": {},
     "output_type": "display_data"
    }
   ],
   "source": [
    "lapply(Y, dim)"
   ]
  },
  {
   "cell_type": "markdown",
   "metadata": {},
   "source": [
    "### Error Variances"
   ]
  },
  {
   "cell_type": "code",
   "execution_count": 25,
   "metadata": {
    "execution": {
     "iopub.execute_input": "2025-02-10T20:50:17.279402Z",
     "iopub.status.busy": "2025-02-10T20:50:17.279001Z",
     "iopub.status.idle": "2025-02-10T20:50:17.286365Z",
     "shell.execute_reply": "2025-02-10T20:50:17.285716Z"
    },
    "vscode": {
     "languageId": "r"
    }
   },
   "outputs": [
    {
     "data": {
      "text/html": [
       "<table class=\"dataframe\">\n",
       "<caption>A matrix: 1 × 182 of type dbl</caption>\n",
       "<thead>\n",
       "\t<tr><th scope=col>population</th><th scope=col>group_quarters_pop</th><th scope=col>housing_units</th><th scope=col>occhu</th><th scope=col>civ_noninst_pop</th><th scope=col>male_hours_GE35</th><th scope=col>male_hours_15.34</th><th scope=col>male_hours_1.14</th><th scope=col>female_hours_GE35</th><th scope=col>female_hours_15.34</th><th scope=col>⋯</th><th scope=col>txv_own_02_vehicle</th><th scope=col>txv_own_03_vehicle</th><th scope=col>txv_own_04_vehicle</th><th scope=col>txv_own_GE05_vehicle</th><th scope=col>txv_rent_no_vehicle</th><th scope=col>txv_rent_01_vehicle</th><th scope=col>txv_rent_02_vehicle</th><th scope=col>txv_rent_03_vehicle</th><th scope=col>txv_rent_04_vehicle</th><th scope=col>txv_rent_GE05_vehicle</th></tr>\n",
       "</thead>\n",
       "<tbody>\n",
       "\t<tr><td>2313.241</td><td>775.8725</td><td>765.0467</td><td>765.8882</td><td>2304.858</td><td>763.4419</td><td>538.3568</td><td>211.4191</td><td>725.9285</td><td>568.0265</td><td>⋯</td><td>414.0143</td><td>283.5487</td><td>155.5067</td><td>116.2351</td><td>333.7552</td><td>580.1724</td><td>454.0122</td><td>237.061</td><td>153.851</td><td>112.8949</td></tr>\n",
       "</tbody>\n",
       "</table>\n"
      ],
      "text/latex": [
       "A matrix: 1 × 182 of type dbl\n",
       "\\begin{tabular}{lllllllllllllllllllll}\n",
       " population & group\\_quarters\\_pop & housing\\_units & occhu & civ\\_noninst\\_pop & male\\_hours\\_GE35 & male\\_hours\\_15.34 & male\\_hours\\_1.14 & female\\_hours\\_GE35 & female\\_hours\\_15.34 & ⋯ & txv\\_own\\_02\\_vehicle & txv\\_own\\_03\\_vehicle & txv\\_own\\_04\\_vehicle & txv\\_own\\_GE05\\_vehicle & txv\\_rent\\_no\\_vehicle & txv\\_rent\\_01\\_vehicle & txv\\_rent\\_02\\_vehicle & txv\\_rent\\_03\\_vehicle & txv\\_rent\\_04\\_vehicle & txv\\_rent\\_GE05\\_vehicle\\\\\n",
       "\\hline\n",
       "\t 2313.241 & 775.8725 & 765.0467 & 765.8882 & 2304.858 & 763.4419 & 538.3568 & 211.4191 & 725.9285 & 568.0265 & ⋯ & 414.0143 & 283.5487 & 155.5067 & 116.2351 & 333.7552 & 580.1724 & 454.0122 & 237.061 & 153.851 & 112.8949\\\\\n",
       "\\end{tabular}\n"
      ],
      "text/markdown": [
       "\n",
       "A matrix: 1 × 182 of type dbl\n",
       "\n",
       "| population | group_quarters_pop | housing_units | occhu | civ_noninst_pop | male_hours_GE35 | male_hours_15.34 | male_hours_1.14 | female_hours_GE35 | female_hours_15.34 | ⋯ | txv_own_02_vehicle | txv_own_03_vehicle | txv_own_04_vehicle | txv_own_GE05_vehicle | txv_rent_no_vehicle | txv_rent_01_vehicle | txv_rent_02_vehicle | txv_rent_03_vehicle | txv_rent_04_vehicle | txv_rent_GE05_vehicle |\n",
       "|---|---|---|---|---|---|---|---|---|---|---|---|---|---|---|---|---|---|---|---|---|\n",
       "| 2313.241 | 775.8725 | 765.0467 | 765.8882 | 2304.858 | 763.4419 | 538.3568 | 211.4191 | 725.9285 | 568.0265 | ⋯ | 414.0143 | 283.5487 | 155.5067 | 116.2351 | 333.7552 | 580.1724 | 454.0122 | 237.061 | 153.851 | 112.8949 |\n",
       "\n"
      ],
      "text/plain": [
       "     population group_quarters_pop housing_units occhu    civ_noninst_pop\n",
       "[1,] 2313.241   775.8725           765.0467      765.8882 2304.858       \n",
       "     male_hours_GE35 male_hours_15.34 male_hours_1.14 female_hours_GE35\n",
       "[1,] 763.4419        538.3568         211.4191        725.9285         \n",
       "     female_hours_15.34 ⋯ txv_own_02_vehicle txv_own_03_vehicle\n",
       "[1,] 568.0265           ⋯ 414.0143           283.5487          \n",
       "     txv_own_04_vehicle txv_own_GE05_vehicle txv_rent_no_vehicle\n",
       "[1,] 155.5067           116.2351             333.7552           \n",
       "     txv_rent_01_vehicle txv_rent_02_vehicle txv_rent_03_vehicle\n",
       "[1,] 580.1724            454.0122            237.061            \n",
       "     txv_rent_04_vehicle txv_rent_GE05_vehicle\n",
       "[1,] 153.851             112.8949             "
      ]
     },
     "metadata": {},
     "output_type": "display_data"
    }
   ],
   "source": [
    "do.call(cbind, lapply(sg2, function(x) sqrt(sum(x^2))))"
   ]
  },
  {
   "cell_type": "code",
   "execution_count": 26,
   "metadata": {
    "execution": {
     "iopub.execute_input": "2025-02-10T20:50:17.287702Z",
     "iopub.status.busy": "2025-02-10T20:50:17.287235Z",
     "iopub.status.idle": "2025-02-10T20:50:17.296298Z",
     "shell.execute_reply": "2025-02-10T20:50:17.295700Z"
    },
    "vscode": {
     "languageId": "r"
    }
   },
   "outputs": [
    {
     "data": {
      "text/html": [
       "<table class=\"dataframe\">\n",
       "<caption>A matrix: 1 × 182 of type dbl</caption>\n",
       "<thead>\n",
       "\t<tr><th scope=col>population</th><th scope=col>group_quarters_pop</th><th scope=col>housing_units</th><th scope=col>occhu</th><th scope=col>civ_noninst_pop</th><th scope=col>male_hours_GE35</th><th scope=col>male_hours_15.34</th><th scope=col>male_hours_1.14</th><th scope=col>female_hours_GE35</th><th scope=col>female_hours_15.34</th><th scope=col>⋯</th><th scope=col>txv_own_02_vehicle</th><th scope=col>txv_own_03_vehicle</th><th scope=col>txv_own_04_vehicle</th><th scope=col>txv_own_GE05_vehicle</th><th scope=col>txv_rent_no_vehicle</th><th scope=col>txv_rent_01_vehicle</th><th scope=col>txv_rent_02_vehicle</th><th scope=col>txv_rent_03_vehicle</th><th scope=col>txv_rent_04_vehicle</th><th scope=col>txv_rent_GE05_vehicle</th></tr>\n",
       "</thead>\n",
       "<tbody>\n",
       "\t<tr><td>231.3241</td><td>77.58725</td><td>76.50467</td><td>76.58882</td><td>230.4858</td><td>76.34419</td><td>53.83568</td><td>21.14191</td><td>72.59285</td><td>56.80265</td><td>⋯</td><td>41.40143</td><td>28.35487</td><td>15.55067</td><td>11.62351</td><td>33.37552</td><td>58.01724</td><td>45.40122</td><td>23.7061</td><td>15.3851</td><td>11.28949</td></tr>\n",
       "</tbody>\n",
       "</table>\n"
      ],
      "text/latex": [
       "A matrix: 1 × 182 of type dbl\n",
       "\\begin{tabular}{lllllllllllllllllllll}\n",
       " population & group\\_quarters\\_pop & housing\\_units & occhu & civ\\_noninst\\_pop & male\\_hours\\_GE35 & male\\_hours\\_15.34 & male\\_hours\\_1.14 & female\\_hours\\_GE35 & female\\_hours\\_15.34 & ⋯ & txv\\_own\\_02\\_vehicle & txv\\_own\\_03\\_vehicle & txv\\_own\\_04\\_vehicle & txv\\_own\\_GE05\\_vehicle & txv\\_rent\\_no\\_vehicle & txv\\_rent\\_01\\_vehicle & txv\\_rent\\_02\\_vehicle & txv\\_rent\\_03\\_vehicle & txv\\_rent\\_04\\_vehicle & txv\\_rent\\_GE05\\_vehicle\\\\\n",
       "\\hline\n",
       "\t 231.3241 & 77.58725 & 76.50467 & 76.58882 & 230.4858 & 76.34419 & 53.83568 & 21.14191 & 72.59285 & 56.80265 & ⋯ & 41.40143 & 28.35487 & 15.55067 & 11.62351 & 33.37552 & 58.01724 & 45.40122 & 23.7061 & 15.3851 & 11.28949\\\\\n",
       "\\end{tabular}\n"
      ],
      "text/markdown": [
       "\n",
       "A matrix: 1 × 182 of type dbl\n",
       "\n",
       "| population | group_quarters_pop | housing_units | occhu | civ_noninst_pop | male_hours_GE35 | male_hours_15.34 | male_hours_1.14 | female_hours_GE35 | female_hours_15.34 | ⋯ | txv_own_02_vehicle | txv_own_03_vehicle | txv_own_04_vehicle | txv_own_GE05_vehicle | txv_rent_no_vehicle | txv_rent_01_vehicle | txv_rent_02_vehicle | txv_rent_03_vehicle | txv_rent_04_vehicle | txv_rent_GE05_vehicle |\n",
       "|---|---|---|---|---|---|---|---|---|---|---|---|---|---|---|---|---|---|---|---|---|\n",
       "| 231.3241 | 77.58725 | 76.50467 | 76.58882 | 230.4858 | 76.34419 | 53.83568 | 21.14191 | 72.59285 | 56.80265 | ⋯ | 41.40143 | 28.35487 | 15.55067 | 11.62351 | 33.37552 | 58.01724 | 45.40122 | 23.7061 | 15.3851 | 11.28949 |\n",
       "\n"
      ],
      "text/plain": [
       "     population group_quarters_pop housing_units occhu    civ_noninst_pop\n",
       "[1,] 231.3241   77.58725           76.50467      76.58882 230.4858       \n",
       "     male_hours_GE35 male_hours_15.34 male_hours_1.14 female_hours_GE35\n",
       "[1,] 76.34419        53.83568         21.14191        72.59285         \n",
       "     female_hours_15.34 ⋯ txv_own_02_vehicle txv_own_03_vehicle\n",
       "[1,] 56.80265           ⋯ 41.40143           28.35487          \n",
       "     txv_own_04_vehicle txv_own_GE05_vehicle txv_rent_no_vehicle\n",
       "[1,] 15.55067           11.62351             33.37552           \n",
       "     txv_rent_01_vehicle txv_rent_02_vehicle txv_rent_03_vehicle\n",
       "[1,] 58.01724            45.40122            23.7061            \n",
       "     txv_rent_04_vehicle txv_rent_GE05_vehicle\n",
       "[1,] 15.3851             11.28949             "
      ]
     },
     "metadata": {},
     "output_type": "display_data"
    }
   ],
   "source": [
    "if (include_cg0){\n",
    "  sg0 <- do.call(cbind, lapply(sg2, function(x) sqrt(sum(x^2))))\n",
    "  sg0 <- sg0 * 0.1 # TODO: parameterize scaling factor\n",
    "}else{\n",
    "  sg0 <- NULL\n",
    "}\n",
    "sg0"
   ]
  },
  {
   "cell_type": "code",
   "execution_count": 27,
   "metadata": {
    "execution": {
     "iopub.execute_input": "2025-02-10T20:50:17.297789Z",
     "iopub.status.busy": "2025-02-10T20:50:17.297286Z",
     "iopub.status.idle": "2025-02-10T20:50:17.330903Z",
     "shell.execute_reply": "2025-02-10T20:50:17.330429Z"
    },
    "vscode": {
     "languageId": "r"
    }
   },
   "outputs": [
    {
     "data": {
      "text/html": [
       "<dl>\n",
       "\t<dt>[[1]]</dt>\n",
       "\t\t<dd><table class=\"dataframe\">\n",
       "<caption>A matrix: 1 × 182 of type dbl</caption>\n",
       "<thead>\n",
       "\t<tr><th scope=col>population</th><th scope=col>group_quarters_pop</th><th scope=col>housing_units</th><th scope=col>occhu</th><th scope=col>civ_noninst_pop</th><th scope=col>male_hours_GE35</th><th scope=col>male_hours_15.34</th><th scope=col>male_hours_1.14</th><th scope=col>female_hours_GE35</th><th scope=col>female_hours_15.34</th><th scope=col>⋯</th><th scope=col>txv_own_02_vehicle</th><th scope=col>txv_own_03_vehicle</th><th scope=col>txv_own_04_vehicle</th><th scope=col>txv_own_GE05_vehicle</th><th scope=col>txv_rent_no_vehicle</th><th scope=col>txv_rent_01_vehicle</th><th scope=col>txv_rent_02_vehicle</th><th scope=col>txv_rent_03_vehicle</th><th scope=col>txv_rent_04_vehicle</th><th scope=col>txv_rent_GE05_vehicle</th></tr>\n",
       "</thead>\n",
       "<tbody>\n",
       "\t<tr><td>53510.85</td><td>6019.782</td><td>5852.965</td><td>5865.848</td><td>53123.71</td><td>5828.435</td><td>2898.281</td><td>446.9803</td><td>5269.722</td><td>3226.541</td><td>⋯</td><td>1714.079</td><td>803.9985</td><td>241.8233</td><td>135.1059</td><td>1113.925</td><td>3366</td><td>2061.271</td><td>561.9793</td><td>236.7014</td><td>127.4526</td></tr>\n",
       "</tbody>\n",
       "</table>\n",
       "</dd>\n",
       "\t<dt>$lv1</dt>\n",
       "\t\t<dd><table class=\"dataframe\">\n",
       "<caption>A matrix: 6 × 182 of type dbl</caption>\n",
       "<thead>\n",
       "\t<tr><th></th><th scope=col>population</th><th scope=col>group_quarters_pop</th><th scope=col>housing_units</th><th scope=col>occhu</th><th scope=col>civ_noninst_pop</th><th scope=col>male_hours_GE35</th><th scope=col>male_hours_15.34</th><th scope=col>male_hours_1.14</th><th scope=col>female_hours_GE35</th><th scope=col>female_hours_15.34</th><th scope=col>⋯</th><th scope=col>txv_own_02_vehicle</th><th scope=col>txv_own_03_vehicle</th><th scope=col>txv_own_04_vehicle</th><th scope=col>txv_own_GE05_vehicle</th><th scope=col>txv_rent_no_vehicle</th><th scope=col>txv_rent_01_vehicle</th><th scope=col>txv_rent_02_vehicle</th><th scope=col>txv_rent_03_vehicle</th><th scope=col>txv_rent_04_vehicle</th><th scope=col>txv_rent_GE05_vehicle</th></tr>\n",
       "</thead>\n",
       "<tbody>\n",
       "\t<tr><th scope=row>47093000100</th><td> 19042.32</td><td>  3920.51071</td><td>2484.825528</td><td>4471.503404</td><td> 15078.94</td><td> 6835.118</td><td> 4635.5817</td><td>1200.6541</td><td> 4718.730</td><td> 1969.309</td><td>⋯</td><td>2078.69476</td><td>  18.10774</td><td> 53.21459</td><td> 53.21459</td><td>1810.77411</td><td>5590.857438</td><td>1243.15186</td><td>  72.43096</td><td> 133.40601</td><td> 53.21459</td></tr>\n",
       "\t<tr><th scope=row>47093000800</th><td>108960.19</td><td> 22912.20517</td><td>1243.151856</td><td>6341.774374</td><td> 99925.17</td><td>14781.829</td><td>18708.2529</td><td>1915.7251</td><td>14341.700</td><td> 7139.993</td><td>⋯</td><td> 851.43338</td><td> 478.93127</td><td> 53.21459</td><td>478.93127</td><td>2424.58957</td><td>4972.607422</td><td>4471.50340</td><td>3769.73605</td><td>1561.33073</td><td> 53.21459</td></tr>\n",
       "\t<tr><th scope=row>47093000901</th><td> 33037.76</td><td> 33037.75834</td><td>   9.238643</td><td>   9.238643</td><td> 33037.76</td><td> 2134.496</td><td> 3060.2082</td><td>3265.3061</td><td> 2365.093</td><td>12106.688</td><td>⋯</td><td>  53.21459</td><td>  53.21459</td><td> 53.21459</td><td> 53.21459</td><td>  53.21459</td><td>   9.238643</td><td>  53.21459</td><td>  53.21459</td><td>  53.21459</td><td> 53.21459</td></tr>\n",
       "\t<tr><th scope=row>47093000902</th><td>508468.69</td><td>425468.72257</td><td> 533.624043</td><td> 402.435306</td><td>508468.69</td><td> 9939.302</td><td>27139.8084</td><td>6734.9710</td><td>14781.829</td><td>25173.825</td><td>⋯</td><td>  53.21459</td><td>  53.21459</td><td> 53.21459</td><td> 53.21459</td><td>  53.21459</td><td> 230.966085</td><td>  53.21459</td><td>  18.10774</td><td>  53.21459</td><td>212.85834</td></tr>\n",
       "\t<tr><th scope=row>47093001400</th><td> 48963.33</td><td>    53.21459</td><td>3920.510712</td><td>4152.215889</td><td> 48963.33</td><td> 6734.971</td><td>  715.4405</td><td> 106.7987</td><td> 3844.754</td><td> 3060.208</td><td>⋯</td><td> 748.33012</td><td> 562.07906</td><td>106.79872</td><td> 53.21459</td><td>3196.20107</td><td>2669.967942</td><td>1286.38871</td><td> 478.93127</td><td>  53.21459</td><td> 53.21459</td></tr>\n",
       "\t<tr><th scope=row>47093001500</th><td> 56496.52</td><td>  3335.15027</td><td>2191.036668</td><td>4390.572888</td><td> 51967.37</td><td> 7556.841</td><td>  621.2064</td><td> 310.7880</td><td> 8650.696</td><td> 3621.918</td><td>⋯</td><td>2993.32046</td><td>2797.09168</td><td>533.62404</td><td> 53.21459</td><td> 781.95878</td><td>2191.036668</td><td>2134.49617</td><td>1862.88005</td><td>  53.21459</td><td> 53.21459</td></tr>\n",
       "</tbody>\n",
       "</table>\n",
       "</dd>\n",
       "\t<dt>$lv2</dt>\n",
       "\t\t<dd><table class=\"dataframe\">\n",
       "<caption>A matrix: 6 × 182 of type dbl</caption>\n",
       "<thead>\n",
       "\t<tr><th></th><th scope=col>population</th><th scope=col>group_quarters_pop</th><th scope=col>housing_units</th><th scope=col>occhu</th><th scope=col>civ_noninst_pop</th><th scope=col>male_hours_GE35</th><th scope=col>male_hours_15.34</th><th scope=col>male_hours_1.14</th><th scope=col>female_hours_GE35</th><th scope=col>female_hours_15.34</th><th scope=col>⋯</th><th scope=col>txv_own_02_vehicle</th><th scope=col>txv_own_03_vehicle</th><th scope=col>txv_own_04_vehicle</th><th scope=col>txv_own_GE05_vehicle</th><th scope=col>txv_rent_no_vehicle</th><th scope=col>txv_rent_01_vehicle</th><th scope=col>txv_rent_02_vehicle</th><th scope=col>txv_rent_03_vehicle</th><th scope=col>txv_rent_04_vehicle</th><th scope=col>txv_rent_GE05_vehicle</th></tr>\n",
       "</thead>\n",
       "<tbody>\n",
       "\t<tr><th scope=row>470930001001</th><td> 19042.32</td><td>  3920.51071</td><td>2484.825528</td><td>4471.503404</td><td> 15078.94</td><td>6835.1179</td><td> 4635.582</td><td>1200.65410</td><td> 4718.730</td><td> 1969.3092</td><td>⋯</td><td>2078.69476</td><td> 18.10774</td><td>53.21459</td><td> 53.21459</td><td>1810.77411</td><td>5590.857438</td><td>1243.15186</td><td>  72.43096</td><td> 133.40601</td><td> 53.21459</td></tr>\n",
       "\t<tr><th scope=row>470930008001</th><td> 41225.04</td><td>    83.14779</td><td>5866.908103</td><td>5233.137166</td><td> 39515.16</td><td>7769.6991</td><td> 5866.908</td><td>1915.72509</td><td> 3405.734</td><td> 4718.7295</td><td>⋯</td><td> 178.86014</td><td> 83.14779</td><td>53.21459</td><td> 53.21459</td><td>2365.09271</td><td>3621.917758</td><td>3127.83511</td><td>2023.63245</td><td> 133.40601</td><td> 53.21459</td></tr>\n",
       "\t<tr><th scope=row>470930008002</th><td> 20408.16</td><td>  2797.09168</td><td>2733.160263</td><td>2191.036668</td><td> 17082.25</td><td> 591.2732</td><td>  133.406</td><td>  53.21459</td><td> 2248.316</td><td> 1375.0797</td><td>⋯</td><td>  36.95457</td><td>427.19487</td><td>53.21459</td><td> 53.21459</td><td>  53.21459</td><td> 651.878678</td><td>1286.38871</td><td>  53.21459</td><td>  53.21459</td><td> 53.21459</td></tr>\n",
       "\t<tr><th scope=row>470930008003</th><td> 74169.31</td><td> 18708.25288</td><td>4152.215889</td><td>4152.215889</td><td> 74169.31</td><td>6245.3229</td><td>13061.224</td><td>  53.21459</td><td> 8314.779</td><td>  683.2901</td><td>⋯</td><td> 715.44054</td><td> 53.21459</td><td>53.21459</td><td>478.93127</td><td>  53.21459</td><td> 816.326531</td><td>1038.05397</td><td>1810.77411</td><td>1375.07968</td><td> 53.21459</td></tr>\n",
       "\t<tr><th scope=row>470930009011</th><td> 33037.76</td><td> 33037.75834</td><td>   9.238643</td><td>   9.238643</td><td> 33037.76</td><td>2134.4962</td><td> 3060.208</td><td>3265.30612</td><td> 2365.093</td><td>12106.6879</td><td>⋯</td><td>  53.21459</td><td> 53.21459</td><td>53.21459</td><td> 53.21459</td><td>  53.21459</td><td>   9.238643</td><td>  53.21459</td><td>  53.21459</td><td>  53.21459</td><td> 53.21459</td></tr>\n",
       "\t<tr><th scope=row>470930009021</th><td>469370.76</td><td>389011.92709</td><td> 533.624043</td><td> 378.414834</td><td>469370.76</td><td> 178.8601</td><td>16608.864</td><td> 289.72386</td><td>10805.887</td><td>21108.8220</td><td>⋯</td><td>  53.21459</td><td> 53.21459</td><td>53.21459</td><td> 53.21459</td><td>  53.21459</td><td> 230.966085</td><td>  53.21459</td><td>  18.10774</td><td>  53.21459</td><td>195.48969</td></tr>\n",
       "</tbody>\n",
       "</table>\n",
       "</dd>\n",
       "</dl>\n"
      ],
      "text/latex": [
       "\\begin{description}\n",
       "\\item[{[[1]]}] A matrix: 1 × 182 of type dbl\n",
       "\\begin{tabular}{lllllllllllllllllllll}\n",
       " population & group\\_quarters\\_pop & housing\\_units & occhu & civ\\_noninst\\_pop & male\\_hours\\_GE35 & male\\_hours\\_15.34 & male\\_hours\\_1.14 & female\\_hours\\_GE35 & female\\_hours\\_15.34 & ⋯ & txv\\_own\\_02\\_vehicle & txv\\_own\\_03\\_vehicle & txv\\_own\\_04\\_vehicle & txv\\_own\\_GE05\\_vehicle & txv\\_rent\\_no\\_vehicle & txv\\_rent\\_01\\_vehicle & txv\\_rent\\_02\\_vehicle & txv\\_rent\\_03\\_vehicle & txv\\_rent\\_04\\_vehicle & txv\\_rent\\_GE05\\_vehicle\\\\\n",
       "\\hline\n",
       "\t 53510.85 & 6019.782 & 5852.965 & 5865.848 & 53123.71 & 5828.435 & 2898.281 & 446.9803 & 5269.722 & 3226.541 & ⋯ & 1714.079 & 803.9985 & 241.8233 & 135.1059 & 1113.925 & 3366 & 2061.271 & 561.9793 & 236.7014 & 127.4526\\\\\n",
       "\\end{tabular}\n",
       "\n",
       "\\item[\\$lv1] A matrix: 6 × 182 of type dbl\n",
       "\\begin{tabular}{r|lllllllllllllllllllll}\n",
       "  & population & group\\_quarters\\_pop & housing\\_units & occhu & civ\\_noninst\\_pop & male\\_hours\\_GE35 & male\\_hours\\_15.34 & male\\_hours\\_1.14 & female\\_hours\\_GE35 & female\\_hours\\_15.34 & ⋯ & txv\\_own\\_02\\_vehicle & txv\\_own\\_03\\_vehicle & txv\\_own\\_04\\_vehicle & txv\\_own\\_GE05\\_vehicle & txv\\_rent\\_no\\_vehicle & txv\\_rent\\_01\\_vehicle & txv\\_rent\\_02\\_vehicle & txv\\_rent\\_03\\_vehicle & txv\\_rent\\_04\\_vehicle & txv\\_rent\\_GE05\\_vehicle\\\\\n",
       "\\hline\n",
       "\t47093000100 &  19042.32 &   3920.51071 & 2484.825528 & 4471.503404 &  15078.94 &  6835.118 &  4635.5817 & 1200.6541 &  4718.730 &  1969.309 & ⋯ & 2078.69476 &   18.10774 &  53.21459 &  53.21459 & 1810.77411 & 5590.857438 & 1243.15186 &   72.43096 &  133.40601 &  53.21459\\\\\n",
       "\t47093000800 & 108960.19 &  22912.20517 & 1243.151856 & 6341.774374 &  99925.17 & 14781.829 & 18708.2529 & 1915.7251 & 14341.700 &  7139.993 & ⋯ &  851.43338 &  478.93127 &  53.21459 & 478.93127 & 2424.58957 & 4972.607422 & 4471.50340 & 3769.73605 & 1561.33073 &  53.21459\\\\\n",
       "\t47093000901 &  33037.76 &  33037.75834 &    9.238643 &    9.238643 &  33037.76 &  2134.496 &  3060.2082 & 3265.3061 &  2365.093 & 12106.688 & ⋯ &   53.21459 &   53.21459 &  53.21459 &  53.21459 &   53.21459 &    9.238643 &   53.21459 &   53.21459 &   53.21459 &  53.21459\\\\\n",
       "\t47093000902 & 508468.69 & 425468.72257 &  533.624043 &  402.435306 & 508468.69 &  9939.302 & 27139.8084 & 6734.9710 & 14781.829 & 25173.825 & ⋯ &   53.21459 &   53.21459 &  53.21459 &  53.21459 &   53.21459 &  230.966085 &   53.21459 &   18.10774 &   53.21459 & 212.85834\\\\\n",
       "\t47093001400 &  48963.33 &     53.21459 & 3920.510712 & 4152.215889 &  48963.33 &  6734.971 &   715.4405 &  106.7987 &  3844.754 &  3060.208 & ⋯ &  748.33012 &  562.07906 & 106.79872 &  53.21459 & 3196.20107 & 2669.967942 & 1286.38871 &  478.93127 &   53.21459 &  53.21459\\\\\n",
       "\t47093001500 &  56496.52 &   3335.15027 & 2191.036668 & 4390.572888 &  51967.37 &  7556.841 &   621.2064 &  310.7880 &  8650.696 &  3621.918 & ⋯ & 2993.32046 & 2797.09168 & 533.62404 &  53.21459 &  781.95878 & 2191.036668 & 2134.49617 & 1862.88005 &   53.21459 &  53.21459\\\\\n",
       "\\end{tabular}\n",
       "\n",
       "\\item[\\$lv2] A matrix: 6 × 182 of type dbl\n",
       "\\begin{tabular}{r|lllllllllllllllllllll}\n",
       "  & population & group\\_quarters\\_pop & housing\\_units & occhu & civ\\_noninst\\_pop & male\\_hours\\_GE35 & male\\_hours\\_15.34 & male\\_hours\\_1.14 & female\\_hours\\_GE35 & female\\_hours\\_15.34 & ⋯ & txv\\_own\\_02\\_vehicle & txv\\_own\\_03\\_vehicle & txv\\_own\\_04\\_vehicle & txv\\_own\\_GE05\\_vehicle & txv\\_rent\\_no\\_vehicle & txv\\_rent\\_01\\_vehicle & txv\\_rent\\_02\\_vehicle & txv\\_rent\\_03\\_vehicle & txv\\_rent\\_04\\_vehicle & txv\\_rent\\_GE05\\_vehicle\\\\\n",
       "\\hline\n",
       "\t470930001001 &  19042.32 &   3920.51071 & 2484.825528 & 4471.503404 &  15078.94 & 6835.1179 &  4635.582 & 1200.65410 &  4718.730 &  1969.3092 & ⋯ & 2078.69476 &  18.10774 & 53.21459 &  53.21459 & 1810.77411 & 5590.857438 & 1243.15186 &   72.43096 &  133.40601 &  53.21459\\\\\n",
       "\t470930008001 &  41225.04 &     83.14779 & 5866.908103 & 5233.137166 &  39515.16 & 7769.6991 &  5866.908 & 1915.72509 &  3405.734 &  4718.7295 & ⋯ &  178.86014 &  83.14779 & 53.21459 &  53.21459 & 2365.09271 & 3621.917758 & 3127.83511 & 2023.63245 &  133.40601 &  53.21459\\\\\n",
       "\t470930008002 &  20408.16 &   2797.09168 & 2733.160263 & 2191.036668 &  17082.25 &  591.2732 &   133.406 &   53.21459 &  2248.316 &  1375.0797 & ⋯ &   36.95457 & 427.19487 & 53.21459 &  53.21459 &   53.21459 &  651.878678 & 1286.38871 &   53.21459 &   53.21459 &  53.21459\\\\\n",
       "\t470930008003 &  74169.31 &  18708.25288 & 4152.215889 & 4152.215889 &  74169.31 & 6245.3229 & 13061.224 &   53.21459 &  8314.779 &   683.2901 & ⋯ &  715.44054 &  53.21459 & 53.21459 & 478.93127 &   53.21459 &  816.326531 & 1038.05397 & 1810.77411 & 1375.07968 &  53.21459\\\\\n",
       "\t470930009011 &  33037.76 &  33037.75834 &    9.238643 &    9.238643 &  33037.76 & 2134.4962 &  3060.208 & 3265.30612 &  2365.093 & 12106.6879 & ⋯ &   53.21459 &  53.21459 & 53.21459 &  53.21459 &   53.21459 &    9.238643 &   53.21459 &   53.21459 &   53.21459 &  53.21459\\\\\n",
       "\t470930009021 & 469370.76 & 389011.92709 &  533.624043 &  378.414834 & 469370.76 &  178.8601 & 16608.864 &  289.72386 & 10805.887 & 21108.8220 & ⋯ &   53.21459 &  53.21459 & 53.21459 &  53.21459 &   53.21459 &  230.966085 &   53.21459 &   18.10774 &   53.21459 & 195.48969\\\\\n",
       "\\end{tabular}\n",
       "\n",
       "\\end{description}\n"
      ],
      "text/markdown": [
       "[[1]]\n",
       ":   \n",
       "A matrix: 1 × 182 of type dbl\n",
       "\n",
       "| population | group_quarters_pop | housing_units | occhu | civ_noninst_pop | male_hours_GE35 | male_hours_15.34 | male_hours_1.14 | female_hours_GE35 | female_hours_15.34 | ⋯ | txv_own_02_vehicle | txv_own_03_vehicle | txv_own_04_vehicle | txv_own_GE05_vehicle | txv_rent_no_vehicle | txv_rent_01_vehicle | txv_rent_02_vehicle | txv_rent_03_vehicle | txv_rent_04_vehicle | txv_rent_GE05_vehicle |\n",
       "|---|---|---|---|---|---|---|---|---|---|---|---|---|---|---|---|---|---|---|---|---|\n",
       "| 53510.85 | 6019.782 | 5852.965 | 5865.848 | 53123.71 | 5828.435 | 2898.281 | 446.9803 | 5269.722 | 3226.541 | ⋯ | 1714.079 | 803.9985 | 241.8233 | 135.1059 | 1113.925 | 3366 | 2061.271 | 561.9793 | 236.7014 | 127.4526 |\n",
       "\n",
       "\n",
       "$lv1\n",
       ":   \n",
       "A matrix: 6 × 182 of type dbl\n",
       "\n",
       "| <!--/--> | population | group_quarters_pop | housing_units | occhu | civ_noninst_pop | male_hours_GE35 | male_hours_15.34 | male_hours_1.14 | female_hours_GE35 | female_hours_15.34 | ⋯ | txv_own_02_vehicle | txv_own_03_vehicle | txv_own_04_vehicle | txv_own_GE05_vehicle | txv_rent_no_vehicle | txv_rent_01_vehicle | txv_rent_02_vehicle | txv_rent_03_vehicle | txv_rent_04_vehicle | txv_rent_GE05_vehicle |\n",
       "|---|---|---|---|---|---|---|---|---|---|---|---|---|---|---|---|---|---|---|---|---|---|\n",
       "| 47093000100 |  19042.32 |   3920.51071 | 2484.825528 | 4471.503404 |  15078.94 |  6835.118 |  4635.5817 | 1200.6541 |  4718.730 |  1969.309 | ⋯ | 2078.69476 |   18.10774 |  53.21459 |  53.21459 | 1810.77411 | 5590.857438 | 1243.15186 |   72.43096 |  133.40601 |  53.21459 |\n",
       "| 47093000800 | 108960.19 |  22912.20517 | 1243.151856 | 6341.774374 |  99925.17 | 14781.829 | 18708.2529 | 1915.7251 | 14341.700 |  7139.993 | ⋯ |  851.43338 |  478.93127 |  53.21459 | 478.93127 | 2424.58957 | 4972.607422 | 4471.50340 | 3769.73605 | 1561.33073 |  53.21459 |\n",
       "| 47093000901 |  33037.76 |  33037.75834 |    9.238643 |    9.238643 |  33037.76 |  2134.496 |  3060.2082 | 3265.3061 |  2365.093 | 12106.688 | ⋯ |   53.21459 |   53.21459 |  53.21459 |  53.21459 |   53.21459 |    9.238643 |   53.21459 |   53.21459 |   53.21459 |  53.21459 |\n",
       "| 47093000902 | 508468.69 | 425468.72257 |  533.624043 |  402.435306 | 508468.69 |  9939.302 | 27139.8084 | 6734.9710 | 14781.829 | 25173.825 | ⋯ |   53.21459 |   53.21459 |  53.21459 |  53.21459 |   53.21459 |  230.966085 |   53.21459 |   18.10774 |   53.21459 | 212.85834 |\n",
       "| 47093001400 |  48963.33 |     53.21459 | 3920.510712 | 4152.215889 |  48963.33 |  6734.971 |   715.4405 |  106.7987 |  3844.754 |  3060.208 | ⋯ |  748.33012 |  562.07906 | 106.79872 |  53.21459 | 3196.20107 | 2669.967942 | 1286.38871 |  478.93127 |   53.21459 |  53.21459 |\n",
       "| 47093001500 |  56496.52 |   3335.15027 | 2191.036668 | 4390.572888 |  51967.37 |  7556.841 |   621.2064 |  310.7880 |  8650.696 |  3621.918 | ⋯ | 2993.32046 | 2797.09168 | 533.62404 |  53.21459 |  781.95878 | 2191.036668 | 2134.49617 | 1862.88005 |   53.21459 |  53.21459 |\n",
       "\n",
       "\n",
       "$lv2\n",
       ":   \n",
       "A matrix: 6 × 182 of type dbl\n",
       "\n",
       "| <!--/--> | population | group_quarters_pop | housing_units | occhu | civ_noninst_pop | male_hours_GE35 | male_hours_15.34 | male_hours_1.14 | female_hours_GE35 | female_hours_15.34 | ⋯ | txv_own_02_vehicle | txv_own_03_vehicle | txv_own_04_vehicle | txv_own_GE05_vehicle | txv_rent_no_vehicle | txv_rent_01_vehicle | txv_rent_02_vehicle | txv_rent_03_vehicle | txv_rent_04_vehicle | txv_rent_GE05_vehicle |\n",
       "|---|---|---|---|---|---|---|---|---|---|---|---|---|---|---|---|---|---|---|---|---|---|\n",
       "| 470930001001 |  19042.32 |   3920.51071 | 2484.825528 | 4471.503404 |  15078.94 | 6835.1179 |  4635.582 | 1200.65410 |  4718.730 |  1969.3092 | ⋯ | 2078.69476 |  18.10774 | 53.21459 |  53.21459 | 1810.77411 | 5590.857438 | 1243.15186 |   72.43096 |  133.40601 |  53.21459 |\n",
       "| 470930008001 |  41225.04 |     83.14779 | 5866.908103 | 5233.137166 |  39515.16 | 7769.6991 |  5866.908 | 1915.72509 |  3405.734 |  4718.7295 | ⋯ |  178.86014 |  83.14779 | 53.21459 |  53.21459 | 2365.09271 | 3621.917758 | 3127.83511 | 2023.63245 |  133.40601 |  53.21459 |\n",
       "| 470930008002 |  20408.16 |   2797.09168 | 2733.160263 | 2191.036668 |  17082.25 |  591.2732 |   133.406 |   53.21459 |  2248.316 |  1375.0797 | ⋯ |   36.95457 | 427.19487 | 53.21459 |  53.21459 |   53.21459 |  651.878678 | 1286.38871 |   53.21459 |   53.21459 |  53.21459 |\n",
       "| 470930008003 |  74169.31 |  18708.25288 | 4152.215889 | 4152.215889 |  74169.31 | 6245.3229 | 13061.224 |   53.21459 |  8314.779 |   683.2901 | ⋯ |  715.44054 |  53.21459 | 53.21459 | 478.93127 |   53.21459 |  816.326531 | 1038.05397 | 1810.77411 | 1375.07968 |  53.21459 |\n",
       "| 470930009011 |  33037.76 |  33037.75834 |    9.238643 |    9.238643 |  33037.76 | 2134.4962 |  3060.208 | 3265.30612 |  2365.093 | 12106.6879 | ⋯ |   53.21459 |  53.21459 | 53.21459 |  53.21459 |   53.21459 |    9.238643 |   53.21459 |   53.21459 |   53.21459 |  53.21459 |\n",
       "| 470930009021 | 469370.76 | 389011.92709 |  533.624043 |  378.414834 | 469370.76 |  178.8601 | 16608.864 |  289.72386 | 10805.887 | 21108.8220 | ⋯ |   53.21459 |  53.21459 | 53.21459 |  53.21459 |   53.21459 |  230.966085 |   53.21459 |   18.10774 |   53.21459 | 195.48969 |\n",
       "\n",
       "\n",
       "\n",
       "\n"
      ],
      "text/plain": [
       "[[1]]\n",
       "     population group_quarters_pop housing_units    occhu civ_noninst_pop\n",
       "[1,]   53510.85           6019.782      5852.965 5865.848        53123.71\n",
       "     male_hours_GE35 male_hours_15.34 male_hours_1.14 female_hours_GE35\n",
       "[1,]        5828.435         2898.281        446.9803          5269.722\n",
       "     female_hours_15.34 female_hours_1.14 emp_stat_employed emp_stat_unemp\n",
       "[1,]           3226.541           755.078          20310.67        1324.87\n",
       "     emp_stat_mil emp_stat_not.in.force sexcw_male_private\n",
       "[1,]     81.20398              12310.89           6546.562\n",
       "     sexcw_male_self.emp_inc sexcw_male_non.prof sexcw_male_local.gov\n",
       "[1,]                191.9753            486.5107             380.8058\n",
       "     sexcw_male_st.gov sexcw_male_fed.gov sexcw_male_self.emp_non.inc\n",
       "[1,]          715.0969           191.4949                    722.4582\n",
       "     sexcw_male_wo.pay sexcw_female_private sexcw_female_self.emp_inc\n",
       "[1,]           63.7762             6658.996                  114.2451\n",
       "     sexcw_female_non.prof sexcw_female_local.gov sexcw_female_st.gov\n",
       "[1,]               723.238               479.6888            992.5629\n",
       "     sexcw_female_fed.gov sexcw_female_self.emp_non.inc sexcw_female_wo.pay\n",
       "[1,]             177.0641                      382.8531            61.62175\n",
       "     sexocc_male_mgmt sexocc_male_bus.fin sexocc_male_cmp sexocc_male_eng\n",
       "[1,]         600.6042            266.2171        358.5665        204.7764\n",
       "     sexocc_male_sci sexocc_male_cms sexocc_male_lgl sexocc_male_edu\n",
       "[1,]        362.4985        137.7038        75.64971        407.4353\n",
       "     sexocc_male_ent sexocc_male_med sexocc_male_med.tech sexocc_male_hls\n",
       "[1,]        291.7564        196.3396             114.9213        166.6762\n",
       "     sexocc_male_prt sexocc_male_law.enf sexocc_male_eat sexocc_male_cln\n",
       "[1,]        168.5461             137.131        1029.828        554.3223\n",
       "     sexocc_male_prs sexocc_male_sal sexocc_male_off sexocc_male_fff\n",
       "[1,]        172.0088        930.8081        802.5129        60.13248\n",
       "     sexocc_male_con.ext sexocc_male_rpr sexocc_male_prd sexocc_male_trn\n",
       "[1,]            926.7985        408.3739        585.9776        582.5852\n",
       "     sexocc_male_trn.mat sexocc_female_mgmt sexocc_female_bus.fin\n",
       "[1,]            571.9533           561.2772              338.9067\n",
       "     sexocc_female_cmp sexocc_female_eng sexocc_female_sci sexocc_female_cms\n",
       "[1,]          146.2588          85.96742          159.7288          226.0622\n",
       "     sexocc_female_lgl sexocc_female_edu sexocc_female_ent sexocc_female_med\n",
       "[1,]          114.2672          773.1747          230.1531          517.8962\n",
       "     sexocc_female_med.tech sexocc_female_hls sexocc_female_prt\n",
       "[1,]               227.2817          507.4676          83.50255\n",
       "     sexocc_female_law.enf sexocc_female_eat sexocc_female_cln\n",
       "[1,]              66.15608          1059.857          369.2316\n",
       "     sexocc_female_prs sexocc_female_sal sexocc_female_off sexocc_female_fff\n",
       "[1,]          554.1967          1250.909           1509.55          118.3322\n",
       "     sexocc_female_con.ext sexocc_female_rpr sexocc_female_prd\n",
       "[1,]              78.86106          88.85358          307.6986\n",
       "     sexocc_female_trn sexocc_female_trn.mat sexnaics_male_agr_ext\n",
       "[1,]          126.7025              276.1209              92.93706\n",
       "     sexnaics_male_con sexnaics_male_mfg sexnaics_male_whl sexnaics_male_ret\n",
       "[1,]          955.1316          753.6368          330.3258          1589.353\n",
       "     sexnaics_male_utl_trn sexnaics_male_inf sexnaics_male_fin\n",
       "[1,]              578.3945           279.905           443.004\n",
       "     sexnaics_male_prf sexnaics_male_edu_med_sca sexnaics_male_ent\n",
       "[1,]          1123.194                  1491.594           1419.68\n",
       "     sexnaics_male_srv sexnaics_male_adm sexnaics_female_agr_ext\n",
       "[1,]           336.804          261.7086                117.2753\n",
       "     sexnaics_female_con sexnaics_female_mfg sexnaics_female_whl\n",
       "[1,]            146.2662            326.1315            183.1801\n",
       "     sexnaics_female_ret sexnaics_female_utl_trn sexnaics_female_inf\n",
       "[1,]            1311.636                307.4473            244.1293\n",
       "     sexnaics_female_fin sexnaics_female_prf sexnaics_female_edu_med_sca\n",
       "[1,]            491.3887            881.0562                    3189.926\n",
       "     sexnaics_female_ent sexnaics_female_srv sexnaics_female_adm\n",
       "[1,]            1573.788            343.8364             197.792\n",
       "     sch_male_pre_public sch_male_pre_private sch_male_kind_public\n",
       "[1,]            204.2886             134.4112             208.1282\n",
       "     sch_male_kind_private sch_male_01.04_public sch_male_01.04_private\n",
       "[1,]              78.53586              910.9894               123.2731\n",
       "     sch_male_05.08_public sch_male_05.08_private sch_male_09.12_public\n",
       "[1,]              517.8518               125.5125              751.8482\n",
       "     sch_male_09.12_private sch_male_undergrad_public\n",
       "[1,]                 111.03                  5632.612\n",
       "     sch_male_undergrad_private sch_male_grad.prof_public\n",
       "[1,]                   118.1327                  381.7001\n",
       "     sch_male_grad.prof_private sch_female_pre_public sch_female_pre_private\n",
       "[1,]                    83.4619               153.125               112.6228\n",
       "     sch_female_kind_public sch_female_kind_private sch_female_01.04_public\n",
       "[1,]               237.7177                65.68675                825.5541\n",
       "     sch_female_01.04_private sch_female_05.08_public sch_female_05.08_private\n",
       "[1,]                 140.8302                538.9159                 114.7883\n",
       "     sch_female_09.12_public sch_female_09.12_private\n",
       "[1,]                670.8881                 129.1636\n",
       "     sch_female_undergrad_public sch_female_undergrad_private\n",
       "[1,]                    5844.565                      154.581\n",
       "     sch_female_grad.prof_public sch_female_grad.prof_private grade_preschl\n",
       "[1,]                    439.8112                     94.86609      460.9085\n",
       "     grade_kind grade_1st grade_2nd grade_3rd grade_4th grade_5th grade_6th\n",
       "[1,]    436.622  441.4852   420.665  356.1497  532.3602  259.4728  365.4807\n",
       "     grade_7th grade_8th grade_9th grade_10th grade_11th grade_12th\n",
       "[1,]  227.0526  283.3603  469.9144   383.7954   350.9945   365.5325\n",
       "     grade_undergrad grade_grad cmt_mins_L10 cmt_mins_10.14 cmt_mins_15.19\n",
       "[1,]        12559.61   846.4002     2605.175       3389.876       4004.065\n",
       "     cmt_mins_20.24 cmt_mins_25.29 cmt_mins_30.34 cmt_mins_35.44 cmt_mins_45.59\n",
       "[1,]       3498.567       1162.377       2295.784       560.9002       539.4259\n",
       "     cmt_mins_GE60 travel_car_truck_van veh_occ_drove_alone veh_occ_carpooled\n",
       "[1,]      452.9966             16729.63            15212.81          2112.893\n",
       "     travel_public_transportation travel_taxicab travel_motorcycle\n",
       "[1,]                     468.4657       67.47166          63.48796\n",
       "     travel_bicycle travel_walked travel_other travel_wfh txv_own_no_vehicle\n",
       "[1,]       109.1232      1276.256     159.2594   809.1906            221.964\n",
       "     txv_own_01_vehicle txv_own_02_vehicle txv_own_03_vehicle\n",
       "[1,]           1428.845           1714.079           803.9985\n",
       "     txv_own_04_vehicle txv_own_GE05_vehicle txv_rent_no_vehicle\n",
       "[1,]           241.8233             135.1059            1113.925\n",
       "     txv_rent_01_vehicle txv_rent_02_vehicle txv_rent_03_vehicle\n",
       "[1,]                3366            2061.271            561.9793\n",
       "     txv_rent_04_vehicle txv_rent_GE05_vehicle\n",
       "[1,]            236.7014              127.4526\n",
       "\n",
       "$lv1\n",
       "            population group_quarters_pop housing_units       occhu\n",
       "47093000100   19042.32         3920.51071   2484.825528 4471.503404\n",
       "47093000800  108960.19        22912.20517   1243.151856 6341.774374\n",
       "47093000901   33037.76        33037.75834      9.238643    9.238643\n",
       "47093000902  508468.69       425468.72257    533.624043  402.435306\n",
       "47093001400   48963.33           53.21459   3920.510712 4152.215889\n",
       "47093001500   56496.52         3335.15027   2191.036668 4390.572888\n",
       "            civ_noninst_pop male_hours_GE35 male_hours_15.34 male_hours_1.14\n",
       "47093000100        15078.94        6835.118        4635.5817       1200.6541\n",
       "47093000800        99925.17       14781.829       18708.2529       1915.7251\n",
       "47093000901        33037.76        2134.496        3060.2082       3265.3061\n",
       "47093000902       508468.69        9939.302       27139.8084       6734.9710\n",
       "47093001400        48963.33        6734.971         715.4405        106.7987\n",
       "47093001500        51967.37        7556.841         621.2064        310.7880\n",
       "            female_hours_GE35 female_hours_15.34 female_hours_1.14\n",
       "47093000100          4718.730           1969.309          178.8601\n",
       "47093000800         14341.700           7139.993          402.4353\n",
       "47093000901          2365.093          12106.688         4152.2159\n",
       "47093000902         14781.829          25173.825        11577.4984\n",
       "47093001400          3844.754           3060.208          195.4897\n",
       "47093001500          8650.696           3621.918         1117.8759\n",
       "            emp_stat_employed emp_stat_unemp emp_stat_mil emp_stat_not.in.force\n",
       "47093000100          17082.25       683.2901     53.21459               8094.53\n",
       "47093000800          38078.36     17723.7830   1420.53381              26147.58\n",
       "47093000901          12375.72      1158.8954     53.21459              29387.76\n",
       "47093000902         117551.02      1038.0540     53.21459             181077.41\n",
       "47093001400          14196.47      1915.7251     53.21459              17401.54\n",
       "47093001500          18874.92      2927.1718     53.21459               8094.53\n",
       "            sexcw_male_private sexcw_male_self.emp_inc sexcw_male_non.prof\n",
       "47093000100           9342.486                72.43096          1466.72703\n",
       "47093000800          27744.016                53.21459            72.43096\n",
       "47093000901           2545.801                53.21459           133.40601\n",
       "47093000902           9342.486                53.21459          4152.21589\n",
       "47093001400           4471.503                53.21459            53.21459\n",
       "47093001500           6438.965               230.96608          1513.65933\n",
       "            sexcw_male_local.gov sexcw_male_st.gov sexcw_male_fed.gov\n",
       "47093000100            195.48969         505.90811           62.45323\n",
       "47093000800           2607.51471         961.18846           94.60371\n",
       "47093000901             53.21459        1375.07968           53.21459\n",
       "47093000902            402.43531        1708.77948           62.45323\n",
       "47093001400             53.21459          53.21459           53.21459\n",
       "47093001500           3997.00668         212.85834           72.43096\n",
       "            sexcw_male_self.emp_non.inc sexcw_male_wo.pay sexcw_female_private\n",
       "47093000100                  402.435306          53.21459             3844.754\n",
       "47093000800                 2365.092710          53.21459            15379.015\n",
       "47093000901                    9.238643          53.21459             5960.403\n",
       "47093000902                  427.194871          53.21459            37369.943\n",
       "47093001400                  310.787964          53.21459             7451.520\n",
       "47093001500                 1658.890808         355.13345             9225.340\n",
       "            sexcw_female_self.emp_inc sexcw_female_non.prof\n",
       "47093000100                 212.85834            1759.40725\n",
       "47093000800                  53.21459             816.32653\n",
       "47093000901                  53.21459             147.81829\n",
       "47093000902                  53.21459            6245.32294\n",
       "47093001400                  53.21459              53.21459\n",
       "47093001500                  94.60371             781.95878\n",
       "            sexcw_female_local.gov sexcw_female_st.gov sexcw_female_fed.gov\n",
       "47093000100              119.73282           1330.3646            195.48969\n",
       "47093000800              748.33012            533.6240             53.21459\n",
       "47093000901              310.78796           1243.1519             53.21459\n",
       "47093000902               53.21459           1117.8759             53.21459\n",
       "47093001400              106.79872            621.2064             53.21459\n",
       "47093001500             2545.80057            851.4334            378.41483\n",
       "            sexcw_female_self.emp_non.inc sexcw_female_wo.pay sexocc_male_mgmt\n",
       "47093000100                    562.079064            53.21459       1513.65933\n",
       "47093000800                    816.326531            53.21459         53.21459\n",
       "47093000901                      9.238643            53.21459         53.21459\n",
       "47093000902                     53.214586            53.21459         53.21459\n",
       "47093001400                     53.214586            53.21459        478.93127\n",
       "47093001500                   1158.895428            53.21459        781.95878\n",
       "            sexocc_male_bus.fin sexocc_male_cmp sexocc_male_eng sexocc_male_sci\n",
       "47093000100           816.32653       289.72386     1420.533809       212.85834\n",
       "47093000800            94.60371       106.79872       53.214586        83.14779\n",
       "47093000901            53.21459       133.40601       53.214586        53.21459\n",
       "47093000902           427.19487      4074.24174        1.478183        53.21459\n",
       "47093001400            53.21459        53.21459       53.214586        53.21459\n",
       "47093001500           133.40601       427.19487      269.398841        36.95457\n",
       "            sexocc_male_cms sexocc_male_lgl sexocc_male_edu sexocc_male_ent\n",
       "47093000100        62.45323       230.96608      1038.05397       505.90811\n",
       "47093000800        53.21459        53.21459        53.21459       178.86014\n",
       "47093000901        53.21459        53.21459       133.40601        53.21459\n",
       "47093000902        29.93320        53.21459        29.93320        53.21459\n",
       "47093001400        53.21459        53.21459        53.21459        53.21459\n",
       "47093001500        53.21459        53.21459       781.95878       269.39884\n",
       "            sexocc_male_med sexocc_male_med.tech sexocc_male_hls\n",
       "47093000100       119.73282             53.21459       106.79872\n",
       "47093000800       106.79872             53.21459        53.21459\n",
       "47093000901        53.21459             53.21459        53.21459\n",
       "47093000902        53.21459            402.43531        23.65093\n",
       "47093001400        53.21459             53.21459        36.95457\n",
       "47093001500        53.21459            212.85834      1117.87585\n",
       "            sexocc_male_prt sexocc_male_law.enf sexocc_male_eat sexocc_male_cln\n",
       "47093000100        44.71503            53.21459      3265.30612        53.21459\n",
       "47093000800       402.43531            53.21459       562.07906      3265.30612\n",
       "47093000901       269.39884            53.21459      1609.74123        53.21459\n",
       "47093000902      1759.40725            53.21459      2078.69476        13.30365\n",
       "47093001400        53.21459            53.21459        72.43096      1561.33073\n",
       "47093001500       212.85834            53.21459       781.95878      3920.51071\n",
       "            sexocc_male_prs sexocc_male_sal sexocc_male_off sexocc_male_fff\n",
       "47093000100       621.20638       1513.6593       1117.8759        53.21459\n",
       "47093000800        53.21459       5321.4586       2191.0367        53.21459\n",
       "47093000901       133.40601        887.2793       1117.8759        53.21459\n",
       "47093000902       402.43531        621.2064       4887.2424        53.21459\n",
       "47093001400        53.21459        212.8583        106.7987        53.21459\n",
       "47093001500       269.39884        162.9697       1658.8908        53.21459\n",
       "            sexocc_male_con.ext sexocc_male_rpr sexocc_male_prd sexocc_male_trn\n",
       "47093000100            53.21459        53.21459       816.32653        53.21459\n",
       "47093000800          1466.72703       332.59116      5774.15212       816.32653\n",
       "47093000901            53.21459        53.21459        53.21459        53.21459\n",
       "47093000902            62.45323       106.79872        23.65093        13.30365\n",
       "47093001400          2669.96794        83.14779        36.95457        62.45323\n",
       "47093001500          2134.49617        53.21459       452.69353      1420.53381\n",
       "            sexocc_male_trn.mat sexocc_female_mgmt sexocc_female_bus.fin\n",
       "47093000100           53.214586         2023.63245             289.72386\n",
       "47093000800          562.079064          715.44054              36.95457\n",
       "47093000901            9.238643          269.39884              53.21459\n",
       "47093000902          147.818294         1158.89543             133.40601\n",
       "47093001400         1038.053972          478.93127              53.21459\n",
       "47093001500           83.147791           53.21459             355.13345\n",
       "            sexocc_female_cmp sexocc_female_eng sexocc_female_sci\n",
       "47093000100         378.41483         621.20638         178.86014\n",
       "47093000800          53.21459          53.21459          53.21459\n",
       "47093000901          53.21459          53.21459          53.21459\n",
       "47093000902          53.21459          53.21459          53.21459\n",
       "47093001400          53.21459          53.21459          53.21459\n",
       "47093001500         133.40601          53.21459          94.60371\n",
       "            sexocc_female_cms sexocc_female_lgl sexocc_female_edu\n",
       "47093000100         53.214586         249.81292        1466.72703\n",
       "47093000800        478.931274          36.95457         249.81292\n",
       "47093000901         53.214586          53.21459          53.21459\n",
       "47093000902          1.478183          53.21459          72.43096\n",
       "47093001400        923.864340          53.21459          53.21459\n",
       "47093001500        816.326531          53.21459        1810.77411\n",
       "            sexocc_female_ent sexocc_female_med sexocc_female_med.tech\n",
       "47093000100       1117.875851         249.81292              119.73282\n",
       "47093000800       1038.053972         683.29007              378.41483\n",
       "47093000901          9.238643          53.21459              147.81829\n",
       "47093000902       1200.654096          53.21459               44.71503\n",
       "47093001400         53.214586          53.21459               53.21459\n",
       "47093001500        162.969670         748.33012              591.27318\n",
       "            sexocc_female_hls sexocc_female_prt sexocc_female_law.enf\n",
       "47093000100          94.60371         83.147791              53.21459\n",
       "47093000800        2023.63245         53.214586              53.21459\n",
       "47093000901         269.39884         53.214586              53.21459\n",
       "47093000902        4074.24174          1.478183              53.21459\n",
       "47093001400         119.73282         53.214586              53.21459\n",
       "47093001500         427.19487         53.214586              53.21459\n",
       "            sexocc_female_eat sexocc_female_cln sexocc_female_prs\n",
       "47093000100          53.21459          53.21459          83.14779\n",
       "47093000800        1609.74123         178.86014        1513.65933\n",
       "47093000901        1969.30923          29.93320         427.19487\n",
       "47093000902        4718.72950         999.25167         119.73282\n",
       "47093001400        4074.24174         402.43531          53.21459\n",
       "47093001500        2134.49617        3127.83511         230.96608\n",
       "            sexocc_female_sal sexocc_female_off sexocc_female_fff\n",
       "47093000100         289.72386          310.7880          53.21459\n",
       "47093000800        2607.51471         3549.1172          53.21459\n",
       "47093000901        2191.03667          923.8643          53.21459\n",
       "47093000902        2248.31626         7037.6290          53.21459\n",
       "47093001400          94.60371          162.9697         178.86014\n",
       "47093001500        1609.74123         1561.3307          53.21459\n",
       "            sexocc_female_con.ext sexocc_female_rpr sexocc_female_prd\n",
       "47093000100              53.21459          53.21459         106.79872\n",
       "47093000800              53.21459          53.21459         289.72386\n",
       "47093000901              53.21459          53.21459          53.21459\n",
       "47093000902              53.21459          53.21459         355.13345\n",
       "47093001400              62.45323          53.21459         355.13345\n",
       "47093001500              53.21459          44.71503          53.21459\n",
       "            sexocc_female_trn sexocc_female_trn.mat sexnaics_male_agr_ext\n",
       "47093000100          53.21459             119.73282             53.214586\n",
       "47093000800          83.14779             119.73282             53.214586\n",
       "47093000901          53.21459             147.81829             53.214586\n",
       "47093000902          53.21459             591.27318              1.478183\n",
       "47093001400          53.21459             452.69353             53.214586\n",
       "47093001500          53.21459              53.21459             53.214586\n",
       "            sexnaics_male_con sexnaics_male_mfg sexnaics_male_whl\n",
       "47093000100          53.21459       1810.774106         289.72386\n",
       "47093000800        1466.72703        562.079064         427.19487\n",
       "47093000901          53.21459          9.238643          53.21459\n",
       "47093000902          53.21459         13.303646          53.21459\n",
       "47093001400        2669.96794         53.214586        1038.05397\n",
       "47093001500        2365.09271        683.290066          83.14779\n",
       "            sexnaics_male_ret sexnaics_male_utl_trn sexnaics_male_inf\n",
       "47093000100          651.8787             212.85834        1038.05397\n",
       "47093000800        18542.3268             212.85834          53.21459\n",
       "47093000901          289.7239              53.21459          53.21459\n",
       "47093000902         1759.4072              53.21459          53.21459\n",
       "47093001400          230.9661             106.79872         533.62404\n",
       "47093001500          715.4405            1243.15186          29.93320\n",
       "            sexnaics_male_fin sexnaics_male_prf sexnaics_male_edu_med_sca\n",
       "47093000100        781.958777         1862.8801                1759.40725\n",
       "47093000800         44.715034         3405.7335                2248.31626\n",
       "47093000901         53.214586          133.4060                1609.74123\n",
       "47093000902          3.325912         4074.2417                2023.63245\n",
       "47093001400         62.453229         1561.3307                  36.95457\n",
       "47093001500        533.624043          355.1335                8314.77906\n",
       "            sexnaics_male_ent sexnaics_male_srv sexnaics_male_adm\n",
       "47093000100         4635.5817          53.21459          23.65093\n",
       "47093000800         2078.6948          29.93320        1466.72703\n",
       "47093000901         1658.8908          53.21459          53.21459\n",
       "47093000902         6635.5632          53.21459          62.45323\n",
       "47093001400          212.8583         178.86014          53.21459\n",
       "47093001500         4390.5729         119.73282         887.27931\n",
       "            sexnaics_female_agr_ext sexnaics_female_con sexnaics_female_mfg\n",
       "47093000100                53.21459            83.14779           94.603708\n",
       "47093000800                53.21459            53.21459           53.214586\n",
       "47093000901                53.21459            53.21459            9.238643\n",
       "47093000902                72.43096            53.21459         1561.330734\n",
       "47093001400               178.86014            62.45323          452.693526\n",
       "47093001500                53.21459            53.21459           53.214586\n",
       "            sexnaics_female_whl sexnaics_female_ret sexnaics_female_utl_trn\n",
       "47093000100            62.45323            621.2064                44.71503\n",
       "47093000800            53.21459           2023.6324                53.21459\n",
       "47093000901            53.21459           2134.4962                53.21459\n",
       "47093000902           147.81829           7556.8408                53.21459\n",
       "47093001400            53.21459            591.2732                53.21459\n",
       "47093001500            53.21459           1609.7412               162.96967\n",
       "            sexnaics_female_inf sexnaics_female_fin sexnaics_female_prf\n",
       "47093000100            53.21459          1200.65410          1561.33073\n",
       "47093000800            53.21459          3621.91776          2248.31626\n",
       "47093000901           310.78796            53.21459            53.21459\n",
       "47093000902            53.21459           212.85834            53.21459\n",
       "47093001400            53.21459           178.86014           505.90811\n",
       "47093001500           162.96967           427.19487           961.18846\n",
       "            sexnaics_female_edu_med_sca sexnaics_female_ent sexnaics_female_srv\n",
       "47093000100                   3477.0558            621.2064            83.14779\n",
       "47093000800                   3844.7538           2078.6948           178.86014\n",
       "47093000901                   1375.0797           3265.3061           178.86014\n",
       "47093000902                   6341.7744           7877.2369          4074.24174\n",
       "47093001400                    961.1885           4074.2417           212.85834\n",
       "47093001500                   3405.7335           5233.1372           961.18846\n",
       "            sexnaics_female_adm sch_male_pre_public sch_male_pre_private\n",
       "47093000100           212.85834            53.21459             53.21459\n",
       "47093000800           533.62404            53.21459             53.21459\n",
       "47093000901           133.40601            53.21459             53.21459\n",
       "47093000902            72.43096            53.21459             53.21459\n",
       "47093001400           106.79872           715.44054             53.21459\n",
       "47093001500           249.81292           119.73282             53.21459\n",
       "            sch_male_kind_public sch_male_kind_private sch_male_01.04_public\n",
       "47093000100             53.21459              53.21459             119.73282\n",
       "47093000800            683.29007              53.21459            1420.53381\n",
       "47093000901             53.21459              53.21459              53.21459\n",
       "47093000902             53.21459              53.21459              53.21459\n",
       "47093001400             53.21459              53.21459            1561.33073\n",
       "47093001500            269.39884              83.14779             748.33012\n",
       "            sch_male_01.04_private sch_male_05.08_public sch_male_05.08_private\n",
       "47093000100               53.21459              53.21459               83.14779\n",
       "47093000800               53.21459             178.86014               53.21459\n",
       "47093000901               53.21459              53.21459               53.21459\n",
       "47093000902               53.21459              53.21459               53.21459\n",
       "47093001400             1038.05397             355.13345             1038.05397\n",
       "47093001500               53.21459             533.62404               53.21459\n",
       "            sch_male_09.12_public sch_male_09.12_private\n",
       "47093000100             683.29007               53.21459\n",
       "47093000800             533.62404               53.21459\n",
       "47093000901              53.21459               53.21459\n",
       "47093000902              53.21459               53.21459\n",
       "47093001400             621.20638              355.13345\n",
       "47093001500              36.95457               53.21459\n",
       "            sch_male_undergrad_public sch_male_undergrad_private\n",
       "47093000100                3695.45736                   53.21459\n",
       "47093000800               47893.12737                   53.21459\n",
       "47093000901               10060.88266                  133.40601\n",
       "47093000902              142053.38088                 1200.65410\n",
       "47093001400                  62.45323                   29.93320\n",
       "47093001500                 748.33012                   53.21459\n",
       "            sch_male_grad.prof_public sch_male_grad.prof_private\n",
       "47093000100                 748.33012                   72.43096\n",
       "47093000800                 289.72386                  249.81292\n",
       "47093000901                 147.81829                   53.21459\n",
       "47093000902                  18.10774                   53.21459\n",
       "47093001400                  53.21459                   53.21459\n",
       "47093001500                 427.19487                   53.21459\n",
       "            sch_female_pre_public sch_female_pre_private sch_female_kind_public\n",
       "47093000100              53.21459               53.21459               53.21459\n",
       "47093000800              53.21459               53.21459               53.21459\n",
       "47093000901              53.21459               53.21459               53.21459\n",
       "47093000902              53.21459               53.21459               53.21459\n",
       "47093001400              53.21459               53.21459              402.43531\n",
       "47093001500             355.13345               53.21459              478.93127\n",
       "            sch_female_kind_private sch_female_01.04_public\n",
       "47093000100                53.21459                53.21459\n",
       "47093000800                53.21459               249.81292\n",
       "47093000901                53.21459                53.21459\n",
       "47093000902                53.21459                53.21459\n",
       "47093001400                53.21459               533.62404\n",
       "47093001500                53.21459              1375.07968\n",
       "            sch_female_01.04_private sch_female_05.08_public\n",
       "47093000100                 53.21459                53.21459\n",
       "47093000800                 53.21459               562.07906\n",
       "47093000901                 53.21459                53.21459\n",
       "47093000902                 53.21459                53.21459\n",
       "47093001400                562.07906               683.29007\n",
       "47093001500                 53.21459               851.43338\n",
       "            sch_female_05.08_private sch_female_09.12_public\n",
       "47093000100                 72.43096                53.21459\n",
       "47093000800                 53.21459               591.27318\n",
       "47093000901                 53.21459                53.21459\n",
       "47093000902                 53.21459                53.21459\n",
       "47093001400                 53.21459               478.93127\n",
       "47093001500                 53.21459              2134.49617\n",
       "            sch_female_09.12_private sch_female_undergrad_public\n",
       "47093000100                 53.21459                    378.4148\n",
       "47093000800                 53.21459                   9108.9328\n",
       "47093000901                 53.21459                  13908.2233\n",
       "47093000902                 53.21459                 202363.2450\n",
       "47093001400                106.79872                    851.4334\n",
       "47093001500                 53.21459                   2023.6324\n",
       "            sch_female_undergrad_private sch_female_grad.prof_public\n",
       "47093000100                     53.21459                  3060.20824\n",
       "47093000800                    162.96967                    72.43096\n",
       "47093000901                    162.96967                    53.21459\n",
       "47093000902                    999.25167                    53.21459\n",
       "47093001400                     53.21459                    53.21459\n",
       "47093001500                     53.21459                   230.96608\n",
       "            sch_female_grad.prof_private grade_preschl grade_kind  grade_1st\n",
       "47093000100                     53.21459      53.21459   53.21459   53.21459\n",
       "47093000800                     29.93320      53.21459  683.29007  402.43531\n",
       "47093000901                     53.21459      53.21459   53.21459   53.21459\n",
       "47093000902                     53.21459      53.21459   53.21459   53.21459\n",
       "47093001400                     53.21459     715.44054  402.43531 1862.88005\n",
       "47093001500                     53.21459     427.19487  851.43338 1243.15186\n",
       "            grade_2nd  grade_3rd grade_4th grade_5th grade_6th grade_7th\n",
       "47093000100  53.21459  119.73282  53.21459 310.78796  53.21459  53.21459\n",
       "47093000800 923.86434  378.41483  53.21459 178.86014 230.96608 378.41483\n",
       "47093000901  53.21459   53.21459  53.21459  53.21459  53.21459  53.21459\n",
       "47093000902  53.21459   53.21459  53.21459  53.21459  53.21459  53.21459\n",
       "47093001400  53.21459 1286.38871 178.86014 851.43338 178.86014 452.69353\n",
       "47093001500 212.85834   53.21459 355.13345 178.86014 332.59116 212.85834\n",
       "            grade_8th grade_9th grade_10th grade_11th grade_12th\n",
       "47093000100  53.21459  53.21459   53.21459   53.21459  683.29007\n",
       "47093000800  53.21459 332.59116  310.78796   53.21459  533.62404\n",
       "47093000901  53.21459  53.21459   53.21459   53.21459   53.21459\n",
       "47093000902  53.21459  53.21459   53.21459   53.21459   53.21459\n",
       "47093001400 289.72386 715.44054  533.62404  162.96967  119.73282\n",
       "47093001500 591.27318 378.41483  230.96608   29.93320 1077.59537\n",
       "            grade_undergrad grade_grad cmt_mins_L10 cmt_mins_10.14\n",
       "47093000100        3695.457 3997.00668    4471.5034       2424.590\n",
       "47093000800       36204.026  887.27931    2607.5147       9578.995\n",
       "47093000901       33704.049  147.81829    3695.4574       1759.407\n",
       "47093000902      447150.340   18.10774    5682.1352       9939.302\n",
       "47093001400        1038.054   53.21459     505.9081       1200.654\n",
       "47093001500        4230.929  851.43338    3127.8351       7243.096\n",
       "            cmt_mins_15.19 cmt_mins_20.24 cmt_mins_25.29 cmt_mins_30.34\n",
       "47093000100      3844.7538       2484.826     2545.80057       887.2793\n",
       "47093000800     12511.3404       9460.371     6734.97104      2023.6324\n",
       "47093000901       923.8643       1759.407      378.41483      1117.8759\n",
       "47093000902      4802.6164      16452.546      230.96608      5410.5191\n",
       "47093001400      6149.6106       1466.727       53.21459      2607.5147\n",
       "47093001500      6536.8945      10554.596     2733.16026      1038.0540\n",
       "            cmt_mins_35.44 cmt_mins_45.59 cmt_mins_GE60 travel_car_truck_van\n",
       "47093000100      999.25167      816.32653     212.85834            10183.202\n",
       "47093000800     8094.52980      999.25167     533.62404            41968.940\n",
       "47093000901       53.21459      402.43531      53.21459             5866.908\n",
       "47093000902       53.21459       53.21459      62.45323            31078.796\n",
       "47093001400       53.21459      310.78796     402.43531            11973.282\n",
       "47093001500     1200.65410      887.27931    1077.59537            19548.969\n",
       "            veh_occ_drove_alone veh_occ_carpooled travel_public_transportation\n",
       "47093000100            8993.265         478.93127                   427.194871\n",
       "47093000800           31725.132        4635.58171                   427.194871\n",
       "47093000901            5960.403          29.93320                   533.624043\n",
       "47093000902           30864.829          53.21459                    53.214586\n",
       "47093001400            8204.285        4553.17301                   478.931274\n",
       "47093001500           14930.017        6054.63734                     1.478183\n",
       "            travel_taxicab travel_motorcycle travel_bicycle travel_walked\n",
       "47093000100       53.21459          53.21459      715.44054    7451.52022\n",
       "47093000800       53.21459          53.21459       36.95457     591.27318\n",
       "47093000901       53.21459          53.21459       53.21459    2365.09271\n",
       "47093000902       53.21459          53.21459       53.21459   39033.26835\n",
       "47093001400       53.21459          53.21459       53.21459      53.21459\n",
       "47093001500       53.21459          53.21459       62.45323     478.93127\n",
       "            travel_other travel_wfh txv_own_no_vehicle txv_own_01_vehicle\n",
       "47093000100     53.21459 1117.87585           53.21459         1609.74123\n",
       "47093000800   1420.53381   53.21459          106.79872         1513.65933\n",
       "47093000901     53.21459 1375.07968           53.21459           53.21459\n",
       "47093000902     53.21459 8094.52980           53.21459           53.21459\n",
       "47093001400     29.93320   62.45323          147.81829          505.90811\n",
       "47093001500   1375.07968  310.78796         1286.38871         2191.03667\n",
       "            txv_own_02_vehicle txv_own_03_vehicle txv_own_04_vehicle\n",
       "47093000100         2078.69476           18.10774           53.21459\n",
       "47093000800          851.43338          478.93127           53.21459\n",
       "47093000901           53.21459           53.21459           53.21459\n",
       "47093000902           53.21459           53.21459           53.21459\n",
       "47093001400          748.33012          562.07906          106.79872\n",
       "47093001500         2993.32046         2797.09168          533.62404\n",
       "            txv_own_GE05_vehicle txv_rent_no_vehicle txv_rent_01_vehicle\n",
       "47093000100             53.21459          1810.77411         5590.857438\n",
       "47093000800            478.93127          2424.58957         4972.607422\n",
       "47093000901             53.21459            53.21459            9.238643\n",
       "47093000902             53.21459            53.21459          230.966085\n",
       "47093001400             53.21459          3196.20107         2669.967942\n",
       "47093001500             53.21459           781.95878         2191.036668\n",
       "            txv_rent_02_vehicle txv_rent_03_vehicle txv_rent_04_vehicle\n",
       "47093000100          1243.15186            72.43096           133.40601\n",
       "47093000800          4471.50340          3769.73605          1561.33073\n",
       "47093000901            53.21459            53.21459            53.21459\n",
       "47093000902            53.21459            18.10774            53.21459\n",
       "47093001400          1286.38871           478.93127            53.21459\n",
       "47093001500          2134.49617          1862.88005            53.21459\n",
       "            txv_rent_GE05_vehicle\n",
       "47093000100              53.21459\n",
       "47093000800              53.21459\n",
       "47093000901              53.21459\n",
       "47093000902             212.85834\n",
       "47093001400              53.21459\n",
       "47093001500              53.21459\n",
       "\n",
       "$lv2\n",
       "             population group_quarters_pop housing_units       occhu\n",
       "470930001001   19042.32         3920.51071   2484.825528 4471.503404\n",
       "470930008001   41225.04           83.14779   5866.908103 5233.137166\n",
       "470930008002   20408.16         2797.09168   2733.160263 2191.036668\n",
       "470930008003   74169.31        18708.25288   4152.215889 4152.215889\n",
       "470930009011   33037.76        33037.75834      9.238643    9.238643\n",
       "470930009021  469370.76       389011.92709    533.624043  378.414834\n",
       "             civ_noninst_pop male_hours_GE35 male_hours_15.34 male_hours_1.14\n",
       "470930001001        15078.94       6835.1179         4635.582      1200.65410\n",
       "470930008001        39515.16       7769.6991         5866.908      1915.72509\n",
       "470930008002        17082.25        591.2732          133.406        53.21459\n",
       "470930008003        74169.31       6245.3229        13061.224        53.21459\n",
       "470930009011        33037.76       2134.4962         3060.208      3265.30612\n",
       "470930009021       469370.76        178.8601        16608.864       289.72386\n",
       "             female_hours_GE35 female_hours_15.34 female_hours_1.14\n",
       "470930001001          4718.730          1969.3092         178.86014\n",
       "470930008001          3405.734          4718.7295          62.45323\n",
       "470930008002          2248.316          1375.0797          53.21459\n",
       "470930008003          8314.779           683.2901         310.78796\n",
       "470930009011          2365.093         12106.6879        4152.21589\n",
       "470930009021         10805.887         21108.8220        6635.56323\n",
       "             emp_stat_employed emp_stat_unemp emp_stat_mil\n",
       "470930001001         17082.252      683.29007     53.21459\n",
       "470930008001         17401.539     2545.80057   1420.53381\n",
       "470930008002          3695.457      332.59116     53.21459\n",
       "470930008003         34376.992    15682.04285     53.21459\n",
       "470930009011         12375.717     1158.89543     53.21459\n",
       "470930009021        106169.012       18.10774     53.21459\n",
       "             emp_stat_not.in.force sexcw_male_private sexcw_male_self.emp_inc\n",
       "470930001001              8094.530          9342.4857                72.43096\n",
       "470930008001             10060.883          5233.1372                53.21459\n",
       "470930008002              3196.201           651.8787                53.21459\n",
       "470930008003             17562.292         25755.8596                53.21459\n",
       "470930009011             29387.755          2545.8006                53.21459\n",
       "470930009021            146672.703          4230.9291                53.21459\n",
       "             sexcw_male_non.prof sexcw_male_local.gov sexcw_male_st.gov\n",
       "470930001001          1466.72703            195.48969         505.90811\n",
       "470930008001            53.21459           1810.77411         651.87868\n",
       "470930008002            62.45323             53.21459         133.40601\n",
       "470930008003            62.45323            851.43338         106.79872\n",
       "470930009011           133.40601             53.21459        1375.07968\n",
       "470930009021          4074.24174             53.21459          83.14779\n",
       "             sexcw_male_fed.gov sexcw_male_self.emp_non.inc sexcw_male_wo.pay\n",
       "470930001001           62.45323                  402.435306          53.21459\n",
       "470930008001           94.60371                 1117.875851          53.21459\n",
       "470930008002           53.21459                   53.214586          53.21459\n",
       "470930008003           53.21459                 1286.388707          53.21459\n",
       "470930009011           53.21459                    9.238643          53.21459\n",
       "470930009021           53.21459                   53.214586          53.21459\n",
       "             sexcw_female_private sexcw_female_self.emp_inc\n",
       "470930001001             3844.754                 212.85834\n",
       "470930008001             6054.637                  53.21459\n",
       "470930008002             1915.725                  53.21459\n",
       "470930008003             7985.514                  53.21459\n",
       "470930009011             5960.403                  53.21459\n",
       "470930009021            33927.624                  53.21459\n",
       "             sexcw_female_non.prof sexcw_female_local.gov sexcw_female_st.gov\n",
       "470930001001             1759.4072              119.73282          1330.36465\n",
       "470930008001              249.8129              289.72386            62.45323\n",
       "470930008002              230.9661              452.69353           162.96967\n",
       "470930008003              651.8787               53.21459           249.81292\n",
       "470930009011              147.8183              310.78796          1243.15186\n",
       "470930009021             5145.5548               53.21459            53.21459\n",
       "             sexcw_female_fed.gov sexcw_female_self.emp_non.inc\n",
       "470930001001            195.48969                    562.079064\n",
       "470930008001             53.21459                     94.603708\n",
       "470930008002             53.21459                     36.954574\n",
       "470930008003             53.21459                    715.440545\n",
       "470930009011             53.21459                      9.238643\n",
       "470930009021             53.21459                     53.214586\n",
       "             sexcw_female_wo.pay sexocc_male_mgmt sexocc_male_bus.fin\n",
       "470930001001            53.21459       1513.65933           816.32653\n",
       "470930008001            53.21459         53.21459            53.21459\n",
       "470930008002            53.21459         53.21459            29.93320\n",
       "470930008003            53.21459         53.21459            62.45323\n",
       "470930009011            53.21459         53.21459            53.21459\n",
       "470930009021            53.21459         53.21459            18.10774\n",
       "             sexocc_male_cmp sexocc_male_eng sexocc_male_sci sexocc_male_cms\n",
       "470930001001       289.72386      1420.53381       212.85834        62.45323\n",
       "470930008001        44.71503        53.21459        53.21459        53.21459\n",
       "470930008002        53.21459        53.21459        83.14779        53.21459\n",
       "470930008003        53.21459        53.21459        53.21459        53.21459\n",
       "470930009011       133.40601        53.21459        53.21459        53.21459\n",
       "470930009021      4074.24174        53.21459        53.21459        29.93320\n",
       "             sexocc_male_lgl sexocc_male_edu sexocc_male_ent sexocc_male_med\n",
       "470930001001       230.96608      1038.05397       505.90811       119.73282\n",
       "470930008001        53.21459        53.21459        53.21459        53.21459\n",
       "470930008002        53.21459        53.21459        94.60371        53.21459\n",
       "470930008003        53.21459        53.21459        83.14779       106.79872\n",
       "470930009011        53.21459       133.40601        53.21459        53.21459\n",
       "470930009021        53.21459        29.93320        53.21459        53.21459\n",
       "             sexocc_male_med.tech sexocc_male_hls sexocc_male_prt\n",
       "470930001001             53.21459       106.79872        44.71503\n",
       "470930008001             53.21459        53.21459       427.19487\n",
       "470930008002             53.21459        53.21459        94.60371\n",
       "470930008003             53.21459        53.21459        53.21459\n",
       "470930009011             53.21459        53.21459       269.39884\n",
       "470930009021             53.21459        53.21459        53.21459\n",
       "             sexocc_male_law.enf sexocc_male_eat sexocc_male_cln\n",
       "470930001001            53.21459      3265.30612        53.21459\n",
       "470930008001            53.21459       452.69353        83.14779\n",
       "470930008002            53.21459        53.21459       332.59116\n",
       "470930008003            53.21459        83.14779      3127.83511\n",
       "470930009011            53.21459      1609.74123        53.21459\n",
       "470930009021            53.21459        36.95457        13.30365\n",
       "             sexocc_male_prs sexocc_male_sal sexocc_male_off sexocc_male_fff\n",
       "470930001001      621.206382      1513.65933      1117.87585        53.21459\n",
       "470930008001       53.214586      3920.51071      1243.15186        53.21459\n",
       "470930008002       53.214586        83.14779        53.21459        53.21459\n",
       "470930008003       53.214586      3196.20107      2927.17177        53.21459\n",
       "470930009011      133.406011       887.27931      1117.87585        53.21459\n",
       "470930009021        5.912732       195.48969      4074.24174        53.21459\n",
       "             sexocc_male_con.ext sexocc_male_rpr sexocc_male_prd\n",
       "470930001001            53.21459        53.21459      816.326531\n",
       "470930008001           230.96608        83.14779       94.603708\n",
       "470930008002            53.21459        53.21459       53.214586\n",
       "470930008003          1200.65410       249.81292     5682.135235\n",
       "470930009011            53.21459        53.21459       53.214586\n",
       "470930009021            53.21459        53.21459        9.238643\n",
       "             sexocc_male_trn sexocc_male_trn.mat sexocc_female_mgmt\n",
       "470930001001        53.21459           53.214586         2023.63245\n",
       "470930008001       591.27318          562.079064          621.20638\n",
       "470930008002        53.21459           53.214586           83.14779\n",
       "470930008003       427.19487           53.214586           53.21459\n",
       "470930009011        53.21459            9.238643          269.39884\n",
       "470930009021        53.21459           23.650927          195.48969\n",
       "             sexocc_female_bus.fin sexocc_female_cmp sexocc_female_eng\n",
       "470930001001             289.72386         378.41483         621.20638\n",
       "470930008001              53.21459          53.21459          53.21459\n",
       "470930008002              36.95457          53.21459          53.21459\n",
       "470930008003              53.21459          53.21459          53.21459\n",
       "470930009011              53.21459          53.21459          53.21459\n",
       "470930009021              53.21459          53.21459          53.21459\n",
       "             sexocc_female_sci sexocc_female_cms sexocc_female_lgl\n",
       "470930001001         178.86014          53.21459         249.81292\n",
       "470930008001          53.21459         133.40601          36.95457\n",
       "470930008002          53.21459         133.40601          53.21459\n",
       "470930008003          53.21459         195.48969          53.21459\n",
       "470930009011          53.21459          53.21459          53.21459\n",
       "470930009021          53.21459          53.21459          53.21459\n",
       "             sexocc_female_edu sexocc_female_ent sexocc_female_med\n",
       "470930001001        1466.72703       1117.875851         249.81292\n",
       "470930008001          62.45323         53.214586          36.95457\n",
       "470930008002          36.95457         53.214586         621.20638\n",
       "470930008003          94.60371       1038.053972          53.21459\n",
       "470930009011          53.21459          9.238643          53.21459\n",
       "470930009021          53.21459       1200.654096          53.21459\n",
       "             sexocc_female_med.tech sexocc_female_hls sexocc_female_prt\n",
       "470930001001              119.73282          94.60371          83.14779\n",
       "470930008001               53.21459        1158.89543          53.21459\n",
       "470930008002              378.41483         427.19487          53.21459\n",
       "470930008003               53.21459         651.87868          53.21459\n",
       "470930009011              147.81829         269.39884          53.21459\n",
       "470930009021               53.21459        4074.24174          53.21459\n",
       "             sexocc_female_law.enf sexocc_female_eat sexocc_female_cln\n",
       "470930001001              53.21459          53.21459          53.21459\n",
       "470930008001              53.21459        1609.74123          94.60371\n",
       "470930008002              53.21459          53.21459          83.14779\n",
       "470930008003              53.21459          53.21459          53.21459\n",
       "470930009011              53.21459        1969.30923          29.93320\n",
       "470930009021              53.21459        4310.38146          53.21459\n",
       "             sexocc_female_prs sexocc_female_sal sexocc_female_off\n",
       "470930001001          83.14779         289.72386          310.7880\n",
       "470930008001         212.85834        1862.88005          378.4148\n",
       "470930008002         816.32653          94.60371          355.1335\n",
       "470930008003         683.29007         715.44054         2927.1718\n",
       "470930009011         427.19487        2191.03667          923.8643\n",
       "470930009021          53.21459         591.27318         6149.6106\n",
       "             sexocc_female_fff sexocc_female_con.ext sexocc_female_rpr\n",
       "470930001001          53.21459              53.21459          53.21459\n",
       "470930008001          53.21459              53.21459          53.21459\n",
       "470930008002          53.21459              53.21459          53.21459\n",
       "470930008003          53.21459              53.21459          53.21459\n",
       "470930009011          53.21459              53.21459          53.21459\n",
       "470930009021          53.21459              53.21459          53.21459\n",
       "             sexocc_female_prd sexocc_female_trn sexocc_female_trn.mat\n",
       "470930001001         106.79872          53.21459             119.73282\n",
       "470930008001         289.72386          83.14779              53.21459\n",
       "470930008002          53.21459          53.21459              53.21459\n",
       "470930008003          53.21459          53.21459              62.45323\n",
       "470930009011          53.21459          53.21459             147.81829\n",
       "470930009021          53.21459          53.21459             591.27318\n",
       "             sexnaics_male_agr_ext sexnaics_male_con sexnaics_male_mfg\n",
       "470930001001             53.214586          53.21459       1810.774106\n",
       "470930008001             53.214586         230.96608        178.860136\n",
       "470930008002             53.214586          53.21459         53.214586\n",
       "470930008003             53.214586        1200.65410        332.591162\n",
       "470930009011             53.214586          53.21459          9.238643\n",
       "470930009021              1.478183          53.21459         53.214586\n",
       "             sexnaics_male_whl sexnaics_male_ret sexnaics_male_utl_trn\n",
       "470930001001         289.72386          651.8787             212.85834\n",
       "470930008001          53.21459         3844.7538             212.85834\n",
       "470930008002          53.21459          212.8583              53.21459\n",
       "470930008003         427.19487        18048.9833              53.21459\n",
       "470930009011          53.21459          289.7239              53.21459\n",
       "470930009021          53.21459          230.9661              53.21459\n",
       "             sexnaics_male_inf sexnaics_male_fin sexnaics_male_prf\n",
       "470930001001        1038.05397        781.958777         1862.8801\n",
       "470930008001          53.21459         53.214586          355.1335\n",
       "470930008002          53.21459         53.214586          402.4353\n",
       "470930008003          53.21459         44.715034         3127.8351\n",
       "470930009011          53.21459         53.214586          133.4060\n",
       "470930009021          53.21459          3.325912         4074.2417\n",
       "             sexnaics_male_edu_med_sca sexnaics_male_ent sexnaics_male_srv\n",
       "470930001001                 1759.4072        4635.58171          53.21459\n",
       "470930008001                  961.1885         478.93127          53.21459\n",
       "470930008002                  162.9697          44.71503          29.93320\n",
       "470930008003                 1038.0540        1330.36465          53.21459\n",
       "470930009011                 1609.7412        1658.89081          53.21459\n",
       "470930009021                  106.7987        4074.24174          53.21459\n",
       "             sexnaics_male_adm sexnaics_female_agr_ext sexnaics_female_con\n",
       "470930001001          23.65093                53.21459            83.14779\n",
       "470930008001        1466.72703                53.21459            53.21459\n",
       "470930008002          53.21459                53.21459            53.21459\n",
       "470930008003          53.21459                53.21459            53.21459\n",
       "470930009011          53.21459                53.21459            53.21459\n",
       "470930009021          53.21459                53.21459            53.21459\n",
       "             sexnaics_female_mfg sexnaics_female_whl sexnaics_female_ret\n",
       "470930001001           94.603708            62.45323           621.20638\n",
       "470930008001           53.214586            53.21459          1862.88005\n",
       "470930008002           53.214586            53.21459            94.60371\n",
       "470930008003           53.214586            53.21459           230.96608\n",
       "470930009011            9.238643            53.21459          2134.49617\n",
       "470930009021         1200.654096           147.81829          6835.11793\n",
       "             sexnaics_female_utl_trn sexnaics_female_inf sexnaics_female_fin\n",
       "470930001001                44.71503            53.21459          1200.65410\n",
       "470930008001                53.21459            53.21459           591.27318\n",
       "470930008002                53.21459            53.21459            53.21459\n",
       "470930008003                53.21459            53.21459          3196.20107\n",
       "470930009011                53.21459           310.78796            53.21459\n",
       "470930009021                53.21459            53.21459            53.21459\n",
       "             sexnaics_female_prf sexnaics_female_edu_med_sca\n",
       "470930001001          1561.33073                    3477.056\n",
       "470930008001           289.72386                    1759.407\n",
       "470930008002           212.85834                    1915.725\n",
       "470930008003          1969.30923                    1286.389\n",
       "470930009011            53.21459                    1375.080\n",
       "470930009021            53.21459                    4074.242\n",
       "             sexnaics_female_ent sexnaics_female_srv sexnaics_female_adm\n",
       "470930001001           621.20638            83.14779           212.85834\n",
       "470930008001          1708.77948            94.60371            53.21459\n",
       "470930008002            53.21459            62.45323           533.62404\n",
       "470930008003           310.78796            53.21459            53.21459\n",
       "470930009011          3265.30612           178.86014           133.40601\n",
       "470930009021          6341.77437          4074.24174            53.21459\n",
       "             sch_male_pre_public sch_male_pre_private sch_male_kind_public\n",
       "470930001001            53.21459             53.21459             53.21459\n",
       "470930008001            53.21459             53.21459             53.21459\n",
       "470930008002            53.21459             53.21459            683.29007\n",
       "470930008003            53.21459             53.21459             53.21459\n",
       "470930009011            53.21459             53.21459             53.21459\n",
       "470930009021            53.21459             53.21459             53.21459\n",
       "             sch_male_kind_private sch_male_01.04_public sch_male_01.04_private\n",
       "470930001001              53.21459             119.73282               53.21459\n",
       "470930008001              53.21459              53.21459               53.21459\n",
       "470930008002              53.21459            1420.53381               53.21459\n",
       "470930008003              53.21459              53.21459               53.21459\n",
       "470930009011              53.21459              53.21459               53.21459\n",
       "470930009021              53.21459              53.21459               53.21459\n",
       "             sch_male_05.08_public sch_male_05.08_private sch_male_09.12_public\n",
       "470930001001              53.21459               83.14779             683.29007\n",
       "470930008001              53.21459               53.21459              53.21459\n",
       "470930008002              53.21459               53.21459              53.21459\n",
       "470930008003             178.86014               53.21459             533.62404\n",
       "470930009011              53.21459               53.21459              53.21459\n",
       "470930009021              53.21459               53.21459              53.21459\n",
       "             sch_male_09.12_private sch_male_undergrad_public\n",
       "470930001001               53.21459                3695.45736\n",
       "470930008001               53.21459               38793.43317\n",
       "470930008002               53.21459                  83.14779\n",
       "470930008003               53.21459               27946.89628\n",
       "470930009011               53.21459               10060.88266\n",
       "470930009021               53.21459               96874.19739\n",
       "             sch_male_undergrad_private sch_male_grad.prof_public\n",
       "470930001001                   53.21459                 748.33012\n",
       "470930008001                   53.21459                  94.60371\n",
       "470930008002                   53.21459                  62.45323\n",
       "470930008003                   53.21459                 147.81829\n",
       "470930009011                  133.40601                 147.81829\n",
       "470930009021                   94.60371                  18.10774\n",
       "             sch_male_grad.prof_private sch_female_pre_public\n",
       "470930001001                   72.43096              53.21459\n",
       "470930008001                   53.21459              53.21459\n",
       "470930008002                   53.21459              53.21459\n",
       "470930008003                  249.81292              53.21459\n",
       "470930009011                   53.21459              53.21459\n",
       "470930009021                   53.21459              53.21459\n",
       "             sch_female_pre_private sch_female_kind_public\n",
       "470930001001               53.21459               53.21459\n",
       "470930008001               53.21459               53.21459\n",
       "470930008002               53.21459               53.21459\n",
       "470930008003               53.21459               53.21459\n",
       "470930009011               53.21459               53.21459\n",
       "470930009021               53.21459               53.21459\n",
       "             sch_female_kind_private sch_female_01.04_public\n",
       "470930001001                53.21459                53.21459\n",
       "470930008001                53.21459               249.81292\n",
       "470930008002                53.21459                53.21459\n",
       "470930008003                53.21459                53.21459\n",
       "470930009011                53.21459                53.21459\n",
       "470930009021                53.21459                53.21459\n",
       "             sch_female_01.04_private sch_female_05.08_public\n",
       "470930001001                 53.21459                53.21459\n",
       "470930008001                 53.21459                53.21459\n",
       "470930008002                 53.21459               562.07906\n",
       "470930008003                 53.21459                53.21459\n",
       "470930009011                 53.21459                53.21459\n",
       "470930009021                 53.21459                53.21459\n",
       "             sch_female_05.08_private sch_female_09.12_public\n",
       "470930001001                 72.43096                53.21459\n",
       "470930008001                 53.21459               332.59116\n",
       "470930008002                 53.21459               310.78796\n",
       "470930008003                 53.21459                53.21459\n",
       "470930009011                 53.21459                53.21459\n",
       "470930009021                 53.21459                53.21459\n",
       "             sch_female_09.12_private sch_female_undergrad_public\n",
       "470930001001                 53.21459                   378.41483\n",
       "470930008001                 53.21459                  9108.93284\n",
       "470930008002                 53.21459                    53.21459\n",
       "470930008003                 53.21459                  1038.05397\n",
       "470930009011                 53.21459                 13908.22332\n",
       "470930009021                 53.21459                132593.37959\n",
       "             sch_female_undergrad_private sch_female_grad.prof_public\n",
       "470930001001                     53.21459                  3060.20824\n",
       "470930008001                    162.96967                    53.21459\n",
       "470930008002                     53.21459                    72.43096\n",
       "470930008003                     53.21459                    53.21459\n",
       "470930009011                    162.96967                    53.21459\n",
       "470930009021                     53.21459                    53.21459\n",
       "             sch_female_grad.prof_private grade_preschl grade_kind grade_1st\n",
       "470930001001                     53.21459      53.21459   53.21459  53.21459\n",
       "470930008001                     53.21459      53.21459   53.21459  44.71503\n",
       "470930008002                     29.93320      53.21459  683.29007 355.13345\n",
       "470930008003                     53.21459      53.21459   53.21459  53.21459\n",
       "470930009011                     53.21459      53.21459   53.21459  53.21459\n",
       "470930009021                     53.21459      53.21459   53.21459  53.21459\n",
       "             grade_2nd grade_3rd grade_4th grade_5th grade_6th grade_7th\n",
       "470930001001  53.21459 119.73282  53.21459 310.78796  53.21459  53.21459\n",
       "470930008001 212.85834  53.21459  53.21459  53.21459  53.21459  53.21459\n",
       "470930008002 683.29007 378.41483  53.21459  53.21459 230.96608 378.41483\n",
       "470930008003  53.21459  53.21459  53.21459 178.86014  53.21459  53.21459\n",
       "470930009011  53.21459  53.21459  53.21459  53.21459  53.21459  53.21459\n",
       "470930009021  53.21459  53.21459  53.21459  53.21459  53.21459  53.21459\n",
       "             grade_8th grade_9th grade_10th grade_11th grade_12th\n",
       "470930001001  53.21459  53.21459   53.21459   53.21459  683.29007\n",
       "470930008001  53.21459 332.59116   53.21459   53.21459   53.21459\n",
       "470930008002  53.21459  53.21459  310.78796   53.21459   53.21459\n",
       "470930008003  53.21459  53.21459   53.21459   53.21459  533.62404\n",
       "470930009011  53.21459  53.21459   53.21459   53.21459   53.21459\n",
       "470930009021  53.21459  53.21459   53.21459   53.21459   53.21459\n",
       "             grade_undergrad grade_grad cmt_mins_L10 cmt_mins_10.14\n",
       "470930001001      3695.45736 3997.00668    4471.5034      2424.5896\n",
       "470930008001     29387.75510   94.60371    1038.0540      5145.5548\n",
       "470930008002        83.14779  249.81292     427.1949       999.2517\n",
       "470930008003     26344.54597  402.43531    1286.3887      2078.6948\n",
       "470930009011     33704.04930  147.81829    3695.4574      1759.4072\n",
       "470930009021    422302.45471   18.10774    4074.2417      6054.6373\n",
       "             cmt_mins_15.19 cmt_mins_20.24 cmt_mins_25.29 cmt_mins_30.34\n",
       "470930001001      3844.7538      2484.8255     2545.80057       887.2793\n",
       "470930008001       887.2793      7451.5202     2424.58957       427.1949\n",
       "470930008002       106.7987       781.9588       53.21459      1420.5338\n",
       "470930008003     11577.4984      1759.4072     4074.24174       402.4353\n",
       "470930009011       923.8643      1759.4072      378.41483      1117.8759\n",
       "470930009021      4230.9291     16296.9670       53.21459      4972.6074\n",
       "             cmt_mins_35.44 cmt_mins_45.59 cmt_mins_GE60 travel_car_truck_van\n",
       "470930001001      999.25167      816.32653     212.85834            10183.202\n",
       "470930008001      452.69353      923.86434     162.96967            17886.014\n",
       "470930008002       36.95457       83.14779      53.21459             3477.056\n",
       "470930008003     7451.52022       53.21459     402.43531            33704.049\n",
       "470930009011       53.21459      402.43531      53.21459             5866.908\n",
       "470930009021       53.21459       53.21459      53.21459            25755.860\n",
       "             veh_occ_drove_alone veh_occ_carpooled travel_public_transportation\n",
       "470930001001            8993.265         478.93127                    427.19487\n",
       "470930008001           16296.967         505.90811                    355.13345\n",
       "470930008002            3127.835         452.69353                     53.21459\n",
       "470930008003           25951.349        3477.05583                     53.21459\n",
       "470930009011            5960.403          29.93320                    533.62404\n",
       "470930009021           25755.860          53.21459                     53.21459\n",
       "             travel_taxicab travel_motorcycle travel_bicycle travel_walked\n",
       "470930001001       53.21459          53.21459      715.44054    7451.52022\n",
       "470930008001       53.21459          53.21459       53.21459     591.27318\n",
       "470930008002       53.21459          53.21459       36.95457      36.95457\n",
       "470930008003       53.21459          53.21459       53.21459      53.21459\n",
       "470930009011       53.21459          53.21459       53.21459    2365.09271\n",
       "470930009021       53.21459          53.21459       53.21459   36668.17565\n",
       "             travel_other travel_wfh txv_own_no_vehicle txv_own_01_vehicle\n",
       "470930001001     53.21459 1117.87585           53.21459         1609.74123\n",
       "470930008001    887.27931   53.21459           53.21459          478.93127\n",
       "470930008002     53.21459   53.21459           53.21459          402.43531\n",
       "470930008003    212.85834   53.21459           53.21459          621.20638\n",
       "470930009011     53.21459 1375.07968           53.21459           53.21459\n",
       "470930009021     53.21459 3621.91776           53.21459           53.21459\n",
       "             txv_own_02_vehicle txv_own_03_vehicle txv_own_04_vehicle\n",
       "470930001001         2078.69476           18.10774           53.21459\n",
       "470930008001          178.86014           83.14779           53.21459\n",
       "470930008002           36.95457          427.19487           53.21459\n",
       "470930008003          715.44054           53.21459           53.21459\n",
       "470930009011           53.21459           53.21459           53.21459\n",
       "470930009021           53.21459           53.21459           53.21459\n",
       "             txv_own_GE05_vehicle txv_rent_no_vehicle txv_rent_01_vehicle\n",
       "470930001001             53.21459          1810.77411         5590.857438\n",
       "470930008001             53.21459          2365.09271         3621.917758\n",
       "470930008002             53.21459            53.21459          651.878678\n",
       "470930008003            478.93127            53.21459          816.326531\n",
       "470930009011             53.21459            53.21459            9.238643\n",
       "470930009021             53.21459            53.21459          230.966085\n",
       "             txv_rent_02_vehicle txv_rent_03_vehicle txv_rent_04_vehicle\n",
       "470930001001          1243.15186            72.43096           133.40601\n",
       "470930008001          3127.83511          2023.63245           133.40601\n",
       "470930008002          1286.38871            53.21459            53.21459\n",
       "470930008003          1038.05397          1810.77411          1375.07968\n",
       "470930009011            53.21459            53.21459            53.21459\n",
       "470930009021            53.21459            18.10774            53.21459\n",
       "             txv_rent_GE05_vehicle\n",
       "470930001001              53.21459\n",
       "470930008001              53.21459\n",
       "470930008002              53.21459\n",
       "470930008003              53.21459\n",
       "470930009011              53.21459\n",
       "470930009021             195.48969\n"
      ]
     },
     "metadata": {},
     "output_type": "display_data"
    }
   ],
   "source": [
    "V <- list(as.matrix(sg1^2),as.matrix(sg2^2))\n",
    "names(V) <- c(\"lv1\", \"lv2\")\n",
    "if (!is.null(sg0)){\n",
    "  V <- c(list(as.matrix(sg0^2)), V)\n",
    "}\n",
    "lapply(V, head)"
   ]
  },
  {
   "cell_type": "code",
   "execution_count": 28,
   "metadata": {
    "execution": {
     "iopub.execute_input": "2025-02-10T20:50:17.331980Z",
     "iopub.status.busy": "2025-02-10T20:50:17.331650Z",
     "iopub.status.idle": "2025-02-10T20:50:17.336092Z",
     "shell.execute_reply": "2025-02-10T20:50:17.335681Z"
    },
    "vscode": {
     "languageId": "r"
    }
   },
   "outputs": [
    {
     "data": {
      "text/html": [
       "<dl>\n",
       "\t<dt>[[1]]</dt>\n",
       "\t\t<dd><style>\n",
       ".list-inline {list-style: none; margin:0; padding: 0}\n",
       ".list-inline>li {display: inline-block}\n",
       ".list-inline>li:not(:last-child)::after {content: \"\\00b7\"; padding: 0 .5ex}\n",
       "</style>\n",
       "<ol class=list-inline><li>1</li><li>182</li></ol>\n",
       "</dd>\n",
       "\t<dt>$lv1</dt>\n",
       "\t\t<dd><style>\n",
       ".list-inline {list-style: none; margin:0; padding: 0}\n",
       ".list-inline>li {display: inline-block}\n",
       ".list-inline>li:not(:last-child)::after {content: \"\\00b7\"; padding: 0 .5ex}\n",
       "</style>\n",
       "<ol class=list-inline><li>49</li><li>182</li></ol>\n",
       "</dd>\n",
       "\t<dt>$lv2</dt>\n",
       "\t\t<dd><style>\n",
       ".list-inline {list-style: none; margin:0; padding: 0}\n",
       ".list-inline>li {display: inline-block}\n",
       ".list-inline>li:not(:last-child)::after {content: \"\\00b7\"; padding: 0 .5ex}\n",
       "</style>\n",
       "<ol class=list-inline><li>113</li><li>182</li></ol>\n",
       "</dd>\n",
       "</dl>\n"
      ],
      "text/latex": [
       "\\begin{description}\n",
       "\\item[{[[1]]}] \\begin{enumerate*}\n",
       "\\item 1\n",
       "\\item 182\n",
       "\\end{enumerate*}\n",
       "\n",
       "\\item[\\$lv1] \\begin{enumerate*}\n",
       "\\item 49\n",
       "\\item 182\n",
       "\\end{enumerate*}\n",
       "\n",
       "\\item[\\$lv2] \\begin{enumerate*}\n",
       "\\item 113\n",
       "\\item 182\n",
       "\\end{enumerate*}\n",
       "\n",
       "\\end{description}\n"
      ],
      "text/markdown": [
       "[[1]]\n",
       ":   1. 1\n",
       "2. 182\n",
       "\n",
       "\n",
       "\n",
       "$lv1\n",
       ":   1. 49\n",
       "2. 182\n",
       "\n",
       "\n",
       "\n",
       "$lv2\n",
       ":   1. 113\n",
       "2. 182\n",
       "\n",
       "\n",
       "\n",
       "\n",
       "\n"
      ],
      "text/plain": [
       "[[1]]\n",
       "[1]   1 182\n",
       "\n",
       "$lv1\n",
       "[1]  49 182\n",
       "\n",
       "$lv2\n",
       "[1] 113 182\n"
      ]
     },
     "metadata": {},
     "output_type": "display_data"
    }
   ],
   "source": [
    "lapply(V, dim)"
   ]
  },
  {
   "cell_type": "markdown",
   "metadata": {},
   "source": [
    "### Solver Inputs"
   ]
  },
  {
   "cell_type": "code",
   "execution_count": 29,
   "metadata": {
    "execution": {
     "iopub.execute_input": "2025-02-10T20:50:17.337114Z",
     "iopub.status.busy": "2025-02-10T20:50:17.336800Z",
     "iopub.status.idle": "2025-02-10T20:50:17.340564Z",
     "shell.execute_reply": "2025-02-10T20:50:17.340121Z"
    },
    "vscode": {
     "languageId": "r"
    }
   },
   "outputs": [],
   "source": [
    "N <- sum(wt) # Population Size\n",
    "n <- nrow(pX[[1]]) # Sample Size"
   ]
  },
  {
   "cell_type": "code",
   "execution_count": 30,
   "metadata": {
    "execution": {
     "iopub.execute_input": "2025-02-10T20:50:17.341604Z",
     "iopub.status.busy": "2025-02-10T20:50:17.341290Z",
     "iopub.status.idle": "2025-02-10T20:50:17.353094Z",
     "shell.execute_reply": "2025-02-10T20:50:17.352629Z"
    },
    "vscode": {
     "languageId": "r"
    }
   },
   "outputs": [],
   "source": [
    "# Since we are optimizing probabilities p, rather than weights w\n",
    "# Normalize Y (tract/bg data) by N (pop size) and V (tract/bg variances) by n/N^2\n",
    "Y_vec <- do.call('c', lapply(Y, function(x) as.vector(as.matrix(x)))) / N\n",
    "V_vec <- do.call('c', lapply(V, function(x) as.vector(as.matrix(x)))) * (n / N^2)"
   ]
  },
  {
   "cell_type": "code",
   "execution_count": 31,
   "metadata": {
    "execution": {
     "iopub.execute_input": "2025-02-10T20:50:17.354219Z",
     "iopub.status.busy": "2025-02-10T20:50:17.353872Z",
     "iopub.status.idle": "2025-02-10T20:50:17.358196Z",
     "shell.execute_reply": "2025-02-10T20:50:17.357749Z"
    },
    "vscode": {
     "languageId": "r"
    }
   },
   "outputs": [
    {
     "data": {
      "text/html": [
       "29666"
      ],
      "text/latex": [
       "29666"
      ],
      "text/markdown": [
       "29666"
      ],
      "text/plain": [
       "[1] 29666"
      ]
     },
     "metadata": {},
     "output_type": "display_data"
    }
   ],
   "source": [
    "length(Y_vec)"
   ]
  },
  {
   "cell_type": "code",
   "execution_count": 32,
   "metadata": {
    "execution": {
     "iopub.execute_input": "2025-02-10T20:50:17.359381Z",
     "iopub.status.busy": "2025-02-10T20:50:17.359009Z",
     "iopub.status.idle": "2025-02-10T20:50:17.363689Z",
     "shell.execute_reply": "2025-02-10T20:50:17.363221Z"
    },
    "vscode": {
     "languageId": "r"
    }
   },
   "outputs": [
    {
     "data": {
      "text/html": [
       "29666"
      ],
      "text/latex": [
       "29666"
      ],
      "text/markdown": [
       "29666"
      ],
      "text/plain": [
       "[1] 29666"
      ]
     },
     "metadata": {},
     "output_type": "display_data"
    }
   ],
   "source": [
    "length(V_vec)"
   ]
  },
  {
   "cell_type": "code",
   "execution_count": 33,
   "metadata": {
    "execution": {
     "iopub.execute_input": "2025-02-10T20:50:17.364909Z",
     "iopub.status.busy": "2025-02-10T20:50:17.364510Z",
     "iopub.status.idle": "2025-02-10T20:50:17.370202Z",
     "shell.execute_reply": "2025-02-10T20:50:17.369750Z"
    },
    "vscode": {
     "languageId": "r"
    }
   },
   "outputs": [],
   "source": [
    "# Will need a matrix V, not a vector V (variance-covariance matrix as sparse diagonal mat)\n",
    "sV <- Matrix::.sparseDiagonal(x = V_vec, shape = \"g\")"
   ]
  },
  {
   "cell_type": "code",
   "execution_count": 34,
   "metadata": {
    "execution": {
     "iopub.execute_input": "2025-02-10T20:50:17.371453Z",
     "iopub.status.busy": "2025-02-10T20:50:17.371033Z",
     "iopub.status.idle": "2025-02-10T20:50:17.375634Z",
     "shell.execute_reply": "2025-02-10T20:50:17.375221Z"
    },
    "vscode": {
     "languageId": "r"
    }
   },
   "outputs": [
    {
     "data": {
      "text/html": [
       "<style>\n",
       ".list-inline {list-style: none; margin:0; padding: 0}\n",
       ".list-inline>li {display: inline-block}\n",
       ".list-inline>li:not(:last-child)::after {content: \"\\00b7\"; padding: 0 .5ex}\n",
       "</style>\n",
       "<ol class=list-inline><li>29666</li><li>29666</li></ol>\n"
      ],
      "text/latex": [
       "\\begin{enumerate*}\n",
       "\\item 29666\n",
       "\\item 29666\n",
       "\\end{enumerate*}\n"
      ],
      "text/markdown": [
       "1. 29666\n",
       "2. 29666\n",
       "\n",
       "\n"
      ],
      "text/plain": [
       "[1] 29666 29666"
      ]
     },
     "metadata": {},
     "output_type": "display_data"
    }
   ],
   "source": [
    "dim(sV)"
   ]
  },
  {
   "cell_type": "code",
   "execution_count": 35,
   "metadata": {
    "execution": {
     "iopub.execute_input": "2025-02-10T20:50:17.376718Z",
     "iopub.status.busy": "2025-02-10T20:50:17.376379Z",
     "iopub.status.idle": "2025-02-10T20:50:18.076730Z",
     "shell.execute_reply": "2025-02-10T20:50:18.076149Z"
    },
    "vscode": {
     "languageId": "r"
    }
   },
   "outputs": [],
   "source": [
    "X <- rbind(kronecker(Matrix::t(pX[[1]]), A[[\"lv1\"]]), kronecker(Matrix::t(pX[[2]]), A[[\"lv2\"]]))\n"
   ]
  },
  {
   "cell_type": "code",
   "execution_count": 36,
   "metadata": {
    "execution": {
     "iopub.execute_input": "2025-02-10T20:50:18.077840Z",
     "iopub.status.busy": "2025-02-10T20:50:18.077519Z",
     "iopub.status.idle": "2025-02-10T20:50:18.572134Z",
     "shell.execute_reply": "2025-02-10T20:50:18.571578Z"
    },
    "vscode": {
     "languageId": "r"
    }
   },
   "outputs": [],
   "source": [
    "if (!is.null(A0)){\n",
    "  X <- rbind(kronecker(Matrix::t(pX[[1]]), A[[\"lv0\"]]), X)\n",
    "}\n",
    "X <- Matrix::t(X)\n",
    "X <- Matrix::Matrix(X, sparse = TRUE)"
   ]
  },
  {
   "cell_type": "code",
   "execution_count": 37,
   "metadata": {
    "execution": {
     "iopub.execute_input": "2025-02-10T20:50:18.573293Z",
     "iopub.status.busy": "2025-02-10T20:50:18.572941Z",
     "iopub.status.idle": "2025-02-10T20:50:18.577352Z",
     "shell.execute_reply": "2025-02-10T20:50:18.576961Z"
    },
    "vscode": {
     "languageId": "r"
    }
   },
   "outputs": [
    {
     "data": {
      "text/html": [
       "<style>\n",
       ".list-inline {list-style: none; margin:0; padding: 0}\n",
       ".list-inline>li {display: inline-block}\n",
       ".list-inline>li:not(:last-child)::after {content: \"\\00b7\"; padding: 0 .5ex}\n",
       "</style>\n",
       "<ol class=list-inline><li>566921</li><li>29666</li></ol>\n"
      ],
      "text/latex": [
       "\\begin{enumerate*}\n",
       "\\item 566921\n",
       "\\item 29666\n",
       "\\end{enumerate*}\n"
      ],
      "text/markdown": [
       "1. 566921\n",
       "2. 29666\n",
       "\n",
       "\n"
      ],
      "text/plain": [
       "[1] 566921  29666"
      ]
     },
     "metadata": {},
     "output_type": "display_data"
    }
   ],
   "source": [
    "dim(X)"
   ]
  },
  {
   "cell_type": "code",
   "execution_count": 38,
   "metadata": {
    "execution": {
     "iopub.execute_input": "2025-02-10T20:50:18.578387Z",
     "iopub.status.busy": "2025-02-10T20:50:18.578052Z",
     "iopub.status.idle": "2025-02-10T20:50:18.614523Z",
     "shell.execute_reply": "2025-02-10T20:50:18.614109Z"
    }
   },
   "outputs": [
    {
     "data": {
      "text/plain": [
       "6 x 29666 sparse Matrix of class \"dgCMatrix\"\n",
       "                                                                               \n",
       "[1,] 2.76 . 1 1 2.76 1 . . . . . 1 . . 1.76 1 . . . . . . . . . . . . . . . . .\n",
       "[2,] 2.76 . 1 1 2.76 1 . . . . . 1 . . 1.76 1 . . . . . . . . . . . . . . . . .\n",
       "[3,] 2.76 . 1 1 2.76 1 . . . . . 1 . . 1.76 1 . . . . . . . . . . . . . . . . .\n",
       "[4,] 2.76 . 1 1 2.76 1 . . . . . 1 . . 1.76 1 . . . . . . . . . . . . . . . . .\n",
       "[5,] 2.76 . 1 1 2.76 1 . . . . . 1 . . 1.76 1 . . . . . . . . . . . . . . . . .\n",
       "[6,] 2.76 . 1 1 2.76 1 . . . . . 1 . . 1.76 1 . . . . . . . . . . . . . . . . .\n",
       "             \n",
       "[1,] . ......\n",
       "[2,] . ......\n",
       "[3,] . ......\n",
       "[4,] . ......\n",
       "[5,] . ......\n",
       "[6,] . ......\n",
       "\n",
       " .....suppressing 29632 columns in show(); maybe adjust options(max.print=, width=)\n",
       " .............................."
      ]
     },
     "metadata": {},
     "output_type": "display_data"
    }
   ],
   "source": [
    "head(X)"
   ]
  },
  {
   "cell_type": "code",
   "execution_count": 39,
   "metadata": {
    "execution": {
     "iopub.execute_input": "2025-02-10T20:50:18.615514Z",
     "iopub.status.busy": "2025-02-10T20:50:18.615210Z",
     "iopub.status.idle": "2025-02-10T20:50:18.619195Z",
     "shell.execute_reply": "2025-02-10T20:50:18.618809Z"
    },
    "vscode": {
     "languageId": "r"
    }
   },
   "outputs": [
    {
     "data": {
      "text/html": [
       "'dgCMatrix'"
      ],
      "text/latex": [
       "'dgCMatrix'"
      ],
      "text/markdown": [
       "'dgCMatrix'"
      ],
      "text/plain": [
       "[1] \"dgCMatrix\"\n",
       "attr(,\"package\")\n",
       "[1] \"Matrix\""
      ]
     },
     "metadata": {},
     "output_type": "display_data"
    }
   ],
   "source": [
    "class(sV)"
   ]
  },
  {
   "cell_type": "code",
   "execution_count": 40,
   "metadata": {
    "execution": {
     "iopub.execute_input": "2025-02-10T20:50:18.620198Z",
     "iopub.status.busy": "2025-02-10T20:50:18.619884Z",
     "iopub.status.idle": "2025-02-10T20:50:18.626579Z",
     "shell.execute_reply": "2025-02-10T20:50:18.626152Z"
    },
    "vscode": {
     "languageId": "r"
    }
   },
   "outputs": [],
   "source": [
    "# Create design weights and normalize\n",
    "q <- matrix(wt, n, dim(A[[\"lv1\"]])[2])\n",
    "q <- q / sum(as.numeric(q))\n",
    "q <- as.vector(Matrix::t(q))"
   ]
  },
  {
   "cell_type": "markdown",
   "metadata": {},
   "source": [
    "## Solve P-MEDM Problem"
   ]
  },
  {
   "cell_type": "code",
   "execution_count": 41,
   "metadata": {
    "execution": {
     "iopub.execute_input": "2025-02-10T20:50:18.627662Z",
     "iopub.status.busy": "2025-02-10T20:50:18.627329Z",
     "iopub.status.idle": "2025-02-10T20:50:18.658745Z",
     "shell.execute_reply": "2025-02-10T20:50:18.658214Z"
    },
    "vscode": {
     "languageId": "r"
    }
   },
   "outputs": [],
   "source": [
    "# this is typically handled internally\n",
    "# but needs to be called explicitly here\n",
    "library(Rcpp)"
   ]
  },
  {
   "cell_type": "code",
   "execution_count": 42,
   "metadata": {
    "execution": {
     "iopub.execute_input": "2025-02-10T20:50:18.659930Z",
     "iopub.status.busy": "2025-02-10T20:50:18.659497Z",
     "iopub.status.idle": "2025-02-10T20:50:18.663052Z",
     "shell.execute_reply": "2025-02-10T20:50:18.662596Z"
    },
    "vscode": {
     "languageId": "r"
    }
   },
   "outputs": [],
   "source": [
    "tol = 1e-6"
   ]
  },
  {
   "cell_type": "code",
   "execution_count": 43,
   "metadata": {
    "execution": {
     "iopub.execute_input": "2025-02-10T20:50:18.664205Z",
     "iopub.status.busy": "2025-02-10T20:50:18.663813Z",
     "iopub.status.idle": "2025-02-10T20:50:18.667217Z",
     "shell.execute_reply": "2025-02-10T20:50:18.666804Z"
    },
    "vscode": {
     "languageId": "r"
    }
   },
   "outputs": [],
   "source": [
    "tr_iter <- 500"
   ]
  },
  {
   "cell_type": "code",
   "execution_count": 44,
   "metadata": {
    "execution": {
     "iopub.execute_input": "2025-02-10T20:50:18.668458Z",
     "iopub.status.busy": "2025-02-10T20:50:18.668039Z",
     "iopub.status.idle": "2025-02-10T20:50:18.673964Z",
     "shell.execute_reply": "2025-02-10T20:50:18.673490Z"
    },
    "vscode": {
     "languageId": "r"
    }
   },
   "outputs": [],
   "source": [
    "pmedm_opts = PMEDMrcpp::get_PMEDM_opts()                  \n",
    "if (!is.null(tol)){\n",
    "    pmedm_opts[[\"tr_tol\"]] <- tol\n",
    "    pmedm_opts[[\"tr_iter\"]] <- tr_iter\n",
    "}else{\n",
    "    pmedm_opts <- NULL\n",
    "}"
   ]
  },
  {
   "cell_type": "code",
   "execution_count": 45,
   "metadata": {
    "execution": {
     "iopub.execute_input": "2025-02-10T20:50:18.675131Z",
     "iopub.status.busy": "2025-02-10T20:50:18.674765Z",
     "iopub.status.idle": "2025-02-10T20:50:18.679548Z",
     "shell.execute_reply": "2025-02-10T20:50:18.679115Z"
    },
    "vscode": {
     "languageId": "r"
    }
   },
   "outputs": [
    {
     "data": {
      "text/html": [
       "<dl>\n",
       "\t<dt>$precon_type</dt>\n",
       "\t\t<dd>1</dd>\n",
       "\t<dt>$tr_iter</dt>\n",
       "\t\t<dd>500</dd>\n",
       "\t<dt>$tr_rad</dt>\n",
       "\t\t<dd>1</dd>\n",
       "\t<dt>$precon_reset</dt>\n",
       "\t\t<dd>20</dd>\n",
       "\t<dt>$tr_tol</dt>\n",
       "\t\t<dd>1e-06</dd>\n",
       "\t<dt>$max_iter</dt>\n",
       "\t\t<dd>200</dd>\n",
       "</dl>\n"
      ],
      "text/latex": [
       "\\begin{description}\n",
       "\\item[\\$precon\\_type] 1\n",
       "\\item[\\$tr\\_iter] 500\n",
       "\\item[\\$tr\\_rad] 1\n",
       "\\item[\\$precon\\_reset] 20\n",
       "\\item[\\$tr\\_tol] 1e-06\n",
       "\\item[\\$max\\_iter] 200\n",
       "\\end{description}\n"
      ],
      "text/markdown": [
       "$precon_type\n",
       ":   1\n",
       "$tr_iter\n",
       ":   500\n",
       "$tr_rad\n",
       ":   1\n",
       "$precon_reset\n",
       ":   20\n",
       "$tr_tol\n",
       ":   1e-06\n",
       "$max_iter\n",
       ":   200\n",
       "\n",
       "\n"
      ],
      "text/plain": [
       "$precon_type\n",
       "[1] 1\n",
       "\n",
       "$tr_iter\n",
       "[1] 500\n",
       "\n",
       "$tr_rad\n",
       "[1] 1\n",
       "\n",
       "$precon_reset\n",
       "[1] 20\n",
       "\n",
       "$tr_tol\n",
       "[1] 1e-06\n",
       "\n",
       "$max_iter\n",
       "[1] 200\n"
      ]
     },
     "metadata": {},
     "output_type": "display_data"
    }
   ],
   "source": [
    "pmedm_opts"
   ]
  },
  {
   "cell_type": "code",
   "execution_count": 46,
   "metadata": {
    "execution": {
     "iopub.execute_input": "2025-02-10T20:50:18.680632Z",
     "iopub.status.busy": "2025-02-10T20:50:18.680291Z",
     "iopub.status.idle": "2025-02-10T20:52:21.973762Z",
     "shell.execute_reply": "2025-02-10T20:52:21.973145Z"
    },
    "vscode": {
     "languageId": "r"
    }
   },
   "outputs": [
    {
     "name": "stdout",
     "output_type": "stream",
     "text": [
      "Using Sparse Hessian Preconditioner\n",
      "Initializing PMEDM solver\n",
      "Starting Trust Region Algorithm\n",
      " iter          fun     ||grad|| ||try step||      act red     pred red     radius inner iter\n",
      "    0 -8.12572e-13     0.279614            1     -4.05997      1.39753          1           0\n",
      "    1 -8.12572e-13     0.279614         0.25     0.439787     0.443132       0.25           0\n",
      "    2    -0.439787     0.244251          0.5     0.273116     0.621681        0.5           0\n",
      "    3    -0.712903      4.69929          0.5     0.483419     0.405041        0.5          10\n",
      "    4     -1.19632      1.95496            1    -0.922388     0.356935          1          16\n",
      "    5     -1.19632      1.95496          nan          nan          nan       0.25          10\n",
      "    6     -1.19632      1.95496          nan          nan          nan     0.0625           7\n",
      "    7     -1.19632      1.95496          nan          nan          nan   0.015625           6\n",
      "    8     -1.19632      1.95496          nan          nan          nan 0.00390625           4\n",
      "    9     -1.19632      1.95496          nan          nan          nan 0.000976562           4\n",
      "   10     -1.19632      1.95496          nan          nan          nan 0.000244141           2\n",
      "   11     -1.19632      1.95496  6.10352e-05  0.000505588  0.000505583 6.10352e-05           0\n",
      "   12     -1.19683      1.94684          nan          nan          nan 0.00012207           1\n",
      "   13     -1.19683      1.94684  3.05176e-05   0.00025143   0.00025143 3.05176e-05           0\n",
      "   14     -1.19708      1.94281  6.10352e-05  0.000500157  0.000500153 6.10352e-05           0\n",
      "   15     -1.19758      1.93479          nan          nan          nan 0.00012207           1\n",
      "   16     -1.19758      1.93479  3.05176e-05  0.000248737  0.000248737 3.05176e-05           0\n",
      "   17     -1.19783      1.93081  6.10352e-05  0.000494816  0.000494811 6.10352e-05           0\n",
      "   18     -1.19832      1.92289          nan          nan          nan 0.00012207           1\n",
      "   19     -1.19832      1.92289  3.05176e-05  0.000246089  0.000246088 3.05176e-05           0\n",
      "Using Sparse Hessian Preconditioner\n",
      "   20     -1.19857      1.91895  0.000476896   0.00042111   0.00042111 0.000476896           0\n",
      "   21     -1.19899      1.91791  0.000953792  0.000841537  0.000841537 0.000953792           0\n",
      "   22     -1.19983      1.91584   0.00190758   0.00168035   0.00168035 0.00190758           0\n",
      "   23     -1.20151       1.9117   0.00381517    0.0033498   0.00334979 0.00381517           0\n",
      "   24     -1.20486      1.90343   0.00763034    0.0066561   0.00665607 0.00763034           0\n",
      "   25     -1.21152      1.88694    0.0152607    0.0131389    0.0131387  0.0152607           0\n",
      "   26     -1.22466      1.85416    0.0305214      0.02559    0.0255881  0.0305214           0\n",
      "   27     -1.25025      1.78937    0.0610427    0.0484646    0.0484526  0.0610427           0\n",
      "   28     -1.29871      1.66315     0.122085    0.0862861    0.0862322   0.122085           0\n",
      "   29       -1.385      1.42547     0.244171     0.131837     0.131588   0.244171           0\n",
      "   30     -1.51683      1.01628          nan          nan          nan   0.488342           3\n",
      "   31     -1.51683      1.01628     0.122085    0.0493065    0.0487334   0.122085           0\n",
      "   32     -1.56614     0.836631     0.244171    0.0715381    0.0719724   0.244171           0\n",
      "   33     -1.63768     0.566044     0.622327    0.0877324    0.0746596   0.488342          49\n",
      "   34     -1.72541     0.181933     0.385294    0.0131768    0.0113306   0.976684          72\n",
      "   35     -1.73859    0.0579078     0.280587   0.00227284   0.00186509    1.95337         106\n",
      "   36     -1.74086    0.0190677     0.265451   0.00065124  0.000521267    3.90673         166\n",
      "   37     -1.74151   0.00670446     0.264077  0.000218325  0.000174655    7.81347         254\n",
      "   38     -1.74173   0.00241469     0.284432  8.60591e-05  6.58861e-05    15.6269         291\n",
      "   39     -1.74182  0.000904211      0.53731  6.19536e-05  4.63092e-05    31.2539         314\n",
      "Using Sparse Hessian Preconditioner\n",
      "   40     -1.74188  0.000309059   0.00667494  2.51755e-05  2.22774e-05    1.34705           1\n",
      "   41      -1.7419  5.99872e-05    0.0025343   1.8596e-06  1.76201e-06    2.69411           8\n",
      "   42     -1.74191  3.51773e-06  0.000249287  1.39741e-08  1.39108e-08    5.38822           9\n",
      "   43     -1.74191  2.84428e-08           -            -            -          -           - \n",
      "Solver ended with convergence\n"
     ]
    }
   ],
   "source": [
    "t <- PMEDMrcpp::PMEDM_solve(X, Y_vec, sV, q, opt = pmedm_opts)"
   ]
  },
  {
   "cell_type": "markdown",
   "metadata": {},
   "source": [
    "## Check Results "
   ]
  },
  {
   "cell_type": "code",
   "execution_count": 47,
   "metadata": {
    "execution": {
     "iopub.execute_input": "2025-02-10T20:52:21.975099Z",
     "iopub.status.busy": "2025-02-10T20:52:21.974680Z",
     "iopub.status.idle": "2025-02-10T20:52:21.980093Z",
     "shell.execute_reply": "2025-02-10T20:52:21.979566Z"
    },
    "vscode": {
     "languageId": "r"
    }
   },
   "outputs": [],
   "source": [
    "pmd <- list(\n",
    "      almat = matrix(t$p * N, nrow(cind), dim(A[[1]])[2], byrow = TRUE),\n",
    "      serialno = rownames(cind),\n",
    "      geoid = rownames(Y[[length(Y)]])\n",
    ")"
   ]
  },
  {
   "cell_type": "code",
   "execution_count": 48,
   "metadata": {
    "execution": {
     "iopub.execute_input": "2025-02-10T20:52:21.981323Z",
     "iopub.status.busy": "2025-02-10T20:52:21.980947Z",
     "iopub.status.idle": "2025-02-10T20:52:21.989546Z",
     "shell.execute_reply": "2025-02-10T20:52:21.989022Z"
    },
    "vscode": {
     "languageId": "r"
    }
   },
   "outputs": [],
   "source": [
    "Yhat <- t(pmd$almat) %*% cind\n",
    "rownames(Yhat) <- pmd$geoid"
   ]
  },
  {
   "cell_type": "code",
   "execution_count": 49,
   "metadata": {
    "execution": {
     "iopub.execute_input": "2025-02-10T20:52:21.990715Z",
     "iopub.status.busy": "2025-02-10T20:52:21.990353Z",
     "iopub.status.idle": "2025-02-10T20:52:21.993824Z",
     "shell.execute_reply": "2025-02-10T20:52:21.993349Z"
    },
    "vscode": {
     "languageId": "r"
    }
   },
   "outputs": [],
   "source": [
    "# output too long - uncomment & run interactively\n",
    "# Yhat"
   ]
  },
  {
   "cell_type": "code",
   "execution_count": 50,
   "metadata": {
    "execution": {
     "iopub.execute_input": "2025-02-10T20:52:21.995048Z",
     "iopub.status.busy": "2025-02-10T20:52:21.994673Z",
     "iopub.status.idle": "2025-02-10T20:52:22.001342Z",
     "shell.execute_reply": "2025-02-10T20:52:22.000844Z"
    },
    "vscode": {
     "languageId": "r"
    }
   },
   "outputs": [],
   "source": [
    "err <- Yhat - Y[[\"lv2\"]]"
   ]
  },
  {
   "cell_type": "code",
   "execution_count": 51,
   "metadata": {
    "execution": {
     "iopub.execute_input": "2025-02-10T20:52:22.002532Z",
     "iopub.status.busy": "2025-02-10T20:52:22.002162Z",
     "iopub.status.idle": "2025-02-10T20:52:22.005808Z",
     "shell.execute_reply": "2025-02-10T20:52:22.005347Z"
    },
    "vscode": {
     "languageId": "r"
    }
   },
   "outputs": [],
   "source": [
    "moe <- sqrt(V[[\"lv2\"]]) * 1.645"
   ]
  },
  {
   "cell_type": "code",
   "execution_count": 52,
   "metadata": {
    "execution": {
     "iopub.execute_input": "2025-02-10T20:52:22.006942Z",
     "iopub.status.busy": "2025-02-10T20:52:22.006598Z",
     "iopub.status.idle": "2025-02-10T20:52:22.016189Z",
     "shell.execute_reply": "2025-02-10T20:52:22.015707Z"
    },
    "vscode": {
     "languageId": "r"
    }
   },
   "outputs": [],
   "source": [
    "in_moe <- abs(err) < moe"
   ]
  },
  {
   "cell_type": "code",
   "execution_count": 53,
   "metadata": {
    "execution": {
     "iopub.execute_input": "2025-02-10T20:52:22.017293Z",
     "iopub.status.busy": "2025-02-10T20:52:22.016963Z",
     "iopub.status.idle": "2025-02-10T20:52:22.020036Z",
     "shell.execute_reply": "2025-02-10T20:52:22.019619Z"
    },
    "vscode": {
     "languageId": "r"
    }
   },
   "outputs": [],
   "source": [
    "# output too long - uncomment & run interactively\n",
    "# in_moe"
   ]
  },
  {
   "cell_type": "code",
   "execution_count": 54,
   "metadata": {
    "execution": {
     "iopub.execute_input": "2025-02-10T20:52:22.021229Z",
     "iopub.status.busy": "2025-02-10T20:52:22.020847Z",
     "iopub.status.idle": "2025-02-10T20:52:22.025454Z",
     "shell.execute_reply": "2025-02-10T20:52:22.025037Z"
    },
    "vscode": {
     "languageId": "r"
    }
   },
   "outputs": [
    {
     "data": {
      "text/html": [
       "0.99936788874842"
      ],
      "text/latex": [
       "0.99936788874842"
      ],
      "text/markdown": [
       "0.99936788874842"
      ],
      "text/plain": [
       "[1] 0.9993679"
      ]
     },
     "metadata": {},
     "output_type": "display_data"
    }
   ],
   "source": [
    "sum(in_moe) / prod(dim(in_moe))"
   ]
  }
 ],
 "metadata": {
  "kernelspec": {
   "display_name": "R",
   "language": "R",
   "name": "ir"
  },
  "language_info": {
   "codemirror_mode": "r",
   "file_extension": ".r",
   "mimetype": "text/x-r-source",
   "name": "R",
   "pygments_lexer": "r",
   "version": "4.3.3"
  }
 },
 "nbformat": 4,
 "nbformat_minor": 4
}
